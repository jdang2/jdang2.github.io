{
 "cells": [
  {
   "cell_type": "markdown",
   "source": "<center><img alt=\"title\" src=\"./assets/TFT.jpg\"/></center>",
   "metadata": {
    "cell_id": "385425b7-9776-4eec-aa00-83e984e80c4e",
    "deepnote_cell_type": "markdown",
    "deepnote_cell_height": 670
   }
  },
  {
   "cell_type": "markdown",
   "source": "# <center>Predicting the Best Strategy to Win in Teamfight Tactics</center>",
   "metadata": {
    "pycharm": {
     "name": "#%% md\n"
    },
    "cell_id": "00001-ddf48700-feb0-4b98-9e47-54a668587620",
    "deepnote_cell_type": "markdown",
    "deepnote_cell_height": 134
   }
  },
  {
   "cell_type": "markdown",
   "source": "**<center>Jason Dang, Nhat-Nguyen Vo, Wisely Kong</center>**",
   "metadata": {
    "cell_id": "00002-ccfc5785-174a-4334-830e-05c367ba149f",
    "deepnote_cell_type": "markdown",
    "deepnote_cell_height": 66.390625
   }
  },
  {
   "cell_type": "markdown",
   "source": "## <center>Introduction</center>\n\nTeamfight Tactics (TFT) is an auto battler game developed by Riot Games. Auto battlers are strategy based games in which the player is given preparation time in order to assemble a team on a chess-like board (we'll just call these teams boards) with various units in order to fight an opposing player's board. These fights between boards do not receive any additional input from its players, as the units automatically move and attack until the enemy's board has no units.\n\nSince TFT is a rather complex strategy game, there a variety of concepts to understand about the game.\n\nIn the game of TFT, there are 8 players per game. The main objective in each game is to be among the last 4 players left alive, as the game considers \"Top 4\" to be a moral victory. But in order to truly win a game of TFT, a player must obviously be the last player left alive. The main factors that go into a player's game are: their Health, Gold, Level, Units, Augments, and Components/Items.\n\n- Health: Each player starts off with 100 Health. When a player loses a battle, their health is reduced based on how long the game has lasted and how many units are remaining on the board. At 0 Health, the player is defeated.\n- Gold: During each preparation phase, the player is given Gold to utilize in order to make their board as strong as possible. Players can spend their Gold on either Levels or Units in order to do so.\n- Level: The amount of units a player can place on their board is dependent on their current level. A player at level 3 can only place 3 units, level 4 can only place 4 units, and so on. The player naturally levels up as the game progresses but can also utilize their Gold during the preparation phase to level up faster.\n- Units: During the preparation phase before facing against an opposing player's board, the player is presented a \"Shop\" with 5 Units in which they can utilize their Gold in order to purchase and place on their board for the next fight. The player can choose to use their Gold instead to re-roll the Shop to choose from 5 different choices. The Units in the Shop have three important aspects: Traits, Cost, and Rarity\n    - Traits: Units have \"Traits\" that grant special effects for Unit with the Trait, but these effects can only be activated when a certain number of unique Units (with the Trait) are placed on the board at the same time. The more Units of the same trait, the stronger the effect.\n    - Cost: When Units appear in the Shop, they cost a certain amount of Gold to purchase. The amount a Unit costs relates to how powerful the Unit is, where a Unit costing 1 Gold (the lowest amount) is comparatively weaker to a Unit costing 5 Gold (the highest amount). In addition, the Cost of a Unit relates to how often they would appear in a Shop, where a 1 Gold Unit will appear more often than a 5 Gold Unit.\n    - Rarity: When first purchased from the Shop, Units starts at \"1-Star\". When 3 of the same Unit is purchased the Unit upgrades into \"2-Star\", in which the Unit's strength is increased. When 3 \"2-Star\" Units (of the same type) are made, the Unit becomes a \"3-Star\". The likelihood of reaching \"3-Star\" is more likely for lower Cost Units (1, 2, 3 Cost Units) compared to higher Cost Units (4, 5 Cost Units) due to how often lower Cost Units appear in the Shop.\n- Augments: In certain intervals of the game players are presented with 3 options that provides a variety of benefits to the player, by either making certain Traits stronger or being granted multiple 5 Cost Units for free. Players can only have 3 Augments per game.\n- Components/Items: In certain intervals of the game, players are granted materials, also known as Components, in which they can place on their Units to make them stronger. When two Components are combined (by placing both onto a unit), an Item is created based on the combined components that grants special effects for that specific Unit. A Unit can only have a maximum combination of 3 Items/Components and cannot be interchanged once placed. Ideally, the most important Units on a player's board will always receive 3 Items.\n\nMore information on the game can be found [here](https://tftactics.gg/).\n\n<center><img alt=\"ExampleTFT\" src=\"./assets/TFT_Example.png\" title=\"TFT Concepts in Game\"/></center>\n\n<center><img alt=\"ExampleAugments\"  src=\"./assets/Augments.png\" title=\"Augment Example\"/></center>",
   "metadata": {
    "pycharm": {
     "name": "#%% md\n"
    },
    "cell_id": "00003-d7d4551e-c86a-4a24-8d52-55b57c78c066",
    "deepnote_cell_type": "markdown",
    "deepnote_cell_height": 2106.875
   }
  },
  {
   "cell_type": "markdown",
   "source": "In this tutorial...",
   "metadata": {
    "cell_id": "00004-35e1c11e-fe70-4dc0-9570-fe2541674510",
    "deepnote_cell_type": "markdown",
    "deepnote_cell_height": 52.390625
   }
  },
  {
   "cell_type": "markdown",
   "source": "## <center>Data Collection</center>\n\nIn order to predict the best strategy in order to win in TFT, we must first decide where we will be retrieving our data. We decided the best source of data would come from the best players in the game, as they are considered the best for a reason: they know how to win. In TFT, the top players at a given time can be located through [this link, showing the leaderboard for the top players in North America](https://lolchess.gg/leaderboards?mode=ranked&region=na). As for the contents of the data, we arbitrarily chose to select the top 100 players and their last 75 games played. Since the leaderboard is constantly changing every few minutes, as players move up and down the leaderboard, we uploaded a compiled dataset to [Kaggle](https://www.kaggle.com/datasets/cmsc320tftproject/cmsc320-tft-challenger-dataset-set-65) to ease the replication process of this tutorial and have to have the data be consistent with what we use. But for clarity sakes, we will showcase the data scraping process.\n\nThe first step is gathering the names of those within the Top 100 rankings, based on the leaderboard website. The next step is to utilize the Riot Games API in order to extract the necessary data, that being the most recent 75 games those 100 players have played. In order to access the Riot Games API, you must [create / login](https://developer.riotgames.com/) to a Riot Games account to generate a development API key. Again, downloading the dataset from Kaggle will allow you to avoid having to deal with creating a development API key. Once the names are gathered and an API Key is obtained, the final step would be to compile and tidy the relevant data into a table.",
   "metadata": {
    "collapsed": false,
    "cell_id": "00005-db932346-016a-41ed-b023-6d3062654091",
    "deepnote_cell_type": "markdown",
    "deepnote_cell_height": 368.6875
   }
  },
  {
   "cell_type": "code",
   "metadata": {
    "collapsed": false,
    "jupyter": {
     "outputs_hidden": false
    },
    "pycharm": {
     "name": "#%%\n"
    },
    "cell_id": "00006-93395be4-5fa8-42e6-9f79-669e6dd09944",
    "deepnote_to_be_reexecuted": false,
    "source_hash": "2f8a91c9",
    "execution_start": 1652235182988,
    "execution_millis": 0,
    "deepnote_cell_type": "code",
    "deepnote_cell_height": 189
   },
   "source": "# Import the necessary libraries that will be used for the tutorial\nimport requests\nimport csv\nfrom bs4 import BeautifulSoup\nimport json\nimport pandas as pd\nfrom ast import literal_eval",
   "execution_count": 51,
   "outputs": []
  },
  {
   "cell_type": "code",
   "metadata": {
    "collapsed": false,
    "pycharm": {
     "name": "#%%\n"
    },
    "cell_id": "00007-4e04db46-8424-4682-9944-281daf5c8edb",
    "deepnote_to_be_reexecuted": false,
    "source_hash": "871c5cd4",
    "execution_start": 1652226321823,
    "execution_millis": 1309,
    "deepnote_cell_type": "code",
    "deepnote_cell_height": 135
   },
   "source": "# Obtain the HTML for the leaderboard website in order to selectively obtain the names of those in the Top 100.\nleaderboard = requests.get(\"https://lolchess.gg/leaderboards?mode=ranked&region=na\")\n# Using the library BeautifulSoup, parse the HTML to obtain the required information easier (the names of the Top 100)\nsoup = BeautifulSoup(leaderboard.content, 'html.parser')",
   "execution_count": 21,
   "outputs": []
  },
  {
   "cell_type": "code",
   "metadata": {
    "collapsed": false,
    "pycharm": {
     "name": "#%%\n"
    },
    "cell_id": "00008-a9f3f442-8197-4464-931c-7979dc48e56e",
    "deepnote_to_be_reexecuted": false,
    "source_hash": "947dfc1b",
    "execution_start": 1652226325212,
    "execution_millis": 16,
    "deepnote_cell_type": "code",
    "deepnote_cell_height": 405
   },
   "source": "# Create an array in order to hold the names\nplayerList = []\n\n# Limit the HTML to show just the relevant sections (the names)\ntable_body=soup.find('tbody')\nrows = table_body.find_all('tr')\n\n# Iterate through the HTML and store specifically the names of the player into the array.\nfor row in rows:\n    cols=row.find_all('td')\n    cols=[x.text.strip() for x in cols]\n    # Separate irrelevant text from the player's name with .partition()\n    playerList.append(cols[1].partition(\"\\n\\n\"))\n\n# Need to remove the irrelevant text that resulted from the previous .partition() call\ncleanList = []\nfor currentPlayer in playerList:\n    player = (currentPlayer[2].lstrip())\n    cleanList.append(player);",
   "execution_count": 22,
   "outputs": []
  },
  {
   "cell_type": "code",
   "source": "# This is the API Key required to utilize Riot Games API. These expire 24 hours after being generated, so this will need to be updated if you want to progress with the code. \n# Again, the compiled dataset is in the Kaggle link if you want to avoid creating a Riot Games account. \nkey = \"RGAPI-792fade4-60a0-4bc5-968d-2cacf97fe150\"\n# Each player has a unique ID that is recognized by the Riot Games API. With this ID, we can now utilize the API to obtain the last 75 matches of that particular ID.\npuuidList = []\n\n# Iterate through the player's name in order to obtain their PUUID.\nfor player in cleanList:\n    url = \"https://na1.api.riotgames.com/tft/summoner/v1/summoners/by-name/\" + player + \"?api_key=\" + key\n    r = requests.get(url)\n    soup = BeautifulSoup(r.content, 'html.parser')\n    jsonConvert = json.loads(str(soup))\n    \n    try:\n        puuid = jsonConvert['puuid']\n        puuidList.append(puuid)\n    except KeyError:\n        # Calling the API with too many commands could result in a Rate Limit Exceeded Error, which might result in losing data for that specific player.\n        # If experiencing the Rate Limit Exceeded Error, wait to run the code again. \n        print(\"Unable to get \" + player + \" data\")",
   "metadata": {
    "cell_id": "9ba98b96a59a42dd9bed8d834ec4b87b",
    "tags": [],
    "deepnote_to_be_reexecuted": false,
    "source_hash": "b215226f",
    "execution_start": 1652226766089,
    "execution_millis": 33739,
    "deepnote_cell_type": "code",
    "deepnote_cell_height": 423
   },
   "outputs": [],
   "execution_count": 27
  },
  {
   "cell_type": "code",
   "metadata": {
    "collapsed": false,
    "pycharm": {
     "name": "#%%\n"
    },
    "cell_id": "00009-12340c3f-c1e6-4ea2-a5d0-fffa84c4d1f9",
    "deepnote_to_be_reexecuted": false,
    "source_hash": "19bebb41",
    "execution_start": 1652227549431,
    "execution_millis": 50001,
    "deepnote_cell_type": "code",
    "deepnote_cell_height": 405,
    "deepnote_output_heights": [
     21.1875
    ]
   },
   "source": "# Use a dictionary to store the last 75 matches per player.\nmatches = {}\n\nfor current in puuidList:\n    url = \"https://americas.api.riotgames.com/tft/match/v1/matches/by-puuid/\" + current + \"/ids?count=75&api_key=\" + key\n    r = requests.get(url)\n    soup = BeautifulSoup(r.content, 'html.parser')\n    jsonConvert = json.loads(str(soup))\n    matches[current] = jsonConvert\n\nlistToSet = []\n\n#Take the dictionary and convert to a list. Then convert that to a set to create a unique list of matches for the dataset, to remove duplicate matches\nfor puuid in matches:\n    currentMatchList = matches[puuid]\n    for currentMatch in currentMatchList:\n        listToSet.append(currentMatch)\n\nlistToSet = list(set(listToSet))",
   "execution_count": 32,
   "outputs": []
  },
  {
   "cell_type": "code",
   "source": "# Create the dataframe for the data, that will display the relevant information from a match\ndf = pd.DataFrame();\n\n# Since the Riot API limits the amount of requests you can send, you'd have to change the range of the for loop in order to extract all of the matches (i.e. change the [0:10] to a different range of values).\n# This process does take a bit of time, mostly due to waiting for the ability to send more requests\n# The rest of the tutorial will use the aforementioned CSV file from the Kaggle link in order to have consistent data.\nfor match in listToSet[0:10]:\n    url = \"https://americas.api.riotgames.com/tft/match/v1/matches/\" + match + \"?api_key=\" + key\n    r = requests.get(url)\n    soup = BeautifulSoup(r.content, 'html.parser')\n    soup = str(soup)\n    soup = soup.replace(\"\\\">\\\"\", \"\")\n    soup = soup.replace(\"</releases>\", \"\")\n    jsonConvert = json.loads(str(soup))\n    data = pd.DataFrame.from_dict(jsonConvert['info']['participants'])\n    # These dropped columns are irrelevant to the tutorial\n    data = data.drop('companion', axis = 1)\n    data = data.drop('gold_left', axis = 1)\n    data = data.drop('last_round', axis = 1)\n    data = data.drop('players_eliminated', axis = 1)\n    data = data.drop('time_eliminated', axis = 1)\n    data = data.drop('puuid', axis = 1)\n    data = data.drop('total_damage_to_players', axis = 1)\n    data['Match ID'] = jsonConvert['metadata']['match_id']\n    df = pd.concat([df, data], axis = 0)",
   "metadata": {
    "cell_id": "c4dee95f6a94469582c187eb0de320ad",
    "tags": [],
    "deepnote_to_be_reexecuted": false,
    "source_hash": "ef62996e",
    "execution_start": 1652228051050,
    "execution_millis": 4897,
    "deepnote_cell_type": "code",
    "deepnote_cell_height": 513,
    "deepnote_output_heights": [
     611
    ]
   },
   "outputs": [],
   "execution_count": 39
  },
  {
   "cell_type": "code",
   "source": "# The dataset from the CSV, that shows the results and relevant data of all of the matches \ntutorialDataset = pd.read_csv('TFTdataset.csv')\ntutorialDataset",
   "metadata": {
    "cell_id": "ec94e2ce4fb14b6295cf9249bef603c1",
    "tags": [],
    "deepnote_to_be_reexecuted": false,
    "source_hash": "7020c0ad",
    "execution_start": 1652228238668,
    "execution_millis": 1528,
    "deepnote_table_state": {
     "pageSize": 10,
     "pageIndex": 0,
     "filters": [],
     "sortBy": []
    },
    "deepnote_table_loading": false,
    "deepnote_cell_type": "code",
    "deepnote_cell_height": 636
   },
   "outputs": [
    {
     "output_type": "execute_result",
     "execution_count": 41,
     "data": {
      "application/vnd.deepnote.dataframe.v3+json": {
       "column_count": 6,
       "row_count": 40049,
       "columns": [
        {
         "name": "augments",
         "dtype": "object",
         "stats": {
          "unique_count": 37133,
          "nan_count": 49,
          "categories": [
           {
            "name": "[]",
            "count": 7
           },
           {
            "name": "37132 others",
            "count": 39993
           },
           {
            "name": "Missing",
            "count": 49
           }
          ]
         }
        },
        {
         "name": "level",
         "dtype": "float64",
         "stats": {
          "unique_count": 8,
          "nan_count": 49,
          "min": "3.0",
          "max": "10.0",
          "histogram": [
           {
            "bin_start": 3,
            "bin_end": 3.7,
            "count": 8
           },
           {
            "bin_start": 3.7,
            "bin_end": 4.4,
            "count": 5
           },
           {
            "bin_start": 4.4,
            "bin_end": 5.1,
            "count": 69
           },
           {
            "bin_start": 5.1,
            "bin_end": 5.8,
            "count": 0
           },
           {
            "bin_start": 5.8,
            "bin_end": 6.5,
            "count": 622
           },
           {
            "bin_start": 6.5,
            "bin_end": 7.199999999999999,
            "count": 4669
           },
           {
            "bin_start": 7.199999999999999,
            "bin_end": 7.8999999999999995,
            "count": 0
           },
           {
            "bin_start": 7.8999999999999995,
            "bin_end": 8.6,
            "count": 23390
           },
           {
            "bin_start": 8.6,
            "bin_end": 9.3,
            "count": 11173
           },
           {
            "bin_start": 9.3,
            "bin_end": 10,
            "count": 64
           }
          ]
         }
        },
        {
         "name": "placement",
         "dtype": "float64"
        },
        {
         "name": "traits",
         "dtype": "object"
        },
        {
         "name": "units",
         "dtype": "object"
        },
        {
         "name": "Match ID",
         "dtype": "object"
        },
        {
         "name": "_deepnote_index_column",
         "dtype": "int64"
        }
       ],
       "rows": [
        {
         "augments": "['TFT6_Augment_DebonairTrait', 'TFT6_Augment_Distancing2', 'TFT6_Augment_DebonairEmblem2']",
         "level": 7,
         "placement": 8,
         "traits": "[{'name': 'Set6_Assassin', 'num_units': 2, 'style': 1, 'tier_current': 1, 'tier_total': 3}, {'name': 'Set6_Bodyguard', 'num_units': 2, 'style': 1, 'tier_current': 1, 'tier_total': 4}, {'name': 'Set6_Challenger', 'num_units': 1, 'style': 0, 'tier_current': 0, 'tier_total': 4}, {'name': 'Set6_Debonair', 'num_units': 7, 'style': 4, 'tier_current': 3, 'tier_total': 3}, {'name': 'Set6_Innovator', 'num_units': 1, 'style': 0, 'tier_current': 0, 'tier_total': 3}, {'name': 'Set6_Scholar', 'num_units': 2, 'style': 1, 'tier_current': 1, 'tier_total': 3}, {'name': 'Set6_Scrap', 'num_units': 2, 'style': 1, 'tier_current': 1, 'tier_total': 3}, {'name': 'Set6_Syndicate', 'num_units': 1, 'style': 0, 'tier_current': 0, 'tier_total': 3}]",
         "units": "[{'character_id': 'TFT6_Talon', 'items': [69, 19, 22], 'name': '', 'rarity': 1, 'tier': 2}, {'character_id': 'TFT6_Zyra', 'items': [70], 'name': '', 'rarity': 1, 'tier': 2}, {'character_id': 'TFT6_Blitzcrank', 'items': [70], 'name': '', 'rarity': 1, 'tier': 2}, {'character_id': 'TFT6_Syndra', 'items': [], 'name': '', 'rarity': 1, 'tier': 2}, {'character_id': 'TFT6_Leona', 'items': [], 'name': '', 'rarity': 2, 'tier': 1}, {'character_id': 'TFT6_Ekko', 'items': [37, 17, 1], 'name': '', 'rarity': 2, 'tier': 2}, {'character_id': 'TFT6_Draven', 'items': [], 'name': 'Draven', 'rarity': 3, 'tier': 1}]",
         "Match ID": "NA1_4247681350",
         "_deepnote_index_column": 0
        },
        {
         "augments": "['TFT6_Augment_AssassinCutthroat', 'TFT6_Augment_RichGetRicher', 'TFT6_Augment_Diversify3']",
         "level": 9,
         "placement": 3,
         "traits": "[{'name': 'Set6_Arcanist', 'num_units': 2, 'style': 1, 'tier_current': 1, 'tier_total': 4}, {'name': 'Set6_Assassin', 'num_units': 2, 'style': 1, 'tier_current': 1, 'tier_total': 3}, {'name': 'Set6_Bruiser', 'num_units': 2, 'style': 1, 'tier_current': 1, 'tier_total': 4}, {'name': 'Set6_Glutton', 'num_units': 1, 'style': 3, 'tier_current': 1, 'tier_total': 1}, {'name': 'Set6_Innovator', 'num_units': 1, 'style': 0, 'tier_current': 0, 'tier_total': 3}, {'name': 'Set6_Mastermind', 'num_units': 1, 'style': 3, 'tier_current': 1, 'tier_total': 1}, {'name': 'Set6_Mercenary', 'num_units': 1, 'style': 0, 'tier_current': 0, 'tier_total': 3}, {'name': 'Set6_Mutant', 'num_units': 5, 'style': 3, 'tier_current': 2, 'tier_total': 3}, {'name': 'Set6_Scholar', 'num_units': 2, 'style': 1, 'tier_current': 1, 'tier_total': 3}, {'name': 'Set6_Scrap', 'num_units': 2, 'style': 1, 'tier_current': 1, 'tier_total': 3}, {'name': 'Set6_Striker', 'num_units': 2, 'style': 1, 'tier_current': 1, 'tier_total': 3}]",
         "units": "[{'character_id': 'TFT6_Kassadin', 'items': [], 'name': 'Kassadin', 'rarity': 0, 'tier': 2}, {'character_id': 'TFT6_RekSai', 'items': [46], 'name': 'RekSai', 'rarity': 1, 'tier': 2}, {'character_id': 'TFT6_Malzahar', 'items': [], 'name': '', 'rarity': 2, 'tier': 1}, {'character_id': 'TFT6_Malzahar', 'items': [], 'name': '', 'rarity': 2, 'tier': 1}, {'character_id': 'TFT6_Ekko', 'items': [99, 24, 14], 'name': '', 'rarity': 2, 'tier': 2}, {'character_id': 'TFT6_KhaZix', 'items': [19, 94, 69], 'name': 'Khazix', 'rarity': 3, 'tier': 2}, {'character_id': 'TFT6_Irelia', 'items': [2190, 2], 'name': '', 'rarity': 3, 'tier': 2}, {'character_id': 'TFT6_TahmKench', 'items': [36, 47, 38], 'name': '', 'rarity': 4, 'tier': 2}, {'character_id': 'TFT6_Silco', 'items': [], 'name': '', 'rarity': 4, 'tier': 1}]",
         "Match ID": "NA1_4247681350",
         "_deepnote_index_column": 1
        },
        {
         "augments": "['TFT6_Augment_EnchanterTrait', 'TFT6_Augment_SunfireBoard', 'TFT6_Augment_TwinshotTrait2']",
         "level": 8,
         "placement": 2,
         "traits": "[{'name': 'Set6_Bruiser', 'num_units': 2, 'style': 1, 'tier_current': 1, 'tier_total': 4}, {'name': 'Set6_Clockwork', 'num_units': 2, 'style': 1, 'tier_current': 1, 'tier_total': 3}, {'name': 'Set6_Enchanter', 'num_units': 4, 'style': 3, 'tier_current': 3, 'tier_total': 4}, {'name': 'Set6_Enforcer', 'num_units': 2, 'style': 1, 'tier_current': 1, 'tier_total': 2}, {'name': 'Set6_Hextech', 'num_units': 2, 'style': 1, 'tier_current': 1, 'tier_total': 4}, {'name': 'Set6_Mercenary', 'num_units': 1, 'style': 0, 'tier_current': 0, 'tier_total': 3}, {'name': 'Set6_Rivals', 'num_units': 1, 'style': 3, 'tier_current': 1, 'tier_total': 1}, {'name': 'Set6_Socialite', 'num_units': 1, 'style': 1, 'tier_current': 1, 'tier_total': 4}, {'name': 'Set6_Syndicate', 'num_units': 1, 'style': 0, 'tier_current': 0, 'tier_total': 3}, {'name': 'Set6_Twinshot', 'num_units': 5, 'style': 4, 'tier_current': 4, 'tier_total': 4}, {'name': 'Set6_Yordle', 'num_units': 1, 'style': 0, 'tier_current': 0, 'tier_total': 2}]",
         "units": "[{'character_id': 'TFT6_Sejuani', 'items': [], 'name': '', 'rarity': 1, 'tier': 2}, {'character_id': 'TFT6_Corki', 'items': [24, 46], 'name': '', 'rarity': 1, 'tier': 3}, {'character_id': 'TFT6_Gangplank', 'items': [16, 69, 29], 'name': '', 'rarity': 2, 'tier': 3}, {'character_id': 'TFT6_Lucian', 'items': [44, 12], 'name': 'Lucian', 'rarity': 2, 'tier': 3}, {'character_id': 'TFT6_Morgana', 'items': [35, 35], 'name': 'Morgana', 'rarity': 2, 'tier': 3}, {'character_id': 'TFT6_Senna', 'items': [], 'name': '', 'rarity': 2, 'tier': 2}, {'character_id': 'TFT6_Orianna', 'items': [], 'name': '', 'rarity': 3, 'tier': 2}, {'character_id': 'TFT6b_Vi', 'items': [2191], 'name': '', 'rarity': 3, 'tier': 2}]",
         "Match ID": "NA1_4247681350",
         "_deepnote_index_column": 2
        },
        {
         "augments": "['TFT6_Augment_CalculatedLoss', 'TFT6_Augment_ExperimentalEmblem', 'TFT6_Augment_ArcanistEmblem2']",
         "level": 9,
         "placement": 1,
         "traits": "[{'name': 'Set6_Arcanist', 'num_units': 4, 'style': 2, 'tier_current': 2, 'tier_total': 4}, {'name': 'Set6_Assassin', 'num_units': 1, 'style': 0, 'tier_current': 0, 'tier_total': 3}, {'name': 'Set6_Bodyguard', 'num_units': 1, 'style': 0, 'tier_current': 0, 'tier_total': 4}, {'name': 'Set6_Bruiser', 'num_units': 2, 'style': 1, 'tier_current': 1, 'tier_total': 4}, {'name': 'Set6_Challenger', 'num_units': 1, 'style': 0, 'tier_current': 0, 'tier_total': 4}, {'name': 'Set6_Colossus', 'num_units': 2, 'style': 3, 'tier_current': 1, 'tier_total': 1}, {'name': 'Set6_Mutant', 'num_units': 7, 'style': 4, 'tier_current': 3, 'tier_total': 3}, {'name': 'Set6_Scholar', 'num_units': 1, 'style': 0, 'tier_current': 0, 'tier_total': 3}, {'name': 'Set6_Socialite', 'num_units': 1, 'style': 1, 'tier_current': 1, 'tier_total': 4}, {'name': 'Set6_Striker', 'num_units': 1, 'style': 0, 'tier_current': 0, 'tier_total': 3}, {'name': 'Set6_Syndicate', 'num_units': 1, 'style': 0, 'tier_current': 0, 'tier_total': 3…",
         "units": "[{'character_id': 'TFT6_Kassadin', 'items': [], 'name': 'Kassadin', 'rarity': 0, 'tier': 2}, {'character_id': 'TFT6_RekSai', 'items': [], 'name': 'RekSai', 'rarity': 1, 'tier': 2}, {'character_id': 'TFT6_Malzahar', 'items': [44, 33, 37], 'name': '', 'rarity': 2, 'tier': 2}, {'character_id': 'TFT6_ChoGath', 'items': [25, 38, 66], 'name': '', 'rarity': 2, 'tier': 3}, {'character_id': 'TFT6_KhaZix', 'items': [], 'name': 'Khazix', 'rarity': 3, 'tier': 2}, {'character_id': 'TFT6_Ahri', 'items': [2190, 69, 39], 'name': '', 'rarity': 3, 'tier': 2}, {'character_id': 'TFT6_Galio', 'items': [45], 'name': '', 'rarity': 4, 'tier': 2}, {'character_id': 'TFT6_Kaisa', 'items': [38], 'name': '', 'rarity': 4, 'tier': 1}]",
         "Match ID": "NA1_4247681350",
         "_deepnote_index_column": 3
        },
        {
         "augments": "['TFT6_Augment_Phalanx1', 'TFT6_Augment_ArcanistSpellBlade', 'TFT6_Augment_ExperimentalEmblem2']",
         "level": 9,
         "placement": 4,
         "traits": "[{'name': 'Set6_Arcanist', 'num_units': 2, 'style': 1, 'tier_current': 1, 'tier_total': 4}, {'name': 'Set6_Bruiser', 'num_units': 3, 'style': 1, 'tier_current': 1, 'tier_total': 4}, {'name': 'Set6_Challenger', 'num_units': 2, 'style': 1, 'tier_current': 1, 'tier_total': 4}, {'name': 'Set6_Chemtech', 'num_units': 1, 'style': 0, 'tier_current': 0, 'tier_total': 4}, {'name': 'Set6_Colossus', 'num_units': 2, 'style': 3, 'tier_current': 1, 'tier_total': 1}, {'name': 'Set6_Hextech', 'num_units': 1, 'style': 0, 'tier_current': 0, 'tier_total': 4}, {'name': 'Set6_Mutant', 'num_units': 7, 'style': 4, 'tier_current': 3, 'tier_total': 3}, {'name': 'Set6_Striker', 'num_units': 1, 'style': 0, 'tier_current': 0, 'tier_total': 3}, {'name': 'Set6_Syndicate', 'num_units': 1, 'style': 0, 'tier_current': 0, 'tier_total': 3}]",
         "units": "[{'character_id': 'TFT6_RekSai', 'items': [], 'name': 'RekSai', 'rarity': 1, 'tier': 2}, {'character_id': 'TFT6_Malzahar', 'items': [44, 37, 49], 'name': '', 'rarity': 2, 'tier': 2}, {'character_id': 'TFT6_Zac', 'items': [2190], 'name': '', 'rarity': 2, 'tier': 2}, {'character_id': 'TFT6_ChoGath', 'items': [59, 28], 'name': '', 'rarity': 2, 'tier': 2}, {'character_id': 'TFT6_Ahri', 'items': [2190, 79, 49], 'name': '', 'rarity': 3, 'tier': 2}, {'character_id': 'TFT6_Alistar', 'items': [2190], 'name': '', 'rarity': 3, 'tier': 1}, {'character_id': 'TFT6_Kaisa', 'items': [17], 'name': '', 'rarity': 4, 'tier': 1}]",
         "Match ID": "NA1_4247681350",
         "_deepnote_index_column": 4
        },
        {
         "augments": "['TFT6_Augment_StrikerTrait', 'TFT6_Augment_ComponentGrabBag', 'TFT6_Augment_CyberneticUplink3']",
         "level": 8,
         "placement": 6,
         "traits": "[{'name': 'Set6_Assassin', 'num_units': 1, 'style': 0, 'tier_current': 0, 'tier_total': 3}, {'name': 'Set6_Bruiser', 'num_units': 1, 'style': 0, 'tier_current': 0, 'tier_total': 4}, {'name': 'Set6_Chemtech', 'num_units': 1, 'style': 0, 'tier_current': 0, 'tier_total': 4}, {'name': 'Set6_Clockwork', 'num_units': 1, 'style': 0, 'tier_current': 0, 'tier_total': 3}, {'name': 'Set6_Enforcer', 'num_units': 1, 'style': 0, 'tier_current': 0, 'tier_total': 2}, {'name': 'Set6_Hextech', 'num_units': 1, 'style': 0, 'tier_current': 0, 'tier_total': 4}, {'name': 'Set6_Innovator', 'num_units': 5, 'style': 3, 'tier_current': 2, 'tier_total': 3}, {'name': 'Set6_Scrap', 'num_units': 3, 'style': 1, 'tier_current': 1, 'tier_total': 3}, {'name': 'Set6_Socialite', 'num_units': 2, 'style': 2, 'tier_current': 2, 'tier_total': 4}, {'name': 'Set6_Striker', 'num_units': 3, 'style': 1, 'tier_current': 1, 'tier_total': 3}, {'name': 'Set6_Yordle', 'num_units': 1, 'style': 0, 'tier_current': 0, 'tier_total': 2}]",
         "units": "[{'character_id': 'TFT6_Singed', 'items': [], 'name': '', 'rarity': 0, 'tier': 1}, {'character_id': 'TFT6_Ezreal', 'items': [9], 'name': '', 'rarity': 0, 'tier': 2}, {'character_id': 'TFT6_Sejuani', 'items': [77], 'name': '', 'rarity': 1, 'tier': 2}, {'character_id': 'TFT6_Zilean', 'items': [], 'name': '', 'rarity': 1, 'tier': 2}, {'character_id': 'TFT6_Ekko', 'items': [45, 67, 37], 'name': '', 'rarity': 2, 'tier': 2}, {'character_id': 'TFT6_Gnar', 'items': [], 'name': '', 'rarity': 2, 'tier': 2}, {'character_id': 'TFT6_Seraphine', 'items': [33], 'name': '', 'rarity': 3, 'tier': 2}, {'character_id': 'TFT6_Irelia', 'items': [16, 26, 19], 'name': '', 'rarity': 3, 'tier': 1}]",
         "Match ID": "NA1_4247681350",
         "_deepnote_index_column": 5
        },
        {
         "augments": "['TFT6_Augment_HeroStandBehindMe', 'TFT6_Augment_TriForce2', 'TFT6_Augment_HighFive']",
         "level": 8,
         "placement": 7,
         "traits": "[{'name': 'Set6_Arcanist', 'num_units': 1, 'style': 0, 'tier_current': 0, 'tier_total': 4}, {'name': 'Set6_Bodyguard', 'num_units': 2, 'style': 1, 'tier_current': 1, 'tier_total': 4}, {'name': 'Set6_Chemtech', 'num_units': 1, 'style': 0, 'tier_current': 0, 'tier_total': 4}, {'name': 'Set6_Clockwork', 'num_units': 1, 'style': 0, 'tier_current': 0, 'tier_total': 3}, {'name': 'Set6_Enchanter', 'num_units': 3, 'style': 2, 'tier_current': 2, 'tier_total': 4}, {'name': 'Set6_Hextech', 'num_units': 1, 'style': 0, 'tier_current': 0, 'tier_total': 4}, {'name': 'Set6_Rivals', 'num_units': 1, 'style': 3, 'tier_current': 1, 'tier_total': 1}, {'name': 'Set6_Scrap', 'num_units': 2, 'style': 1, 'tier_current': 1, 'tier_total': 3}, {'name': 'Set6_Socialite', 'num_units': 1, 'style': 1, 'tier_current': 1, 'tier_total': 4}, {'name': 'Set6_Syndicate', 'num_units': 2, 'style': 0, 'tier_current': 0, 'tier_total': 3}, {'name': 'Set6_Twinshot', 'num_units': 2, 'style': 1, 'tier_current': 1, 'tier_total': 4}]",
         "units": "[{'character_id': 'TFT6_Blitzcrank', 'items': [55], 'name': '', 'rarity': 1, 'tier': 2}, {'character_id': 'TFT6_Lucian', 'items': [], 'name': 'Lucian', 'rarity': 2, 'tier': 2}, {'character_id': 'TFT6_Morgana', 'items': [], 'name': 'Morgana', 'rarity': 2, 'tier': 2}, {'character_id': 'TFT6_Senna', 'items': [], 'name': '', 'rarity': 2, 'tier': 2}, {'character_id': 'TFT6_Braum', 'items': [55, 47], 'name': '', 'rarity': 3, 'tier': 2}, {'character_id': 'TFT6_Orianna', 'items': [], 'name': '', 'rarity': 3, 'tier': 2}, {'character_id': 'TFT6_Jinx', 'items': [29, 19, 94], 'name': '', 'rarity': 4, 'tier': 2}, {'character_id': 'TFT6_Viktor', 'items': [47], 'name': '', 'rarity': 4, 'tier': 2}]",
         "Match ID": "NA1_4247681350",
         "_deepnote_index_column": 6
        },
        {
         "augments": "['TFT6_Augment_ThrillOfTheHunt1', 'TFT6_Augment_Keepers2', 'TFT6_Augment_Weakspot3']",
         "level": 8,
         "placement": 5,
         "traits": "[{'name': 'Set6_Arcanist', 'num_units': 1, 'style': 0, 'tier_current': 0, 'tier_total': 4}, {'name': 'Set6_Bruiser', 'num_units': 2, 'style': 1, 'tier_current': 1, 'tier_total': 4}, {'name': 'Set6_Colossus', 'num_units': 1, 'style': 0, 'tier_current': 0, 'tier_total': 1}, {'name': 'Set6_Enforcer', 'num_units': 2, 'style': 1, 'tier_current': 1, 'tier_total': 2}, {'name': 'Set6_Hextech', 'num_units': 6, 'style': 3, 'tier_current': 3, 'tier_total': 4}, {'name': 'Set6_Rivals', 'num_units': 1, 'style': 3, 'tier_current': 1, 'tier_total': 1}, {'name': 'Set6_Striker', 'num_units': 2, 'style': 1, 'tier_current': 1, 'tier_total': 3}, {'name': 'Set6_Twinshot', 'num_units': 1, 'style': 0, 'tier_current': 0, 'tier_total': 4}]",
         "units": "[{'character_id': 'TFT6_JarvanIV', 'items': [], 'name': '', 'rarity': 0, 'tier': 2}, {'character_id': 'TFT6_Sejuani', 'items': [], 'name': '', 'rarity': 1, 'tier': 2}, {'character_id': 'TFT6_Swain', 'items': [], 'name': '', 'rarity': 1, 'tier': 2}, {'character_id': 'TFT6_Lucian', 'items': [1], 'name': 'Lucian', 'rarity': 2, 'tier': 2}, {'character_id': 'TFT6_Sivir', 'items': [19, 23, 94], 'name': '', 'rarity': 3, 'tier': 2}, {'character_id': 'TFT6b_Vi', 'items': [55, 77, 44], 'name': '', 'rarity': 3, 'tier': 2}, {'character_id': 'TFT6_Alistar', 'items': [37], 'name': '', 'rarity': 3, 'tier': 2}]",
         "Match ID": "NA1_4247681350",
         "_deepnote_index_column": 7
        },
        {
         "augments": "['TFT6_Augment_TargetDummies', 'TFT6_Augment_BruteTrait', 'TFT6_Augment_ComponentGrabBag']",
         "level": 8,
         "placement": 5,
         "traits": "[{'name': 'Set6_Arcanist', 'num_units': 1, 'style': 0, 'tier_current': 0, 'tier_total': 4}, {'name': 'Set6_Assassin', 'num_units': 2, 'style': 1, 'tier_current': 1, 'tier_total': 3}, {'name': 'Set6_Bruiser', 'num_units': 4, 'style': 2, 'tier_current': 2, 'tier_total': 4}, {'name': 'Set6_Challenger', 'num_units': 1, 'style': 0, 'tier_current': 0, 'tier_total': 4}, {'name': 'Set6_Enforcer', 'num_units': 2, 'style': 1, 'tier_current': 1, 'tier_total': 2}, {'name': 'Set6_Hextech', 'num_units': 1, 'style': 0, 'tier_current': 0, 'tier_total': 4}, {'name': 'Set6_Innovator', 'num_units': 1, 'style': 0, 'tier_current': 0, 'tier_total': 3}, {'name': 'Set6_Mutant', 'num_units': 5, 'style': 3, 'tier_current': 2, 'tier_total': 3}, {'name': 'Set6_Rivals', 'num_units': 1, 'style': 3, 'tier_current': 1, 'tier_total': 1}, {'name': 'Set6_Scholar', 'num_units': 1, 'style': 0, 'tier_current': 0, 'tier_total': 3}, {'name': 'Set6_Scrap', 'num_units': 1, 'style': 0, 'tier_current': 0, 'tier_total': 3}, {'na…",
         "units": "[{'character_id': 'TFT6_Kassadin', 'items': [27, 27], 'name': 'Kassadin', 'rarity': 0, 'tier': 2}, {'character_id': 'TFT6_Sejuani', 'items': [], 'name': '', 'rarity': 1, 'tier': 1}, {'character_id': 'TFT6_RekSai', 'items': [], 'name': 'RekSai', 'rarity': 1, 'tier': 2}, {'character_id': 'TFT6_Malzahar', 'items': [88, 67], 'name': '', 'rarity': 2, 'tier': 2}, {'character_id': 'TFT6_Ekko', 'items': [45], 'name': '', 'rarity': 2, 'tier': 2}, {'character_id': 'TFT6_KhaZix', 'items': [16, 19, 69], 'name': 'Khazix', 'rarity': 3, 'tier': 2}, {'character_id': 'TFT6_KhaZix', 'items': [69], 'name': 'Khazix', 'rarity': 3, 'tier': 2}, {'character_id': 'TFT6b_Vi', 'items': [59, 36, 57], 'name': '', 'rarity': 3, 'tier': 2}, {'character_id': 'TFT6_Kaisa', 'items': [], 'name': '', 'rarity': 4, 'tier': 1}]",
         "Match ID": "NA1_4242542116",
         "_deepnote_index_column": 8
        },
        {
         "augments": "['TFT6_Augment_CelestialBlessing1', 'TFT6_Augment_CyberneticShell1', 'TFT6_Augment_ScrapEmblem']",
         "level": 9,
         "placement": 2,
         "traits": "[{'name': 'Set6_Assassin', 'num_units': 1, 'style': 0, 'tier_current': 0, 'tier_total': 3}, {'name': 'Set6_Bodyguard', 'num_units': 2, 'style': 1, 'tier_current': 1, 'tier_total': 4}, {'name': 'Set6_Clockwork', 'num_units': 2, 'style': 1, 'tier_current': 1, 'tier_total': 3}, {'name': 'Set6_Enchanter', 'num_units': 1, 'style': 0, 'tier_current': 0, 'tier_total': 4}, {'name': 'Set6_Enforcer', 'num_units': 1, 'style': 0, 'tier_current': 0, 'tier_total': 2}, {'name': 'Set6_Innovator', 'num_units': 4, 'style': 1, 'tier_current': 1, 'tier_total': 3}, {'name': 'Set6_Rivals', 'num_units': 1, 'style': 3, 'tier_current': 1, 'tier_total': 1}, {'name': 'Set6_Scrap', 'num_units': 6, 'style': 3, 'tier_current': 3, 'tier_total': 3}, {'name': 'Set6_Striker', 'num_units': 1, 'style': 0, 'tier_current': 0, 'tier_total': 3}, {'name': 'Set6_Syndicate', 'num_units': 1, 'style': 0, 'tier_current': 0, 'tier_total': 3}, {'name': 'Set6_Transformer', 'num_units': 1, 'style': 3, 'tier_current': 1, 'tier_total':…",
         "units": "[{'character_id': 'TFT6_Ezreal', 'items': [], 'name': '', 'rarity': 0, 'tier': 1}, {'character_id': 'TFT6_Zilean', 'items': [], 'name': '', 'rarity': 1, 'tier': 1}, {'character_id': 'TFT6_Blitzcrank', 'items': [7], 'name': '', 'rarity': 1, 'tier': 2}, {'character_id': 'TFT6_Ekko', 'items': [37], 'name': '', 'rarity': 2, 'tier': 1}, {'character_id': 'TFT6_Braum', 'items': [2195, 56], 'name': '', 'rarity': 3, 'tier': 2}, {'character_id': 'TFT6_Orianna', 'items': [], 'name': '', 'rarity': 3, 'tier': 2}, {'character_id': 'TFT6_Irelia', 'items': [], 'name': '', 'rarity': 3, 'tier': 1}, {'character_id': 'TFT6_Jinx', 'items': [26, 33, 7], 'name': '', 'rarity': 4, 'tier': 2}, {'character_id': 'TFT6_Jayce', 'items': [19, 39, 44], 'name': '', 'rarity': 4, 'tier': 2}]",
         "Match ID": "NA1_4242542116",
         "_deepnote_index_column": 9
        }
       ]
      },
      "text/plain": "                                                augments  level  placement  \\\n0      ['TFT6_Augment_DebonairTrait', 'TFT6_Augment_D...    7.0        8.0   \n1      ['TFT6_Augment_AssassinCutthroat', 'TFT6_Augme...    9.0        3.0   \n2      ['TFT6_Augment_EnchanterTrait', 'TFT6_Augment_...    8.0        2.0   \n3      ['TFT6_Augment_CalculatedLoss', 'TFT6_Augment_...    9.0        1.0   \n4      ['TFT6_Augment_Phalanx1', 'TFT6_Augment_Arcani...    9.0        4.0   \n...                                                  ...    ...        ...   \n40044  ['TFT6_Augment_Disintegrator1', 'TFT6_Augment_...    9.0        1.0   \n40045  ['TFT6_Augment_SocialiteDuet', 'TFT6_Augment_D...    8.0        3.0   \n40046  ['TFT6_Augment_ItemGrabBag1', 'TFT6_Augment_Th...    8.0        4.0   \n40047  ['TFT6_Augment_Featherweights1', 'TFT6_Augment...    8.0        7.0   \n40048  ['TFT6_Augment_Underdogs', 'TFT6_Augment_Schol...    8.0        8.0   \n\n                                                  traits  \\\n0      [{'name': 'Set6_Assassin', 'num_units': 2, 'st...   \n1      [{'name': 'Set6_Arcanist', 'num_units': 2, 'st...   \n2      [{'name': 'Set6_Bruiser', 'num_units': 2, 'sty...   \n3      [{'name': 'Set6_Arcanist', 'num_units': 4, 'st...   \n4      [{'name': 'Set6_Arcanist', 'num_units': 2, 'st...   \n...                                                  ...   \n40044  [{'name': 'Set6_Assassin', 'num_units': 4, 'st...   \n40045  [{'name': 'Set6_Bodyguard', 'num_units': 1, 's...   \n40046  [{'name': 'Set6_Assassin', 'num_units': 4, 'st...   \n40047  [{'name': 'Set6_Arcanist', 'num_units': 2, 'st...   \n40048  [{'name': 'Set6_Arcanist', 'num_units': 1, 'st...   \n\n                                                   units        Match ID  \n0      [{'character_id': 'TFT6_Talon', 'items': [69, ...  NA1_4247681350  \n1      [{'character_id': 'TFT6_Kassadin', 'items': []...  NA1_4247681350  \n2      [{'character_id': 'TFT6_Sejuani', 'items': [],...  NA1_4247681350  \n3      [{'character_id': 'TFT6_Kassadin', 'items': []...  NA1_4247681350  \n4      [{'character_id': 'TFT6_RekSai', 'items': [], ...  NA1_4247681350  \n...                                                  ...             ...  \n40044  [{'character_id': 'TFT6_Zilean', 'items': [], ...  NA1_4255593521  \n40045  [{'character_id': 'TFT6_Corki', 'items': [], '...  NA1_4255593521  \n40046  [{'character_id': 'TFT6_Nocturne', 'items': []...  NA1_4255593521  \n40047  [{'character_id': 'TFT6_Poppy', 'items': [], '...  NA1_4255593521  \n40048  [{'character_id': 'TFT6_Kassadin', 'items': [6...  NA1_4255593521  \n\n[40049 rows x 6 columns]",
      "text/html": "<div>\n<style scoped>\n    .dataframe tbody tr th:only-of-type {\n        vertical-align: middle;\n    }\n\n    .dataframe tbody tr th {\n        vertical-align: top;\n    }\n\n    .dataframe thead th {\n        text-align: right;\n    }\n</style>\n<table border=\"1\" class=\"dataframe\">\n  <thead>\n    <tr style=\"text-align: right;\">\n      <th></th>\n      <th>augments</th>\n      <th>level</th>\n      <th>placement</th>\n      <th>traits</th>\n      <th>units</th>\n      <th>Match ID</th>\n    </tr>\n  </thead>\n  <tbody>\n    <tr>\n      <th>0</th>\n      <td>['TFT6_Augment_DebonairTrait', 'TFT6_Augment_D...</td>\n      <td>7.0</td>\n      <td>8.0</td>\n      <td>[{'name': 'Set6_Assassin', 'num_units': 2, 'st...</td>\n      <td>[{'character_id': 'TFT6_Talon', 'items': [69, ...</td>\n      <td>NA1_4247681350</td>\n    </tr>\n    <tr>\n      <th>1</th>\n      <td>['TFT6_Augment_AssassinCutthroat', 'TFT6_Augme...</td>\n      <td>9.0</td>\n      <td>3.0</td>\n      <td>[{'name': 'Set6_Arcanist', 'num_units': 2, 'st...</td>\n      <td>[{'character_id': 'TFT6_Kassadin', 'items': []...</td>\n      <td>NA1_4247681350</td>\n    </tr>\n    <tr>\n      <th>2</th>\n      <td>['TFT6_Augment_EnchanterTrait', 'TFT6_Augment_...</td>\n      <td>8.0</td>\n      <td>2.0</td>\n      <td>[{'name': 'Set6_Bruiser', 'num_units': 2, 'sty...</td>\n      <td>[{'character_id': 'TFT6_Sejuani', 'items': [],...</td>\n      <td>NA1_4247681350</td>\n    </tr>\n    <tr>\n      <th>3</th>\n      <td>['TFT6_Augment_CalculatedLoss', 'TFT6_Augment_...</td>\n      <td>9.0</td>\n      <td>1.0</td>\n      <td>[{'name': 'Set6_Arcanist', 'num_units': 4, 'st...</td>\n      <td>[{'character_id': 'TFT6_Kassadin', 'items': []...</td>\n      <td>NA1_4247681350</td>\n    </tr>\n    <tr>\n      <th>4</th>\n      <td>['TFT6_Augment_Phalanx1', 'TFT6_Augment_Arcani...</td>\n      <td>9.0</td>\n      <td>4.0</td>\n      <td>[{'name': 'Set6_Arcanist', 'num_units': 2, 'st...</td>\n      <td>[{'character_id': 'TFT6_RekSai', 'items': [], ...</td>\n      <td>NA1_4247681350</td>\n    </tr>\n    <tr>\n      <th>...</th>\n      <td>...</td>\n      <td>...</td>\n      <td>...</td>\n      <td>...</td>\n      <td>...</td>\n      <td>...</td>\n    </tr>\n    <tr>\n      <th>40044</th>\n      <td>['TFT6_Augment_Disintegrator1', 'TFT6_Augment_...</td>\n      <td>9.0</td>\n      <td>1.0</td>\n      <td>[{'name': 'Set6_Assassin', 'num_units': 4, 'st...</td>\n      <td>[{'character_id': 'TFT6_Zilean', 'items': [], ...</td>\n      <td>NA1_4255593521</td>\n    </tr>\n    <tr>\n      <th>40045</th>\n      <td>['TFT6_Augment_SocialiteDuet', 'TFT6_Augment_D...</td>\n      <td>8.0</td>\n      <td>3.0</td>\n      <td>[{'name': 'Set6_Bodyguard', 'num_units': 1, 's...</td>\n      <td>[{'character_id': 'TFT6_Corki', 'items': [], '...</td>\n      <td>NA1_4255593521</td>\n    </tr>\n    <tr>\n      <th>40046</th>\n      <td>['TFT6_Augment_ItemGrabBag1', 'TFT6_Augment_Th...</td>\n      <td>8.0</td>\n      <td>4.0</td>\n      <td>[{'name': 'Set6_Assassin', 'num_units': 4, 'st...</td>\n      <td>[{'character_id': 'TFT6_Nocturne', 'items': []...</td>\n      <td>NA1_4255593521</td>\n    </tr>\n    <tr>\n      <th>40047</th>\n      <td>['TFT6_Augment_Featherweights1', 'TFT6_Augment...</td>\n      <td>8.0</td>\n      <td>7.0</td>\n      <td>[{'name': 'Set6_Arcanist', 'num_units': 2, 'st...</td>\n      <td>[{'character_id': 'TFT6_Poppy', 'items': [], '...</td>\n      <td>NA1_4255593521</td>\n    </tr>\n    <tr>\n      <th>40048</th>\n      <td>['TFT6_Augment_Underdogs', 'TFT6_Augment_Schol...</td>\n      <td>8.0</td>\n      <td>8.0</td>\n      <td>[{'name': 'Set6_Arcanist', 'num_units': 1, 'st...</td>\n      <td>[{'character_id': 'TFT6_Kassadin', 'items': [6...</td>\n      <td>NA1_4255593521</td>\n    </tr>\n  </tbody>\n</table>\n<p>40049 rows × 6 columns</p>\n</div>"
     },
     "metadata": {}
    }
   ],
   "execution_count": 41
  },
  {
   "cell_type": "markdown",
   "source": "Within the compiled CSV/dataset, each row represents a player. The columns are:  \n- Augments: The three augments the player ended a game with\n- Level: The level the player ended a game with\n- Placement: The player's overall placement at the end of the game\n- Traits: The active Traits the player had by the end of the game \n- Units: The Units the player had by the end of the game (with their rarities and items)   \n- Match ID: The ID of the game. ",
   "metadata": {
    "cell_id": "809190a8c38c4ab8a474a741d44ba638",
    "tags": [],
    "deepnote_cell_type": "markdown",
    "deepnote_cell_height": 229.734375
   }
  },
  {
   "cell_type": "markdown",
   "source": "# <center>Data Management</center>",
   "metadata": {
    "cell_id": "d5d9129dbca5461abf32d844750d49c7",
    "tags": [],
    "deepnote_cell_type": "markdown",
    "deepnote_cell_height": 82
   }
  },
  {
   "cell_type": "markdown",
   "source": "With the csv file created we can now clean it to make the dataset more readable.\n\nAs of now each row of the csv will look something like this:\n\n<center>\"augments\": \"['TFT6_Augment_DebonairTrait', ...]\",\n\n\"level\": \"8\",\n\n\"placement\": \"8\",\n\n\"traits\": \"[{'name': 'Set6_traitname', 'num_units': 1, 'style': 0, 'tier_current': 0, 'tier_total': 4}, ...]\",\n\n\"units\": \"[{'character_id': 'TFT6_(CharacterName))', 'itemNames': ['TFT_Item_(ItemName)', ...], 'items': [(ItemID), ...], 'name': '(CharacterName)', 'rarity': (Rarity number), 'tier': (Unit Cost))}, ...]\",\n\n\"Match ID\": \"Match ID\" </center>\n\n\nOf the information available there's alot of redundant and useless headers such as \"TFT6\\_\" and \"Set6\\_\" or \"TFT\\_Item\\_\". For the sake of readability we shall remove them from the csv.\n\nTo do so we can create a function that finds these exact phrases in the csv and simply erases them.",
   "metadata": {
    "cell_id": "52c876e553894c5797e21cca76e9b2e2",
    "tags": [],
    "deepnote_cell_type": "markdown",
    "deepnote_cell_height": 410.6875
   }
  },
  {
   "cell_type": "code",
   "source": "# var filePath: str, contains the filepath that leads to the csv file\ndef cleanCSV(filePath):\n    # open the csv file\n    f = open(filePath)\n    # save text in the file to a string to edit\n    text = f.read()\n    #  close the csv file\n    f.close()\n\n    # the next 6 lines of code deletes the specific unnecesary phrases\n    # as well as an error item id that sometimes appears in collected data from our csv\n    text = text.replace('TFT6_', '')\n    text = text.replace('Set6_', '')\n    text = text.replace('TFT_Item_', '')\n    text = text.replace('Augment_', '')\n    text = text.replace(', 10006', '')\n\n    # open the csv file again\n    f = open(filePath,'w')\n\n    # save new clean text to the csv file\n    f.write(text)\n\n    # close the csv file\n    f.close()\n\n# run the function which will overwrite the old dataset with the cleaned dataset\ncleanCSV(\"TFTdataset.csv\")\n",
   "metadata": {
    "cell_id": "ae8c69a293a34a28814b8ca09c7e1d91",
    "tags": [],
    "deepnote_to_be_reexecuted": false,
    "source_hash": "def81ef9",
    "execution_start": 1652236159613,
    "execution_millis": 1157,
    "deepnote_cell_type": "code",
    "deepnote_cell_height": 585
   },
   "outputs": [],
   "execution_count": 73
  },
  {
   "cell_type": "markdown",
   "source": "The CSV is now cleaned of useless headers. We will now convert the csv to a JSON to make the data set easier to work with as well as give each row a unique ID.\n\nOnce again we'll make a function for this as well",
   "metadata": {
    "cell_id": "0c570421df3441ed93036f4a3cf10e2a",
    "tags": [],
    "deepnote_cell_type": "markdown",
    "deepnote_cell_height": 111.171875
   }
  },
  {
   "cell_type": "code",
   "source": "# var csvFilePath: str, contains the filepath that leads to the csv file\n# var jsonFilePath: str, place to save the JSON file\ndef make_json(csvFilePath, jsonFilePath):\n     \n    # create a dictionary called data\n    data = {}\n    # create a counter to number each row of the csv \n    counter = 0\n    # Open the csv with a csv reader called DictReader\n    with open(csvFilePath, encoding='utf-8') as csvf:\n        csvReader = csv.DictReader(csvf)\n         \n        # Convert each row into a dictionary and add it to data\n        for rows in csvReader:\n             \n            # save the row to the key represented by the counter\n            data[counter] = rows\n            # increment the counter\n            counter += 1\n \n    # Open a json writer, and use the json.dumps() function to convert the dictionary into a Json object\n    # save the JSON object to a file using write()\n    with open(jsonFilePath, 'w', encoding='utf-8') as jsonf:\n        jsonf.write(json.dumps(data, indent=4))\n\n# run the function which will create a json file version of the csv file\nmake_json(\"TFTdataset.csv\", 'TFTdataset.json')\n\n#  open the json file and save it to a variable for use later using json.load()\nwith open('TFTdataset.json') as json_file:\n    data = json.load(json_file)",
   "metadata": {
    "cell_id": "4bcbf70faae04d1f80d856065e355ade",
    "tags": [],
    "deepnote_to_be_reexecuted": false,
    "source_hash": "ec3d8111",
    "execution_start": 1652236194910,
    "execution_millis": 2695,
    "deepnote_cell_type": "code",
    "deepnote_cell_height": 621
   },
   "outputs": [],
   "execution_count": 74
  },
  {
   "cell_type": "markdown",
   "source": "We we now convert all the item IDs into the English names of the Items to make the data easier to read, to do so\nWe will be needing one more thing and thats a itemDictionary or a dictionary for converting item IDs to items names.\n\nThese can be found by searching through the en_us.json file found at https://raw.communitydragon.org/latest/cdragon/tft/\n\nYou can either manually skim through the file for item codes or create a code to clean this, however for simplicity's sake the finished item dictionary is already compiled below.",
   "metadata": {
    "cell_id": "d5fe95dc84da4baa8cc4ae207cb7a512",
    "tags": [],
    "owner_user_id": "c3a44fca-2e83-4fca-81ae-d5d786a2ce05",
    "deepnote_cell_type": "markdown",
    "deepnote_cell_height": 169.953125
   }
  },
  {
   "cell_type": "code",
   "metadata": {
    "collapsed": false,
    "pycharm": {
     "name": "#%%\n"
    },
    "cell_id": "00010-f06ed10b-99d1-487d-8ef4-13f02df3f4d1",
    "deepnote_to_be_reexecuted": false,
    "source_hash": "3cc2b459",
    "execution_start": 1652236200215,
    "execution_millis": 3,
    "deepnote_cell_type": "code",
    "deepnote_cell_height": 2169
   },
   "source": "itemDictionary = {\n    1: \"B.F. Sword\",\n    2: \"Recurve Bow\",\n    3: \"Needlessly Large Rod\",\n    4: \"Tear of the Goddess\",\n    5: \"Chain Vest\",\n    6: \"Negatron Cloak\",\n    7: \"Giant's Belt\",\n    8: \"Spatula\",\n    9: \"Sparring Gloves\",\n    11: \"Deathblade\",\n    12: \"Giant Slayer\",\n    13: \"Hextech Gunblade\",\n    14: \"Spear of Shojin\",\n    15: \"Guardian Angel\",\n    16: \"Bloodthirster\",\n    17: \"Zeke's Herald\",\n    18: \"Imperial Emblem\",\n    19: \"Infinity Edge\",\n    22: \"Rapid Firecannon\",\n    23: \"Guinsoo's Rageblade\",\n    24: \"Statikk Shiv\",\n    25: \"Titan's Resolve\",\n    26: \"Runaan's Hurricane\",\n    27: \"Zz'Rot Portal\",\n    28: \"Challenger Emblem\",\n    29: \"Last Whisper\",\n    33: \"Rabadon's Deathcap\",\n    34: \"Archangel's Staff\", \n    35: \"Locket of the Iron Solari\",\n    36: \"Ionic Spark\",\n    37: \"Morellonomicon\",\n    38: \"Arcanist Emblem\",\n    39: \"Jeweled Gauntlet\",\n    44: \"Blue Buff\",\n    45: \"Frozen Heart\",\n    46: \"Chalice of Power\",\n    47: \"Redemption\",\n    48: \"Academy Emblem\",\n    49: \"Hand Of Justice\",\n    55: \"Bramble Vest\",\n    56: \"Gargoyle Stoneplate\",\n    57: \"Sunfire Cape\",\n    58: \"Bodyguard Emblem\",\n    59: \"Shroud of Stillness\",\n    66: \"Dragon's Claw\",\n    67: \"Zephyr\",\n    68: \"Syndicate Emblem\",\n    69: \"Quicksilver\",\n    70: \"Debonair Emblem\",\n    71: \"Striker Emblem\",\n    72: \"Hextech Emblem\",\n    77: \"Warmog's Armor\",\n    78: \"Chemtech Emblem\",\n    79: \"Banshee's Claw\",\n    88: \"Tactician's Crown\",\n    89: \"Assassin Emblem\",\n    94: \"Edge of Night\",\n    99: \"Thief's Gloves\",\n    2011: \"Luminous Deathblade\",\n    2012: \"Demonslayer\",\n    2013: \"Hextech Lifeblade\",\n    2014: \"Spear of Hirana\",\n    2015: \"Brink of Dawn\",\n    2016: \"Blessed Bloodthirster\",\n    2017: \"Zeke's Harmony\",\n    2019: \"Zenith Edge\",\n    2022: \"Rapid Lightcannon\",\n    2023: \"Guinsoo's Reckoning\",\n    2024: \"Statikk's Favor\",\n    2025: \"Titan's Vow\",\n    2026: \"Runaan's Tempest\",\n    2027: \"Zz'Rots Invitation\",\n    2029: \"Eternal Whisper\",\n    2033: \"Rabadon's Ascended Deathcap\",\n    2034: \"Urf-Angel's Staff\",\n    2035: \"Locket of Targon Prime\",\n    2036: \"Covalent Spark\",\n    2037: \"More More-ellonomicon\",\n    2039: \"Glamorous Gauntlet\",\n    2044: \"Blue Blessing\",\n    2045: \"Frozen Heart Of Gold\",\n    2046: \"Chalice of Charity\",\n    2047: \"Radiant Redemption\",\n    2049: \"Fist of Fairness\",\n    2055: \"Rosethorn Vest\",\n    2056: \"Dvarapala Stoneplate\",\n    2057: \"Sunlight Cape\",\n    2059: \"Shroud of Reverence\",\n    2066: \"Dragon's Will\",\n    2067: \"Mistral\",\n    2069: \"Quickestsilver\",\n    2077: \"Warmog's Pride\",\n    2079: \"Banshee's Silence\",\n    2099: \"Rascal's Gloves\",\n    2190: \"Mutant Emblem\",\n    2191: \"Clockwork Emblem\",\n    2192: \"Mercenary Emblem\",\n    2193: \"Socialite Emblem\",\n    2194: \"Enforcer Emblem\",\n    2195: \"Scrap Emblem\",\n    2196: \"Protector Emblem\",\n    2197: \"Bruiser Emblem\",\n    2198: \"Innovator Emblem\",\n    2199: \"Sniper Emblem\",\n    2200: \"Scholar Emblem\",\n    9001: \"Anima Visage\",\n    9002: \"Death's Defiance\",\n    9003: \"Eternal Winter\",\n    9004: \"Infinity Force\",\n    9005: \"Manazane\",\n    9006: \"Obsidian Cleaver\",\n    9007: \"Randuin's Sanctum\",\n    9008: \"Rocket-Propelled Fist\",\n    9009: \"Gold Collector\",\n    9010: \"Zhonya's Paradox\"\n}",
   "execution_count": 76,
   "outputs": []
  },
  {
   "cell_type": "markdown",
   "source": "With a JSON file and an item dictionary, we can now replace all item ID numbers with Item Names as well as remove redundant sections such as \"itemName\" and \"name\".",
   "metadata": {
    "cell_id": "7caec578ecda4540ba2c316a030f4e18",
    "tags": [],
    "deepnote_cell_type": "markdown",
    "deepnote_cell_height": 74.78125
   }
  },
  {
   "cell_type": "code",
   "source": "\n# create a list containing the all row numbers (keys) of the dataset\nkeys = list(data.keys())\n\n# iterate through the list of keys\nfor key in keys:\n    # save the units section of the row specified by key\n    units = data[key]['units']\n\n    # Units will be in the form of a list of dictionaries representing each unit in the team within a string\n    # We want string to be just a list\n    # To do so we will first make sure that units is a string\n    \n    if(units.__class__.__name__ == 'str'):\n        if len(units) < 2:\n            print(\"error line: \", key)\n        # convert the string into a list of dictionaries using literal_eval()\n        units = literal_eval(units)\n\n    # For every item in every unit within the row we replace each ID with its respective name within the itemDictionary\n    for char in range(len(units)):\n        info = list(units[char].keys())\n        # if this unit has a \"itemNames\" section remove it\n        if 'itemNames' in info:\n            units[char].pop('itemNames')\n\n        # if this unit has a \"names\" section remove it\n        if 'names' in info:\n            units[char].pop('name')\n        for item in range(len(units[char]['items'])):\n            \n            # Confirm that the ID is an actual Item ID by making sure its length is less or equal to 4\n            # This is for the case that the item name is already there which could be the case\n            if(len(str(units[char]['items'][item])) <= 4):\n                units[char]['items'][item] = itemDictionary[units[char]['items'][item]]\n    \n    # update the row with the new information\n    data[key]['units'] = units\n\n# Save the dictionary to the json file\nwith open('TFTdataset.json', 'w') as json_file:\n    json.dump(data, json_file)\n    ",
   "metadata": {
    "cell_id": "5ca3c9e7fccc427eae7a98db964415f7",
    "tags": [],
    "deepnote_to_be_reexecuted": false,
    "source_hash": "960df79f",
    "execution_start": 1652236204243,
    "execution_millis": 23974,
    "deepnote_cell_type": "code",
    "deepnote_cell_height": 837
   },
   "outputs": [],
   "execution_count": 77
  },
  {
   "cell_type": "markdown",
   "source": "We can now convert the json directly into a pandas dataframe for analysis.\n",
   "metadata": {
    "cell_id": "fea563f95dae4d7bbbb52de2f71d1c01",
    "tags": [],
    "deepnote_cell_type": "markdown",
    "deepnote_cell_height": 52.390625
   }
  },
  {
   "cell_type": "code",
   "source": "# if the JSON isn't already saved to a variable in the v\n# with open(jsonfile) as json_file:\n#     data = json.load(json_file)\n\ndf = pd.DataFrame.from_dict(data, orient = 'index')\ndf",
   "metadata": {
    "cell_id": "c8c8e36c32b748c3bfcabe44122686fc",
    "tags": [],
    "deepnote_to_be_reexecuted": false,
    "source_hash": "20936f61",
    "execution_start": 1652236233223,
    "execution_millis": 410,
    "owner_user_id": "60df8e0a-2aa1-45e3-8a8a-8bd70c5458a1",
    "deepnote_cell_type": "code",
    "deepnote_cell_height": 690
   },
   "outputs": [
    {
     "output_type": "execute_result",
     "execution_count": 78,
     "data": {
      "application/vnd.deepnote.dataframe.v3+json": {
       "column_count": 6,
       "row_count": 40000,
       "columns": [
        {
         "name": "augments",
         "dtype": "object",
         "stats": {
          "unique_count": 37133,
          "nan_count": 0,
          "categories": [
           {
            "name": "[]",
            "count": 7
           },
           {
            "name": "['TreasureTrove1', 'Backfoot1', 'Phalanx2']",
            "count": 7
           },
           {
            "name": "37131 others",
            "count": 39986
           }
          ]
         }
        },
        {
         "name": "level",
         "dtype": "object",
         "stats": {
          "unique_count": 8,
          "nan_count": 0,
          "categories": [
           {
            "name": "8",
            "count": 23390
           },
           {
            "name": "9",
            "count": 11173
           },
           {
            "name": "6 others",
            "count": 5437
           }
          ]
         }
        },
        {
         "name": "placement",
         "dtype": "object"
        },
        {
         "name": "traits",
         "dtype": "object"
        },
        {
         "name": "units",
         "dtype": "object"
        },
        {
         "name": "Match ID",
         "dtype": "object"
        },
        {
         "name": "_deepnote_index_column",
         "dtype": "object"
        }
       ],
       "rows": [
        {
         "augments": "['DebonairTrait', 'Distancing2', 'DebonairEmblem2']",
         "level": "7",
         "placement": "8",
         "traits": "[{'name': 'Assassin', 'num_units': 2, 'style': 1, 'tier_current': 1, 'tier_total': 3}, {'name': 'Bodyguard', 'num_units': 2, 'style': 1, 'tier_current': 1, 'tier_total': 4}, {'name': 'Challenger', 'num_units': 1, 'style': 0, 'tier_current': 0, 'tier_total': 4}, {'name': 'Debonair', 'num_units': 7, 'style': 4, 'tier_current': 3, 'tier_total': 3}, {'name': 'Innovator', 'num_units': 1, 'style': 0, 'tier_current': 0, 'tier_total': 3}, {'name': 'Scholar', 'num_units': 2, 'style': 1, 'tier_current': 1, 'tier_total': 3}, {'name': 'Scrap', 'num_units': 2, 'style': 1, 'tier_current': 1, 'tier_total': 3}, {'name': 'Syndicate', 'num_units': 1, 'style': 0, 'tier_current': 0, 'tier_total': 3}]",
         "units": "[{'character_id': 'Talon', 'items': ['Quicksilver', 'Infinity Edge', 'Rapid Firecannon'], 'name': '', 'rarity': 1, 'tier': 2}, {'character_id': 'Zyra', 'items': ['Debonair Emblem'], 'name': '', 'rarity': 1, 'tier': 2}, {'character_id': 'Blitzcrank', 'items': ['Debonair Emblem'], 'name': '', 'rarity': 1, 'tier': 2}, {'character_id': 'Syndra', 'items': [], 'name': '', 'rarity': 1, 'tier': 2}, {'character_id': 'Leona', 'items': [], 'name': '', 'rarity': 2, 'tier': 1}, {'character_id': 'Ekko', 'items': ['Morellonomicon', \"Zeke's Herald\", 'B.F. Sword'], 'name': '', 'rarity': 2, 'tier': 2}, {'character_id': 'Draven', 'items': [], 'name': 'Draven', 'rarity': 3, 'tier': 1}]",
         "Match ID": "NA1_4247681350",
         "_deepnote_index_column": "0"
        },
        {
         "augments": "['AssassinCutthroat', 'RichGetRicher', 'Diversify3']",
         "level": "9",
         "placement": "3",
         "traits": "[{'name': 'Arcanist', 'num_units': 2, 'style': 1, 'tier_current': 1, 'tier_total': 4}, {'name': 'Assassin', 'num_units': 2, 'style': 1, 'tier_current': 1, 'tier_total': 3}, {'name': 'Bruiser', 'num_units': 2, 'style': 1, 'tier_current': 1, 'tier_total': 4}, {'name': 'Glutton', 'num_units': 1, 'style': 3, 'tier_current': 1, 'tier_total': 1}, {'name': 'Innovator', 'num_units': 1, 'style': 0, 'tier_current': 0, 'tier_total': 3}, {'name': 'Mastermind', 'num_units': 1, 'style': 3, 'tier_current': 1, 'tier_total': 1}, {'name': 'Mercenary', 'num_units': 1, 'style': 0, 'tier_current': 0, 'tier_total': 3}, {'name': 'Mutant', 'num_units': 5, 'style': 3, 'tier_current': 2, 'tier_total': 3}, {'name': 'Scholar', 'num_units': 2, 'style': 1, 'tier_current': 1, 'tier_total': 3}, {'name': 'Scrap', 'num_units': 2, 'style': 1, 'tier_current': 1, 'tier_total': 3}, {'name': 'Striker', 'num_units': 2, 'style': 1, 'tier_current': 1, 'tier_total': 3}]",
         "units": "[{'character_id': 'Kassadin', 'items': [], 'name': 'Kassadin', 'rarity': 0, 'tier': 2}, {'character_id': 'RekSai', 'items': ['Chalice of Power'], 'name': 'RekSai', 'rarity': 1, 'tier': 2}, {'character_id': 'Malzahar', 'items': [], 'name': '', 'rarity': 2, 'tier': 1}, {'character_id': 'Malzahar', 'items': [], 'name': '', 'rarity': 2, 'tier': 1}, {'character_id': 'Ekko', 'items': [\"Thief's Gloves\", 'Statikk Shiv', 'Spear of Shojin'], 'name': '', 'rarity': 2, 'tier': 2}, {'character_id': 'KhaZix', 'items': ['Infinity Edge', 'Edge of Night', 'Quicksilver'], 'name': 'Khazix', 'rarity': 3, 'tier': 2}, {'character_id': 'Irelia', 'items': ['Mutant Emblem', 'Recurve Bow'], 'name': '', 'rarity': 3, 'tier': 2}, {'character_id': 'TahmKench', 'items': ['Ionic Spark', 'Redemption', 'Arcanist Emblem'], 'name': '', 'rarity': 4, 'tier': 2}, {'character_id': 'Silco', 'items': [], 'name': '', 'rarity': 4, 'tier': 1}]",
         "Match ID": "NA1_4247681350",
         "_deepnote_index_column": "1"
        },
        {
         "augments": "['EnchanterTrait', 'SunfireBoard', 'TwinshotTrait2']",
         "level": "8",
         "placement": "2",
         "traits": "[{'name': 'Bruiser', 'num_units': 2, 'style': 1, 'tier_current': 1, 'tier_total': 4}, {'name': 'Clockwork', 'num_units': 2, 'style': 1, 'tier_current': 1, 'tier_total': 3}, {'name': 'Enchanter', 'num_units': 4, 'style': 3, 'tier_current': 3, 'tier_total': 4}, {'name': 'Enforcer', 'num_units': 2, 'style': 1, 'tier_current': 1, 'tier_total': 2}, {'name': 'Hextech', 'num_units': 2, 'style': 1, 'tier_current': 1, 'tier_total': 4}, {'name': 'Mercenary', 'num_units': 1, 'style': 0, 'tier_current': 0, 'tier_total': 3}, {'name': 'Rivals', 'num_units': 1, 'style': 3, 'tier_current': 1, 'tier_total': 1}, {'name': 'Socialite', 'num_units': 1, 'style': 1, 'tier_current': 1, 'tier_total': 4}, {'name': 'Syndicate', 'num_units': 1, 'style': 0, 'tier_current': 0, 'tier_total': 3}, {'name': 'Twinshot', 'num_units': 5, 'style': 4, 'tier_current': 4, 'tier_total': 4}, {'name': 'Yordle', 'num_units': 1, 'style': 0, 'tier_current': 0, 'tier_total': 2}]",
         "units": "[{'character_id': 'Sejuani', 'items': [], 'name': '', 'rarity': 1, 'tier': 2}, {'character_id': 'Corki', 'items': ['Statikk Shiv', 'Chalice of Power'], 'name': '', 'rarity': 1, 'tier': 3}, {'character_id': 'Gangplank', 'items': ['Bloodthirster', 'Quicksilver', 'Last Whisper'], 'name': '', 'rarity': 2, 'tier': 3}, {'character_id': 'Lucian', 'items': ['Blue Buff', 'Giant Slayer'], 'name': 'Lucian', 'rarity': 2, 'tier': 3}, {'character_id': 'Morgana', 'items': ['Locket of the Iron Solari', 'Locket of the Iron Solari'], 'name': 'Morgana', 'rarity': 2, 'tier': 3}, {'character_id': 'Senna', 'items': [], 'name': '', 'rarity': 2, 'tier': 2}, {'character_id': 'Orianna', 'items': [], 'name': '', 'rarity': 3, 'tier': 2}, {'character_id': 'TFT6b_Vi', 'items': ['Clockwork Emblem'], 'name': '', 'rarity': 3, 'tier': 2}]",
         "Match ID": "NA1_4247681350",
         "_deepnote_index_column": "2"
        },
        {
         "augments": "['CalculatedLoss', 'ExperimentalEmblem', 'ArcanistEmblem2']",
         "level": "9",
         "placement": "1",
         "traits": "[{'name': 'Arcanist', 'num_units': 4, 'style': 2, 'tier_current': 2, 'tier_total': 4}, {'name': 'Assassin', 'num_units': 1, 'style': 0, 'tier_current': 0, 'tier_total': 3}, {'name': 'Bodyguard', 'num_units': 1, 'style': 0, 'tier_current': 0, 'tier_total': 4}, {'name': 'Bruiser', 'num_units': 2, 'style': 1, 'tier_current': 1, 'tier_total': 4}, {'name': 'Challenger', 'num_units': 1, 'style': 0, 'tier_current': 0, 'tier_total': 4}, {'name': 'Colossus', 'num_units': 2, 'style': 3, 'tier_current': 1, 'tier_total': 1}, {'name': 'Mutant', 'num_units': 7, 'style': 4, 'tier_current': 3, 'tier_total': 3}, {'name': 'Scholar', 'num_units': 1, 'style': 0, 'tier_current': 0, 'tier_total': 3}, {'name': 'Socialite', 'num_units': 1, 'style': 1, 'tier_current': 1, 'tier_total': 4}, {'name': 'Striker', 'num_units': 1, 'style': 0, 'tier_current': 0, 'tier_total': 3}, {'name': 'Syndicate', 'num_units': 1, 'style': 0, 'tier_current': 0, 'tier_total': 3}]",
         "units": "[{'character_id': 'Kassadin', 'items': [], 'name': 'Kassadin', 'rarity': 0, 'tier': 2}, {'character_id': 'RekSai', 'items': [], 'name': 'RekSai', 'rarity': 1, 'tier': 2}, {'character_id': 'Malzahar', 'items': ['Blue Buff', \"Rabadon's Deathcap\", 'Morellonomicon'], 'name': '', 'rarity': 2, 'tier': 2}, {'character_id': 'ChoGath', 'items': [\"Titan's Resolve\", 'Arcanist Emblem', \"Dragon's Claw\"], 'name': '', 'rarity': 2, 'tier': 3}, {'character_id': 'KhaZix', 'items': [], 'name': 'Khazix', 'rarity': 3, 'tier': 2}, {'character_id': 'Ahri', 'items': ['Mutant Emblem', 'Quicksilver', 'Jeweled Gauntlet'], 'name': '', 'rarity': 3, 'tier': 2}, {'character_id': 'Galio', 'items': ['Frozen Heart'], 'name': '', 'rarity': 4, 'tier': 2}, {'character_id': 'Kaisa', 'items': ['Arcanist Emblem'], 'name': '', 'rarity': 4, 'tier': 1}]",
         "Match ID": "NA1_4247681350",
         "_deepnote_index_column": "3"
        },
        {
         "augments": "['Phalanx1', 'ArcanistSpellBlade', 'ExperimentalEmblem2']",
         "level": "9",
         "placement": "4",
         "traits": "[{'name': 'Arcanist', 'num_units': 2, 'style': 1, 'tier_current': 1, 'tier_total': 4}, {'name': 'Bruiser', 'num_units': 3, 'style': 1, 'tier_current': 1, 'tier_total': 4}, {'name': 'Challenger', 'num_units': 2, 'style': 1, 'tier_current': 1, 'tier_total': 4}, {'name': 'Chemtech', 'num_units': 1, 'style': 0, 'tier_current': 0, 'tier_total': 4}, {'name': 'Colossus', 'num_units': 2, 'style': 3, 'tier_current': 1, 'tier_total': 1}, {'name': 'Hextech', 'num_units': 1, 'style': 0, 'tier_current': 0, 'tier_total': 4}, {'name': 'Mutant', 'num_units': 7, 'style': 4, 'tier_current': 3, 'tier_total': 3}, {'name': 'Striker', 'num_units': 1, 'style': 0, 'tier_current': 0, 'tier_total': 3}, {'name': 'Syndicate', 'num_units': 1, 'style': 0, 'tier_current': 0, 'tier_total': 3}]",
         "units": "[{'character_id': 'RekSai', 'items': [], 'name': 'RekSai', 'rarity': 1, 'tier': 2}, {'character_id': 'Malzahar', 'items': ['Blue Buff', 'Morellonomicon', 'Hand Of Justice'], 'name': '', 'rarity': 2, 'tier': 2}, {'character_id': 'Zac', 'items': ['Mutant Emblem'], 'name': '', 'rarity': 2, 'tier': 2}, {'character_id': 'ChoGath', 'items': ['Shroud of Stillness', 'Challenger Emblem'], 'name': '', 'rarity': 2, 'tier': 2}, {'character_id': 'Ahri', 'items': ['Mutant Emblem', \"Banshee's Claw\", 'Hand Of Justice'], 'name': '', 'rarity': 3, 'tier': 2}, {'character_id': 'Alistar', 'items': ['Mutant Emblem'], 'name': '', 'rarity': 3, 'tier': 1}, {'character_id': 'Kaisa', 'items': [\"Zeke's Herald\"], 'name': '', 'rarity': 4, 'tier': 1}]",
         "Match ID": "NA1_4247681350",
         "_deepnote_index_column": "4"
        },
        {
         "augments": "['StrikerTrait', 'ComponentGrabBag', 'CyberneticUplink3']",
         "level": "8",
         "placement": "6",
         "traits": "[{'name': 'Assassin', 'num_units': 1, 'style': 0, 'tier_current': 0, 'tier_total': 3}, {'name': 'Bruiser', 'num_units': 1, 'style': 0, 'tier_current': 0, 'tier_total': 4}, {'name': 'Chemtech', 'num_units': 1, 'style': 0, 'tier_current': 0, 'tier_total': 4}, {'name': 'Clockwork', 'num_units': 1, 'style': 0, 'tier_current': 0, 'tier_total': 3}, {'name': 'Enforcer', 'num_units': 1, 'style': 0, 'tier_current': 0, 'tier_total': 2}, {'name': 'Hextech', 'num_units': 1, 'style': 0, 'tier_current': 0, 'tier_total': 4}, {'name': 'Innovator', 'num_units': 5, 'style': 3, 'tier_current': 2, 'tier_total': 3}, {'name': 'Scrap', 'num_units': 3, 'style': 1, 'tier_current': 1, 'tier_total': 3}, {'name': 'Socialite', 'num_units': 2, 'style': 2, 'tier_current': 2, 'tier_total': 4}, {'name': 'Striker', 'num_units': 3, 'style': 1, 'tier_current': 1, 'tier_total': 3}, {'name': 'Yordle', 'num_units': 1, 'style': 0, 'tier_current': 0, 'tier_total': 2}]",
         "units": "[{'character_id': 'Singed', 'items': [], 'name': '', 'rarity': 0, 'tier': 1}, {'character_id': 'Ezreal', 'items': ['Sparring Gloves'], 'name': '', 'rarity': 0, 'tier': 2}, {'character_id': 'Sejuani', 'items': [\"Warmog's Armor\"], 'name': '', 'rarity': 1, 'tier': 2}, {'character_id': 'Zilean', 'items': [], 'name': '', 'rarity': 1, 'tier': 2}, {'character_id': 'Ekko', 'items': ['Frozen Heart', 'Zephyr', 'Morellonomicon'], 'name': '', 'rarity': 2, 'tier': 2}, {'character_id': 'Gnar', 'items': [], 'name': '', 'rarity': 2, 'tier': 2}, {'character_id': 'Seraphine', 'items': [\"Rabadon's Deathcap\"], 'name': '', 'rarity': 3, 'tier': 2}, {'character_id': 'Irelia', 'items': ['Bloodthirster', \"Runaan's Hurricane\", 'Infinity Edge'], 'name': '', 'rarity': 3, 'tier': 1}]",
         "Match ID": "NA1_4247681350",
         "_deepnote_index_column": "5"
        },
        {
         "augments": "['HeroStandBehindMe', 'TriForce2', 'HighFive']",
         "level": "8",
         "placement": "7",
         "traits": "[{'name': 'Arcanist', 'num_units': 1, 'style': 0, 'tier_current': 0, 'tier_total': 4}, {'name': 'Bodyguard', 'num_units': 2, 'style': 1, 'tier_current': 1, 'tier_total': 4}, {'name': 'Chemtech', 'num_units': 1, 'style': 0, 'tier_current': 0, 'tier_total': 4}, {'name': 'Clockwork', 'num_units': 1, 'style': 0, 'tier_current': 0, 'tier_total': 3}, {'name': 'Enchanter', 'num_units': 3, 'style': 2, 'tier_current': 2, 'tier_total': 4}, {'name': 'Hextech', 'num_units': 1, 'style': 0, 'tier_current': 0, 'tier_total': 4}, {'name': 'Rivals', 'num_units': 1, 'style': 3, 'tier_current': 1, 'tier_total': 1}, {'name': 'Scrap', 'num_units': 2, 'style': 1, 'tier_current': 1, 'tier_total': 3}, {'name': 'Socialite', 'num_units': 1, 'style': 1, 'tier_current': 1, 'tier_total': 4}, {'name': 'Syndicate', 'num_units': 2, 'style': 0, 'tier_current': 0, 'tier_total': 3}, {'name': 'Twinshot', 'num_units': 2, 'style': 1, 'tier_current': 1, 'tier_total': 4}]",
         "units": "[{'character_id': 'Blitzcrank', 'items': ['Bramble Vest'], 'name': '', 'rarity': 1, 'tier': 2}, {'character_id': 'Lucian', 'items': [], 'name': 'Lucian', 'rarity': 2, 'tier': 2}, {'character_id': 'Morgana', 'items': [], 'name': 'Morgana', 'rarity': 2, 'tier': 2}, {'character_id': 'Senna', 'items': [], 'name': '', 'rarity': 2, 'tier': 2}, {'character_id': 'Braum', 'items': ['Bramble Vest', 'Redemption'], 'name': '', 'rarity': 3, 'tier': 2}, {'character_id': 'Orianna', 'items': [], 'name': '', 'rarity': 3, 'tier': 2}, {'character_id': 'Jinx', 'items': ['Last Whisper', 'Infinity Edge', 'Edge of Night'], 'name': '', 'rarity': 4, 'tier': 2}, {'character_id': 'Viktor', 'items': ['Redemption'], 'name': '', 'rarity': 4, 'tier': 2}]",
         "Match ID": "NA1_4247681350",
         "_deepnote_index_column": "6"
        },
        {
         "augments": "['ThrillOfTheHunt1', 'Keepers2', 'Weakspot3']",
         "level": "8",
         "placement": "5",
         "traits": "[{'name': 'Arcanist', 'num_units': 1, 'style': 0, 'tier_current': 0, 'tier_total': 4}, {'name': 'Bruiser', 'num_units': 2, 'style': 1, 'tier_current': 1, 'tier_total': 4}, {'name': 'Colossus', 'num_units': 1, 'style': 0, 'tier_current': 0, 'tier_total': 1}, {'name': 'Enforcer', 'num_units': 2, 'style': 1, 'tier_current': 1, 'tier_total': 2}, {'name': 'Hextech', 'num_units': 6, 'style': 3, 'tier_current': 3, 'tier_total': 4}, {'name': 'Rivals', 'num_units': 1, 'style': 3, 'tier_current': 1, 'tier_total': 1}, {'name': 'Striker', 'num_units': 2, 'style': 1, 'tier_current': 1, 'tier_total': 3}, {'name': 'Twinshot', 'num_units': 1, 'style': 0, 'tier_current': 0, 'tier_total': 4}]",
         "units": "[{'character_id': 'JarvanIV', 'items': [], 'name': '', 'rarity': 0, 'tier': 2}, {'character_id': 'Sejuani', 'items': [], 'name': '', 'rarity': 1, 'tier': 2}, {'character_id': 'Swain', 'items': [], 'name': '', 'rarity': 1, 'tier': 2}, {'character_id': 'Lucian', 'items': ['B.F. Sword'], 'name': 'Lucian', 'rarity': 2, 'tier': 2}, {'character_id': 'Sivir', 'items': ['Infinity Edge', \"Guinsoo's Rageblade\", 'Edge of Night'], 'name': '', 'rarity': 3, 'tier': 2}, {'character_id': 'TFT6b_Vi', 'items': ['Bramble Vest', \"Warmog's Armor\", 'Blue Buff'], 'name': '', 'rarity': 3, 'tier': 2}, {'character_id': 'Alistar', 'items': ['Morellonomicon'], 'name': '', 'rarity': 3, 'tier': 2}]",
         "Match ID": "NA1_4247681350",
         "_deepnote_index_column": "7"
        },
        {
         "augments": "['TargetDummies', 'BruteTrait', 'ComponentGrabBag']",
         "level": "8",
         "placement": "5",
         "traits": "[{'name': 'Arcanist', 'num_units': 1, 'style': 0, 'tier_current': 0, 'tier_total': 4}, {'name': 'Assassin', 'num_units': 2, 'style': 1, 'tier_current': 1, 'tier_total': 3}, {'name': 'Bruiser', 'num_units': 4, 'style': 2, 'tier_current': 2, 'tier_total': 4}, {'name': 'Challenger', 'num_units': 1, 'style': 0, 'tier_current': 0, 'tier_total': 4}, {'name': 'Enforcer', 'num_units': 2, 'style': 1, 'tier_current': 1, 'tier_total': 2}, {'name': 'Hextech', 'num_units': 1, 'style': 0, 'tier_current': 0, 'tier_total': 4}, {'name': 'Innovator', 'num_units': 1, 'style': 0, 'tier_current': 0, 'tier_total': 3}, {'name': 'Mutant', 'num_units': 5, 'style': 3, 'tier_current': 2, 'tier_total': 3}, {'name': 'Rivals', 'num_units': 1, 'style': 3, 'tier_current': 1, 'tier_total': 1}, {'name': 'Scholar', 'num_units': 1, 'style': 0, 'tier_current': 0, 'tier_total': 3}, {'name': 'Scrap', 'num_units': 1, 'style': 0, 'tier_current': 0, 'tier_total': 3}, {'name': 'Striker', 'num_units': 1, 'style': 0, 'tier_curre…",
         "units": "[{'character_id': 'Kassadin', 'items': [\"Zz'Rot Portal\", \"Zz'Rot Portal\"], 'name': 'Kassadin', 'rarity': 0, 'tier': 2}, {'character_id': 'Sejuani', 'items': [], 'name': '', 'rarity': 1, 'tier': 1}, {'character_id': 'RekSai', 'items': [], 'name': 'RekSai', 'rarity': 1, 'tier': 2}, {'character_id': 'Malzahar', 'items': [\"Tactician's Crown\", 'Zephyr'], 'name': '', 'rarity': 2, 'tier': 2}, {'character_id': 'Ekko', 'items': ['Frozen Heart'], 'name': '', 'rarity': 2, 'tier': 2}, {'character_id': 'KhaZix', 'items': ['Bloodthirster', 'Infinity Edge', 'Quicksilver'], 'name': 'Khazix', 'rarity': 3, 'tier': 2}, {'character_id': 'KhaZix', 'items': ['Quicksilver'], 'name': 'Khazix', 'rarity': 3, 'tier': 2}, {'character_id': 'TFT6b_Vi', 'items': ['Shroud of Stillness', 'Ionic Spark', 'Sunfire Cape'], 'name': '', 'rarity': 3, 'tier': 2}, {'character_id': 'Kaisa', 'items': [], 'name': '', 'rarity': 4, 'tier': 1}]",
         "Match ID": "NA1_4242542116",
         "_deepnote_index_column": "8"
        },
        {
         "augments": "['CelestialBlessing1', 'CyberneticShell1', 'ScrapEmblem']",
         "level": "9",
         "placement": "2",
         "traits": "[{'name': 'Assassin', 'num_units': 1, 'style': 0, 'tier_current': 0, 'tier_total': 3}, {'name': 'Bodyguard', 'num_units': 2, 'style': 1, 'tier_current': 1, 'tier_total': 4}, {'name': 'Clockwork', 'num_units': 2, 'style': 1, 'tier_current': 1, 'tier_total': 3}, {'name': 'Enchanter', 'num_units': 1, 'style': 0, 'tier_current': 0, 'tier_total': 4}, {'name': 'Enforcer', 'num_units': 1, 'style': 0, 'tier_current': 0, 'tier_total': 2}, {'name': 'Innovator', 'num_units': 4, 'style': 1, 'tier_current': 1, 'tier_total': 3}, {'name': 'Rivals', 'num_units': 1, 'style': 3, 'tier_current': 1, 'tier_total': 1}, {'name': 'Scrap', 'num_units': 6, 'style': 3, 'tier_current': 3, 'tier_total': 3}, {'name': 'Striker', 'num_units': 1, 'style': 0, 'tier_current': 0, 'tier_total': 3}, {'name': 'Syndicate', 'num_units': 1, 'style': 0, 'tier_current': 0, 'tier_total': 3}, {'name': 'Transformer', 'num_units': 1, 'style': 3, 'tier_current': 1, 'tier_total': 1}, {'name': 'Twinshot', 'num_units': 1, 'style': 0, '…",
         "units": "[{'character_id': 'Ezreal', 'items': [], 'name': '', 'rarity': 0, 'tier': 1}, {'character_id': 'Zilean', 'items': [], 'name': '', 'rarity': 1, 'tier': 1}, {'character_id': 'Blitzcrank', 'items': [\"Giant's Belt\"], 'name': '', 'rarity': 1, 'tier': 2}, {'character_id': 'Ekko', 'items': ['Morellonomicon'], 'name': '', 'rarity': 2, 'tier': 1}, {'character_id': 'Braum', 'items': ['Scrap Emblem', 'Gargoyle Stoneplate'], 'name': '', 'rarity': 3, 'tier': 2}, {'character_id': 'Orianna', 'items': [], 'name': '', 'rarity': 3, 'tier': 2}, {'character_id': 'Irelia', 'items': [], 'name': '', 'rarity': 3, 'tier': 1}, {'character_id': 'Jinx', 'items': [\"Runaan's Hurricane\", \"Rabadon's Deathcap\", \"Giant's Belt\"], 'name': '', 'rarity': 4, 'tier': 2}, {'character_id': 'Jayce', 'items': ['Infinity Edge', 'Jeweled Gauntlet', 'Blue Buff'], 'name': '', 'rarity': 4, 'tier': 2}]",
         "Match ID": "NA1_4242542116",
         "_deepnote_index_column": "9"
        }
       ]
      },
      "text/plain": "                                                augments level placement  \\\n0      ['DebonairTrait', 'Distancing2', 'DebonairEmbl...     7         8   \n1      ['AssassinCutthroat', 'RichGetRicher', 'Divers...     9         3   \n2      ['EnchanterTrait', 'SunfireBoard', 'TwinshotTr...     8         2   \n3      ['CalculatedLoss', 'ExperimentalEmblem', 'Arca...     9         1   \n4      ['Phalanx1', 'ArcanistSpellBlade', 'Experiment...     9         4   \n...                                                  ...   ...       ...   \n39995  ['Disintegrator1', 'TomeOfTraits1', 'AssassinE...     9         1   \n39996   ['SocialiteDuet', 'Disintegrator1', 'Backfoot2']     8         3   \n39997  ['ItemGrabBag1', 'ThrillOfTheHunt1', 'JeweledL...     8         4   \n39998      ['Featherweights1', 'Weakspot', 'Archangel2']     8         7   \n39999     ['Underdogs', 'ScholarTrait', 'BinaryAirdrop']     8         8   \n\n                                                  traits  \\\n0      [{'name': 'Assassin', 'num_units': 2, 'style':...   \n1      [{'name': 'Arcanist', 'num_units': 2, 'style':...   \n2      [{'name': 'Bruiser', 'num_units': 2, 'style': ...   \n3      [{'name': 'Arcanist', 'num_units': 4, 'style':...   \n4      [{'name': 'Arcanist', 'num_units': 2, 'style':...   \n...                                                  ...   \n39995  [{'name': 'Assassin', 'num_units': 4, 'style':...   \n39996  [{'name': 'Bodyguard', 'num_units': 1, 'style'...   \n39997  [{'name': 'Assassin', 'num_units': 4, 'style':...   \n39998  [{'name': 'Arcanist', 'num_units': 2, 'style':...   \n39999  [{'name': 'Arcanist', 'num_units': 1, 'style':...   \n\n                                                   units        Match ID  \n0      [{'character_id': 'Talon', 'items': ['Quicksil...  NA1_4247681350  \n1      [{'character_id': 'Kassadin', 'items': [], 'na...  NA1_4247681350  \n2      [{'character_id': 'Sejuani', 'items': [], 'nam...  NA1_4247681350  \n3      [{'character_id': 'Kassadin', 'items': [], 'na...  NA1_4247681350  \n4      [{'character_id': 'RekSai', 'items': [], 'name...  NA1_4247681350  \n...                                                  ...             ...  \n39995  [{'character_id': 'Zilean', 'items': [], 'name...  NA1_4255593521  \n39996  [{'character_id': 'Corki', 'items': [], 'name'...  NA1_4255593521  \n39997  [{'character_id': 'Nocturne', 'items': [], 'na...  NA1_4255593521  \n39998  [{'character_id': 'Poppy', 'items': [], 'name'...  NA1_4255593521  \n39999  [{'character_id': 'Kassadin', 'items': ['Drago...  NA1_4255593521  \n\n[40000 rows x 6 columns]",
      "text/html": "<div>\n<style scoped>\n    .dataframe tbody tr th:only-of-type {\n        vertical-align: middle;\n    }\n\n    .dataframe tbody tr th {\n        vertical-align: top;\n    }\n\n    .dataframe thead th {\n        text-align: right;\n    }\n</style>\n<table border=\"1\" class=\"dataframe\">\n  <thead>\n    <tr style=\"text-align: right;\">\n      <th></th>\n      <th>augments</th>\n      <th>level</th>\n      <th>placement</th>\n      <th>traits</th>\n      <th>units</th>\n      <th>Match ID</th>\n    </tr>\n  </thead>\n  <tbody>\n    <tr>\n      <th>0</th>\n      <td>['DebonairTrait', 'Distancing2', 'DebonairEmbl...</td>\n      <td>7</td>\n      <td>8</td>\n      <td>[{'name': 'Assassin', 'num_units': 2, 'style':...</td>\n      <td>[{'character_id': 'Talon', 'items': ['Quicksil...</td>\n      <td>NA1_4247681350</td>\n    </tr>\n    <tr>\n      <th>1</th>\n      <td>['AssassinCutthroat', 'RichGetRicher', 'Divers...</td>\n      <td>9</td>\n      <td>3</td>\n      <td>[{'name': 'Arcanist', 'num_units': 2, 'style':...</td>\n      <td>[{'character_id': 'Kassadin', 'items': [], 'na...</td>\n      <td>NA1_4247681350</td>\n    </tr>\n    <tr>\n      <th>2</th>\n      <td>['EnchanterTrait', 'SunfireBoard', 'TwinshotTr...</td>\n      <td>8</td>\n      <td>2</td>\n      <td>[{'name': 'Bruiser', 'num_units': 2, 'style': ...</td>\n      <td>[{'character_id': 'Sejuani', 'items': [], 'nam...</td>\n      <td>NA1_4247681350</td>\n    </tr>\n    <tr>\n      <th>3</th>\n      <td>['CalculatedLoss', 'ExperimentalEmblem', 'Arca...</td>\n      <td>9</td>\n      <td>1</td>\n      <td>[{'name': 'Arcanist', 'num_units': 4, 'style':...</td>\n      <td>[{'character_id': 'Kassadin', 'items': [], 'na...</td>\n      <td>NA1_4247681350</td>\n    </tr>\n    <tr>\n      <th>4</th>\n      <td>['Phalanx1', 'ArcanistSpellBlade', 'Experiment...</td>\n      <td>9</td>\n      <td>4</td>\n      <td>[{'name': 'Arcanist', 'num_units': 2, 'style':...</td>\n      <td>[{'character_id': 'RekSai', 'items': [], 'name...</td>\n      <td>NA1_4247681350</td>\n    </tr>\n    <tr>\n      <th>...</th>\n      <td>...</td>\n      <td>...</td>\n      <td>...</td>\n      <td>...</td>\n      <td>...</td>\n      <td>...</td>\n    </tr>\n    <tr>\n      <th>39995</th>\n      <td>['Disintegrator1', 'TomeOfTraits1', 'AssassinE...</td>\n      <td>9</td>\n      <td>1</td>\n      <td>[{'name': 'Assassin', 'num_units': 4, 'style':...</td>\n      <td>[{'character_id': 'Zilean', 'items': [], 'name...</td>\n      <td>NA1_4255593521</td>\n    </tr>\n    <tr>\n      <th>39996</th>\n      <td>['SocialiteDuet', 'Disintegrator1', 'Backfoot2']</td>\n      <td>8</td>\n      <td>3</td>\n      <td>[{'name': 'Bodyguard', 'num_units': 1, 'style'...</td>\n      <td>[{'character_id': 'Corki', 'items': [], 'name'...</td>\n      <td>NA1_4255593521</td>\n    </tr>\n    <tr>\n      <th>39997</th>\n      <td>['ItemGrabBag1', 'ThrillOfTheHunt1', 'JeweledL...</td>\n      <td>8</td>\n      <td>4</td>\n      <td>[{'name': 'Assassin', 'num_units': 4, 'style':...</td>\n      <td>[{'character_id': 'Nocturne', 'items': [], 'na...</td>\n      <td>NA1_4255593521</td>\n    </tr>\n    <tr>\n      <th>39998</th>\n      <td>['Featherweights1', 'Weakspot', 'Archangel2']</td>\n      <td>8</td>\n      <td>7</td>\n      <td>[{'name': 'Arcanist', 'num_units': 2, 'style':...</td>\n      <td>[{'character_id': 'Poppy', 'items': [], 'name'...</td>\n      <td>NA1_4255593521</td>\n    </tr>\n    <tr>\n      <th>39999</th>\n      <td>['Underdogs', 'ScholarTrait', 'BinaryAirdrop']</td>\n      <td>8</td>\n      <td>8</td>\n      <td>[{'name': 'Arcanist', 'num_units': 1, 'style':...</td>\n      <td>[{'character_id': 'Kassadin', 'items': ['Drago...</td>\n      <td>NA1_4255593521</td>\n    </tr>\n  </tbody>\n</table>\n<p>40000 rows × 6 columns</p>\n</div>"
     },
     "metadata": {}
    }
   ],
   "execution_count": 78
  },
  {
   "cell_type": "markdown",
   "metadata": {
    "collapsed": false,
    "pycharm": {
     "name": "#%%\n"
    },
    "cell_id": "00011-9ce4d4c4-5d9d-4b7b-8c14-7e11034cc49d",
    "deepnote_to_be_reexecuted": false,
    "source_hash": "3e26e3ed",
    "execution_start": 1652226697112,
    "execution_millis": 2,
    "deepnote_cell_type": "markdown",
    "deepnote_cell_height": 82
   },
   "source": "# <center>Exploratory Data Analysis</center>\n",
   "execution_count": 26
  },
  {
   "cell_type": "code",
   "source": "",
   "metadata": {
    "cell_id": "11c8cc5a338f4872852f2ded98baee3f",
    "tags": [],
    "deepnote_cell_type": "code",
    "deepnote_cell_height": 66
   },
   "outputs": [],
   "execution_count": null
  },
  {
   "cell_type": "markdown",
   "source": "Scatterplot: Traits vs winrate\n\nScatterplot: augments vs winrate\n\nScatterplot: Items vs winrate\n\nScatterplot: champs/unit vs winrate\n\n(remove this later)\n",
   "metadata": {
    "cell_id": "474326ff0fb949b68c7b06f1515e3eb2",
    "tags": [],
    "deepnote_cell_type": "markdown",
    "deepnote_cell_height": 197.953125
   }
  },
  {
   "cell_type": "code",
   "source": "augment_df = pd.DataFrame(columns = ['augment', 'win', 'loss'])\nfor index, row in df.iterrows():\n    augments = row[\"augments\"]\n    if augments.__class__.__name__ == 'str':\n        augments = literal_eval(augments)\n    for augment in augments:\n        if pd.to_numeric(row[\"placement\"]) >= 1 and pd.to_numeric(row[\"placement\"]) <= 4:\n            augment_df = augment_df.append({'augment': augment, 'win': 1, 'loss': 0}, ignore_index = True)\n        else:\n            augment_df = augment_df.append({'augment': augment, 'win': 0, 'loss': 1}, ignore_index = True)\naugment_df\n\n\n# df\n# cleanedData = pd.read_json(\"TFTdataset.json\")\n# cleanedData",
   "metadata": {
    "cell_id": "7d19562e1591461ea3b8b6a722fbccbd",
    "tags": [],
    "deepnote_to_be_reexecuted": false,
    "source_hash": "af62e2c3",
    "execution_start": 1652236557493,
    "execution_millis": 497976,
    "deepnote_table_state": {
     "pageSize": 10,
     "pageIndex": 0,
     "filters": [],
     "sortBy": []
    },
    "deepnote_table_loading": false,
    "deepnote_cell_type": "code",
    "deepnote_cell_height": 351,
    "deepnote_output_heights": [
     607,
     462.5
    ]
   },
   "outputs": [
    {
     "output_type": "error",
     "ename": "KeyboardInterrupt",
     "evalue": "",
     "traceback": [
      "\u001b[0;31m---------------------------------------------------------------------------\u001b[0m",
      "\u001b[0;31mKeyboardInterrupt\u001b[0m                         Traceback (most recent call last)",
      "\u001b[0;32m<ipython-input-80-6b33deebb2ac>\u001b[0m in \u001b[0;36m<module>\u001b[0;34m\u001b[0m\n\u001b[1;32m      9\u001b[0m             \u001b[0maugment_df\u001b[0m \u001b[0;34m=\u001b[0m \u001b[0maugment_df\u001b[0m\u001b[0;34m.\u001b[0m\u001b[0mappend\u001b[0m\u001b[0;34m(\u001b[0m\u001b[0;34m{\u001b[0m\u001b[0;34m'augment'\u001b[0m\u001b[0;34m:\u001b[0m \u001b[0maugment\u001b[0m\u001b[0;34m,\u001b[0m \u001b[0;34m'win'\u001b[0m\u001b[0;34m:\u001b[0m \u001b[0;36m1\u001b[0m\u001b[0;34m,\u001b[0m \u001b[0;34m'loss'\u001b[0m\u001b[0;34m:\u001b[0m \u001b[0;36m0\u001b[0m\u001b[0;34m}\u001b[0m\u001b[0;34m,\u001b[0m \u001b[0mignore_index\u001b[0m \u001b[0;34m=\u001b[0m \u001b[0;32mTrue\u001b[0m\u001b[0;34m)\u001b[0m\u001b[0;34m\u001b[0m\u001b[0;34m\u001b[0m\u001b[0m\n\u001b[1;32m     10\u001b[0m         \u001b[0;32melse\u001b[0m\u001b[0;34m:\u001b[0m\u001b[0;34m\u001b[0m\u001b[0;34m\u001b[0m\u001b[0m\n\u001b[0;32m---> 11\u001b[0;31m             \u001b[0maugment_df\u001b[0m \u001b[0;34m=\u001b[0m \u001b[0maugment_df\u001b[0m\u001b[0;34m.\u001b[0m\u001b[0mappend\u001b[0m\u001b[0;34m(\u001b[0m\u001b[0;34m{\u001b[0m\u001b[0;34m'augment'\u001b[0m\u001b[0;34m:\u001b[0m \u001b[0maugment\u001b[0m\u001b[0;34m,\u001b[0m \u001b[0;34m'win'\u001b[0m\u001b[0;34m:\u001b[0m \u001b[0;36m0\u001b[0m\u001b[0;34m,\u001b[0m \u001b[0;34m'loss'\u001b[0m\u001b[0;34m:\u001b[0m \u001b[0;36m1\u001b[0m\u001b[0;34m}\u001b[0m\u001b[0;34m,\u001b[0m \u001b[0mignore_index\u001b[0m \u001b[0;34m=\u001b[0m \u001b[0;32mTrue\u001b[0m\u001b[0;34m)\u001b[0m\u001b[0;34m\u001b[0m\u001b[0;34m\u001b[0m\u001b[0m\n\u001b[0m\u001b[1;32m     12\u001b[0m \u001b[0maugment_df\u001b[0m\u001b[0;34m\u001b[0m\u001b[0;34m\u001b[0m\u001b[0m\n\u001b[1;32m     13\u001b[0m \u001b[0;34m\u001b[0m\u001b[0m\n",
      "\u001b[0;32m/shared-libs/python3.7/py/lib/python3.7/site-packages/pandas/core/frame.py\u001b[0m in \u001b[0;36mappend\u001b[0;34m(self, other, ignore_index, verify_integrity, sort)\u001b[0m\n\u001b[1;32m   7984\u001b[0m                 \u001b[0mignore_index\u001b[0m\u001b[0;34m=\u001b[0m\u001b[0mignore_index\u001b[0m\u001b[0;34m,\u001b[0m\u001b[0;34m\u001b[0m\u001b[0;34m\u001b[0m\u001b[0m\n\u001b[1;32m   7985\u001b[0m                 \u001b[0mverify_integrity\u001b[0m\u001b[0;34m=\u001b[0m\u001b[0mverify_integrity\u001b[0m\u001b[0;34m,\u001b[0m\u001b[0;34m\u001b[0m\u001b[0;34m\u001b[0m\u001b[0m\n\u001b[0;32m-> 7986\u001b[0;31m                 \u001b[0msort\u001b[0m\u001b[0;34m=\u001b[0m\u001b[0msort\u001b[0m\u001b[0;34m,\u001b[0m\u001b[0;34m\u001b[0m\u001b[0;34m\u001b[0m\u001b[0m\n\u001b[0m\u001b[1;32m   7987\u001b[0m             )\n\u001b[1;32m   7988\u001b[0m         ).__finalize__(self, method=\"append\")\n",
      "\u001b[0;32m/shared-libs/python3.7/py/lib/python3.7/site-packages/pandas/core/reshape/concat.py\u001b[0m in \u001b[0;36mconcat\u001b[0;34m(objs, axis, join, ignore_index, keys, levels, names, verify_integrity, sort, copy)\u001b[0m\n\u001b[1;32m    293\u001b[0m         \u001b[0mverify_integrity\u001b[0m\u001b[0;34m=\u001b[0m\u001b[0mverify_integrity\u001b[0m\u001b[0;34m,\u001b[0m\u001b[0;34m\u001b[0m\u001b[0;34m\u001b[0m\u001b[0m\n\u001b[1;32m    294\u001b[0m         \u001b[0mcopy\u001b[0m\u001b[0;34m=\u001b[0m\u001b[0mcopy\u001b[0m\u001b[0;34m,\u001b[0m\u001b[0;34m\u001b[0m\u001b[0;34m\u001b[0m\u001b[0m\n\u001b[0;32m--> 295\u001b[0;31m         \u001b[0msort\u001b[0m\u001b[0;34m=\u001b[0m\u001b[0msort\u001b[0m\u001b[0;34m,\u001b[0m\u001b[0;34m\u001b[0m\u001b[0;34m\u001b[0m\u001b[0m\n\u001b[0m\u001b[1;32m    296\u001b[0m     )\n\u001b[1;32m    297\u001b[0m \u001b[0;34m\u001b[0m\u001b[0m\n",
      "\u001b[0;32m/shared-libs/python3.7/py/lib/python3.7/site-packages/pandas/core/reshape/concat.py\u001b[0m in \u001b[0;36m__init__\u001b[0;34m(self, objs, axis, join, keys, levels, names, ignore_index, verify_integrity, copy, sort)\u001b[0m\n\u001b[1;32m    371\u001b[0m \u001b[0;34m\u001b[0m\u001b[0m\n\u001b[1;32m    372\u001b[0m             \u001b[0;31m# consolidate\u001b[0m\u001b[0;34m\u001b[0m\u001b[0;34m\u001b[0m\u001b[0;34m\u001b[0m\u001b[0m\n\u001b[0;32m--> 373\u001b[0;31m             \u001b[0mobj\u001b[0m\u001b[0;34m.\u001b[0m\u001b[0m_consolidate_inplace\u001b[0m\u001b[0;34m(\u001b[0m\u001b[0;34m)\u001b[0m\u001b[0;34m\u001b[0m\u001b[0;34m\u001b[0m\u001b[0m\n\u001b[0m\u001b[1;32m    374\u001b[0m             \u001b[0mndims\u001b[0m\u001b[0;34m.\u001b[0m\u001b[0madd\u001b[0m\u001b[0;34m(\u001b[0m\u001b[0mobj\u001b[0m\u001b[0;34m.\u001b[0m\u001b[0mndim\u001b[0m\u001b[0;34m)\u001b[0m\u001b[0;34m\u001b[0m\u001b[0;34m\u001b[0m\u001b[0m\n\u001b[1;32m    375\u001b[0m \u001b[0;34m\u001b[0m\u001b[0m\n",
      "\u001b[0;32m/shared-libs/python3.7/py/lib/python3.7/site-packages/pandas/core/generic.py\u001b[0m in \u001b[0;36m_consolidate_inplace\u001b[0;34m(self)\u001b[0m\n\u001b[1;32m   5539\u001b[0m             \u001b[0mself\u001b[0m\u001b[0;34m.\u001b[0m\u001b[0m_mgr\u001b[0m \u001b[0;34m=\u001b[0m \u001b[0mself\u001b[0m\u001b[0;34m.\u001b[0m\u001b[0m_mgr\u001b[0m\u001b[0;34m.\u001b[0m\u001b[0mconsolidate\u001b[0m\u001b[0;34m(\u001b[0m\u001b[0;34m)\u001b[0m\u001b[0;34m\u001b[0m\u001b[0;34m\u001b[0m\u001b[0m\n\u001b[1;32m   5540\u001b[0m \u001b[0;34m\u001b[0m\u001b[0m\n\u001b[0;32m-> 5541\u001b[0;31m         \u001b[0mself\u001b[0m\u001b[0;34m.\u001b[0m\u001b[0m_protect_consolidate\u001b[0m\u001b[0;34m(\u001b[0m\u001b[0mf\u001b[0m\u001b[0;34m)\u001b[0m\u001b[0;34m\u001b[0m\u001b[0;34m\u001b[0m\u001b[0m\n\u001b[0m\u001b[1;32m   5542\u001b[0m \u001b[0;34m\u001b[0m\u001b[0m\n\u001b[1;32m   5543\u001b[0m     \u001b[0;34m@\u001b[0m\u001b[0mfinal\u001b[0m\u001b[0;34m\u001b[0m\u001b[0;34m\u001b[0m\u001b[0m\n",
      "\u001b[0;32m/shared-libs/python3.7/py/lib/python3.7/site-packages/pandas/core/generic.py\u001b[0m in \u001b[0;36m_protect_consolidate\u001b[0;34m(self, f)\u001b[0m\n\u001b[1;32m   5527\u001b[0m         \"\"\"\n\u001b[1;32m   5528\u001b[0m         \u001b[0mblocks_before\u001b[0m \u001b[0;34m=\u001b[0m \u001b[0mlen\u001b[0m\u001b[0;34m(\u001b[0m\u001b[0mself\u001b[0m\u001b[0;34m.\u001b[0m\u001b[0m_mgr\u001b[0m\u001b[0;34m.\u001b[0m\u001b[0mblocks\u001b[0m\u001b[0;34m)\u001b[0m\u001b[0;34m\u001b[0m\u001b[0;34m\u001b[0m\u001b[0m\n\u001b[0;32m-> 5529\u001b[0;31m         \u001b[0mresult\u001b[0m \u001b[0;34m=\u001b[0m \u001b[0mf\u001b[0m\u001b[0;34m(\u001b[0m\u001b[0;34m)\u001b[0m\u001b[0;34m\u001b[0m\u001b[0;34m\u001b[0m\u001b[0m\n\u001b[0m\u001b[1;32m   5530\u001b[0m         \u001b[0;32mif\u001b[0m \u001b[0mlen\u001b[0m\u001b[0;34m(\u001b[0m\u001b[0mself\u001b[0m\u001b[0;34m.\u001b[0m\u001b[0m_mgr\u001b[0m\u001b[0;34m.\u001b[0m\u001b[0mblocks\u001b[0m\u001b[0;34m)\u001b[0m \u001b[0;34m!=\u001b[0m \u001b[0mblocks_before\u001b[0m\u001b[0;34m:\u001b[0m\u001b[0;34m\u001b[0m\u001b[0;34m\u001b[0m\u001b[0m\n\u001b[1;32m   5531\u001b[0m             \u001b[0mself\u001b[0m\u001b[0;34m.\u001b[0m\u001b[0m_clear_item_cache\u001b[0m\u001b[0;34m(\u001b[0m\u001b[0;34m)\u001b[0m\u001b[0;34m\u001b[0m\u001b[0;34m\u001b[0m\u001b[0m\n",
      "\u001b[0;32m/shared-libs/python3.7/py/lib/python3.7/site-packages/pandas/core/generic.py\u001b[0m in \u001b[0;36mf\u001b[0;34m()\u001b[0m\n\u001b[1;32m   5537\u001b[0m \u001b[0;34m\u001b[0m\u001b[0m\n\u001b[1;32m   5538\u001b[0m         \u001b[0;32mdef\u001b[0m \u001b[0mf\u001b[0m\u001b[0;34m(\u001b[0m\u001b[0;34m)\u001b[0m\u001b[0;34m:\u001b[0m\u001b[0;34m\u001b[0m\u001b[0;34m\u001b[0m\u001b[0m\n\u001b[0;32m-> 5539\u001b[0;31m             \u001b[0mself\u001b[0m\u001b[0;34m.\u001b[0m\u001b[0m_mgr\u001b[0m \u001b[0;34m=\u001b[0m \u001b[0mself\u001b[0m\u001b[0;34m.\u001b[0m\u001b[0m_mgr\u001b[0m\u001b[0;34m.\u001b[0m\u001b[0mconsolidate\u001b[0m\u001b[0;34m(\u001b[0m\u001b[0;34m)\u001b[0m\u001b[0;34m\u001b[0m\u001b[0;34m\u001b[0m\u001b[0m\n\u001b[0m\u001b[1;32m   5540\u001b[0m \u001b[0;34m\u001b[0m\u001b[0m\n\u001b[1;32m   5541\u001b[0m         \u001b[0mself\u001b[0m\u001b[0;34m.\u001b[0m\u001b[0m_protect_consolidate\u001b[0m\u001b[0;34m(\u001b[0m\u001b[0mf\u001b[0m\u001b[0;34m)\u001b[0m\u001b[0;34m\u001b[0m\u001b[0;34m\u001b[0m\u001b[0m\n",
      "\u001b[0;32m/shared-libs/python3.7/py/lib/python3.7/site-packages/pandas/core/internals/managers.py\u001b[0m in \u001b[0;36mconsolidate\u001b[0;34m(self)\u001b[0m\n\u001b[1;32m    986\u001b[0m         \u001b[0mbm\u001b[0m \u001b[0;34m=\u001b[0m \u001b[0mtype\u001b[0m\u001b[0;34m(\u001b[0m\u001b[0mself\u001b[0m\u001b[0;34m)\u001b[0m\u001b[0;34m(\u001b[0m\u001b[0mself\u001b[0m\u001b[0;34m.\u001b[0m\u001b[0mblocks\u001b[0m\u001b[0;34m,\u001b[0m \u001b[0mself\u001b[0m\u001b[0;34m.\u001b[0m\u001b[0maxes\u001b[0m\u001b[0;34m)\u001b[0m\u001b[0;34m\u001b[0m\u001b[0;34m\u001b[0m\u001b[0m\n\u001b[1;32m    987\u001b[0m         \u001b[0mbm\u001b[0m\u001b[0;34m.\u001b[0m\u001b[0m_is_consolidated\u001b[0m \u001b[0;34m=\u001b[0m \u001b[0;32mFalse\u001b[0m\u001b[0;34m\u001b[0m\u001b[0;34m\u001b[0m\u001b[0m\n\u001b[0;32m--> 988\u001b[0;31m         \u001b[0mbm\u001b[0m\u001b[0;34m.\u001b[0m\u001b[0m_consolidate_inplace\u001b[0m\u001b[0;34m(\u001b[0m\u001b[0;34m)\u001b[0m\u001b[0;34m\u001b[0m\u001b[0;34m\u001b[0m\u001b[0m\n\u001b[0m\u001b[1;32m    989\u001b[0m         \u001b[0;32mreturn\u001b[0m \u001b[0mbm\u001b[0m\u001b[0;34m\u001b[0m\u001b[0;34m\u001b[0m\u001b[0m\n\u001b[1;32m    990\u001b[0m \u001b[0;34m\u001b[0m\u001b[0m\n",
      "\u001b[0;32m/shared-libs/python3.7/py/lib/python3.7/site-packages/pandas/core/internals/managers.py\u001b[0m in \u001b[0;36m_consolidate_inplace\u001b[0;34m(self)\u001b[0m\n\u001b[1;32m    991\u001b[0m     \u001b[0;32mdef\u001b[0m \u001b[0m_consolidate_inplace\u001b[0m\u001b[0;34m(\u001b[0m\u001b[0mself\u001b[0m\u001b[0;34m)\u001b[0m \u001b[0;34m->\u001b[0m \u001b[0;32mNone\u001b[0m\u001b[0;34m:\u001b[0m\u001b[0;34m\u001b[0m\u001b[0;34m\u001b[0m\u001b[0m\n\u001b[1;32m    992\u001b[0m         \u001b[0;32mif\u001b[0m \u001b[0;32mnot\u001b[0m \u001b[0mself\u001b[0m\u001b[0;34m.\u001b[0m\u001b[0mis_consolidated\u001b[0m\u001b[0;34m(\u001b[0m\u001b[0;34m)\u001b[0m\u001b[0;34m:\u001b[0m\u001b[0;34m\u001b[0m\u001b[0;34m\u001b[0m\u001b[0m\n\u001b[0;32m--> 993\u001b[0;31m             \u001b[0mself\u001b[0m\u001b[0;34m.\u001b[0m\u001b[0mblocks\u001b[0m \u001b[0;34m=\u001b[0m \u001b[0mtuple\u001b[0m\u001b[0;34m(\u001b[0m\u001b[0m_consolidate\u001b[0m\u001b[0;34m(\u001b[0m\u001b[0mself\u001b[0m\u001b[0;34m.\u001b[0m\u001b[0mblocks\u001b[0m\u001b[0;34m)\u001b[0m\u001b[0;34m)\u001b[0m\u001b[0;34m\u001b[0m\u001b[0;34m\u001b[0m\u001b[0m\n\u001b[0m\u001b[1;32m    994\u001b[0m             \u001b[0mself\u001b[0m\u001b[0;34m.\u001b[0m\u001b[0m_is_consolidated\u001b[0m \u001b[0;34m=\u001b[0m \u001b[0;32mTrue\u001b[0m\u001b[0;34m\u001b[0m\u001b[0;34m\u001b[0m\u001b[0m\n\u001b[1;32m    995\u001b[0m             \u001b[0mself\u001b[0m\u001b[0;34m.\u001b[0m\u001b[0m_known_consolidated\u001b[0m \u001b[0;34m=\u001b[0m \u001b[0;32mTrue\u001b[0m\u001b[0;34m\u001b[0m\u001b[0;34m\u001b[0m\u001b[0m\n",
      "\u001b[0;32m/shared-libs/python3.7/py/lib/python3.7/site-packages/pandas/core/internals/managers.py\u001b[0m in \u001b[0;36m_consolidate\u001b[0;34m(blocks)\u001b[0m\n\u001b[1;32m   1915\u001b[0m     \u001b[0;32mfor\u001b[0m \u001b[0;34m(\u001b[0m\u001b[0m_can_consolidate\u001b[0m\u001b[0;34m,\u001b[0m \u001b[0mdtype\u001b[0m\u001b[0;34m)\u001b[0m\u001b[0;34m,\u001b[0m \u001b[0mgroup_blocks\u001b[0m \u001b[0;32min\u001b[0m \u001b[0mgrouper\u001b[0m\u001b[0;34m:\u001b[0m\u001b[0;34m\u001b[0m\u001b[0;34m\u001b[0m\u001b[0m\n\u001b[1;32m   1916\u001b[0m         merged_blocks = _merge_blocks(\n\u001b[0;32m-> 1917\u001b[0;31m             \u001b[0mlist\u001b[0m\u001b[0;34m(\u001b[0m\u001b[0mgroup_blocks\u001b[0m\u001b[0;34m)\u001b[0m\u001b[0;34m,\u001b[0m \u001b[0mdtype\u001b[0m\u001b[0;34m=\u001b[0m\u001b[0mdtype\u001b[0m\u001b[0;34m,\u001b[0m \u001b[0mcan_consolidate\u001b[0m\u001b[0;34m=\u001b[0m\u001b[0m_can_consolidate\u001b[0m\u001b[0;34m\u001b[0m\u001b[0;34m\u001b[0m\u001b[0m\n\u001b[0m\u001b[1;32m   1918\u001b[0m         )\n\u001b[1;32m   1919\u001b[0m         \u001b[0mnew_blocks\u001b[0m \u001b[0;34m=\u001b[0m \u001b[0mextend_blocks\u001b[0m\u001b[0;34m(\u001b[0m\u001b[0mmerged_blocks\u001b[0m\u001b[0;34m,\u001b[0m \u001b[0mnew_blocks\u001b[0m\u001b[0;34m)\u001b[0m\u001b[0;34m\u001b[0m\u001b[0;34m\u001b[0m\u001b[0m\n",
      "\u001b[0;32m/shared-libs/python3.7/py/lib/python3.7/site-packages/pandas/core/internals/managers.py\u001b[0m in \u001b[0;36m_merge_blocks\u001b[0;34m(blocks, dtype, can_consolidate)\u001b[0m\n\u001b[1;32m   1940\u001b[0m \u001b[0;34m\u001b[0m\u001b[0m\n\u001b[1;32m   1941\u001b[0m         \u001b[0margsort\u001b[0m \u001b[0;34m=\u001b[0m \u001b[0mnp\u001b[0m\u001b[0;34m.\u001b[0m\u001b[0margsort\u001b[0m\u001b[0;34m(\u001b[0m\u001b[0mnew_mgr_locs\u001b[0m\u001b[0;34m)\u001b[0m\u001b[0;34m\u001b[0m\u001b[0;34m\u001b[0m\u001b[0m\n\u001b[0;32m-> 1942\u001b[0;31m         \u001b[0mnew_values\u001b[0m \u001b[0;34m=\u001b[0m \u001b[0mnew_values\u001b[0m\u001b[0;34m[\u001b[0m\u001b[0margsort\u001b[0m\u001b[0;34m]\u001b[0m\u001b[0;34m\u001b[0m\u001b[0;34m\u001b[0m\u001b[0m\n\u001b[0m\u001b[1;32m   1943\u001b[0m         \u001b[0mnew_mgr_locs\u001b[0m \u001b[0;34m=\u001b[0m \u001b[0mnew_mgr_locs\u001b[0m\u001b[0;34m[\u001b[0m\u001b[0margsort\u001b[0m\u001b[0;34m]\u001b[0m\u001b[0;34m\u001b[0m\u001b[0;34m\u001b[0m\u001b[0m\n\u001b[1;32m   1944\u001b[0m \u001b[0;34m\u001b[0m\u001b[0m\n",
      "\u001b[0;31mKeyboardInterrupt\u001b[0m: "
     ]
    }
   ],
   "execution_count": 80
  },
  {
   "cell_type": "markdown",
   "source": "<a style='text-decoration:none;line-height:16px;display:flex;color:#5B5B62;padding:10px;justify-content:end;' href='https://deepnote.com?utm_source=created-in-deepnote-cell&projectId=a232a31a-1f79-495a-bb02-174ffb8d4629' target=\"_blank\">\n<img alt='Created in deepnote.com' style='display:inline;max-height:16px;margin:0px;margin-right:7.5px;' src='data:image/svg+xml;base64,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' > </img>\nCreated in <span style='font-weight:600;margin-left:4px;'>Deepnote</span></a>",
   "metadata": {
    "tags": [],
    "created_in_deepnote_cell": true,
    "deepnote_cell_type": "markdown"
   }
  }
 ],
 "nbformat": 4,
 "nbformat_minor": 4,
 "metadata": {
  "interpreter": {
   "hash": "08f6edec437538b5993be24a8d19dd1bd66f0a7ae79d727201cebd80cd580c21"
  },
  "kernelspec": {
   "display_name": "Python 3.9.2 64-bit",
   "language": "python",
   "name": "python3"
  },
  "language_info": {
   "codemirror_mode": {
    "name": "ipython",
    "version": 3
   },
   "file_extension": ".py",
   "mimetype": "text/x-python",
   "name": "python",
   "nbconvert_exporter": "python",
   "pygments_lexer": "ipython3",
   "version": "3.9.2"
  },
  "deepnote_notebook_id": "6db1920a-112c-4c94-8cbc-e20dfac9f579",
  "deepnote": {},
  "deepnote_execution_queue": []
 }
}