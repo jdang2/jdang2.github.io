{
 "cells": [
  {
   "cell_type": "markdown",
   "source": [
    "<center><img alt=\"title\" src=\"./assets/TFT.jpg\"/></center>"
   ],
   "metadata": {
    "cell_id": "385425b7-9776-4eec-aa00-83e984e80c4e",
    "deepnote_cell_type": "markdown",
    "deepnote_cell_height": 70
   }
  },
  {
   "cell_type": "markdown",
   "source": [
    "# <center>Predicting the Best Strategy to Win in Teamfight Tactics</center>"
   ],
   "metadata": {
    "pycharm": {
     "name": "#%% md\n"
    },
    "cell_id": "00001-ddf48700-feb0-4b98-9e47-54a668587620",
    "deepnote_cell_type": "markdown",
    "deepnote_cell_height": 134
   }
  },
  {
   "cell_type": "markdown",
   "source": [
    "**<center>Jason Dang, Nhat-Nguyen Vo, Wisely Kong</center>**"
   ],
   "metadata": {
    "cell_id": "00002-ccfc5785-174a-4334-830e-05c367ba149f",
    "deepnote_cell_type": "markdown",
    "deepnote_cell_height": 66.390625
   }
  },
  {
   "cell_type": "markdown",
   "source": [
    "## <center>Introduction</center>\n",
    "\n",
    "Teamfight Tactics (TFT) is an auto battler game developed by Riot Games. Auto battlers are strategy based games in which the player is given preparation time in order to assemble a team on a chess-like board (we'll just call these teams boards) with various units in order to fight an opposing player's board. These fights between boards do not receive any additional input from its players, as the units automatically move and attack until the enemy's board has no units.\n",
    "\n",
    "Since TFT is a rather complex strategy game, there a variety of concepts to understand about the game.\n",
    "\n",
    "In the game of TFT, there are 8 players per game. The main objective in each game is to be among the last 4 players left alive, as the game considers \"Top 4\" to be a moral victory. But in order to truly win a game of TFT, a player must obviously be the last player left alive. The main factors that go into a player's game are: their Health, Gold, Level, Units, Augments, and Components/Items.\n",
    "\n",
    "- Health: Each player starts off with 100 Health. When a player loses a battle, their health is reduced based on how long the game has lasted and how many units are remaining on the board. At 0 Health, the player is defeated.\n",
    "- Gold: During each preparation phase, the player is given Gold to utilize in order to make their board as strong as possible. Players can spend their Gold on either Levels or Units in order to do so.\n",
    "- Level: The amount of units a player can place on their board is dependent on their current level. A player at level 3 can only place 3 units, level 4 can only place 4 units, and so on. The player naturally levels up as the game progresses but can also utilize their Gold during the preparation phase to level up faster.\n",
    "- Units: During the preparation phase before facing against an opposing player's board, the player is presented a \"Shop\" with 5 Units in which they can utilize their Gold in order to purchase and place on their board for the next fight. The player can choose to use their Gold instead to re-roll the Shop to choose from 5 different choices. The Units in the Shop have three important aspects: Traits, Cost, and Rarity\n",
    "    - Traits: Units have \"Traits\" that grant special effects for Unit with the Trait, but these effects can only be activated when a certain number of unique Units (with the Trait) are placed on the board at the same time. The more Units of the same trait, the stronger the effect.\n",
    "    - Cost: When Units appear in the Shop, they cost a certain amount of Gold to purchase. The amount a Unit costs relates to how powerful the Unit is, where a Unit costing 1 Gold (the lowest amount) is comparatively weaker to a Unit costing 5 Gold (the highest amount). In addition, the Cost of a Unit relates to how often they would appear in a Shop, where a 1 Gold Unit will appear more often than a 5 Gold Unit.\n",
    "    - Rarity: When first purchased from the Shop, Units starts at \"1-Star\". When 3 of the same Unit is purchased the Unit upgrades into \"2-Star\", in which the Unit's strength is increased. When 3 \"2-Star\" Units (of the same type) are made, the Unit becomes a \"3-Star\". The likelihood of reaching \"3-Star\" is more likely for lower Cost Units (1, 2, 3 Cost Units) compared to higher Cost Units (4, 5 Cost Units) due to how often lower Cost Units appear in the Shop.\n",
    "- Augments: In certain intervals of the game players are presented with 3 options that provides a variety of benefits to the player, by either making certain Traits stronger or being granted multiple 5 Cost Units for free. There are 3 tiers of Augments, rising from lower strength to higher strength: Silver, Gold, Prismatic. Players can only have 3 Augments per game.\n",
    "- Components/Items: In certain intervals of the game, players are granted materials, also known as Components, in which they can place on their Units to make them stronger. When two Components are combined (by placing both onto a unit), an Item is created based on the combined components that grants special effects for that specific Unit. A Unit can only have a maximum combination of 3 Items/Components and cannot be interchanged once placed. Ideally, the most important Units on a player's board will always receive 3 Items.\n",
    "\n",
    "More information on the game can be found [here](https://tftactics.gg/).\n",
    "\n",
    "<center><img alt=\"ExampleTFT\" src=\"./assets/TFT_Example.png\" title=\"TFT Concepts in Game\"/></center>\n",
    "\n",
    "<center><img alt=\"ExampleAugments\"  src=\"./assets/Augments.png\" title=\"Augment Example\"/></center>"
   ],
   "metadata": {
    "pycharm": {
     "name": "#%% md\n"
    },
    "cell_id": "00003-d7d4551e-c86a-4a24-8d52-55b57c78c066",
    "deepnote_cell_type": "markdown",
    "deepnote_cell_height": 1133
   }
  },
  {
   "cell_type": "markdown",
   "source": [
    "In this tutorial..."
   ],
   "metadata": {
    "cell_id": "00004-35e1c11e-fe70-4dc0-9570-fe2541674510",
    "deepnote_cell_type": "markdown",
    "deepnote_cell_height": 52.390625
   }
  },
  {
   "cell_type": "markdown",
   "source": [
    "## <center>Data Collection</center>\n",
    "\n",
    "In order to predict the best strategy in order to win in TFT, we must first decide where we will be retrieving our data. We decided the best source of data would come from the best players in the game, as they are considered the best for a reason: they know how to win. In TFT, the top players at a given time can be located through [this link, showing the leaderboard for the top players in North America](https://lolchess.gg/leaderboards?mode=ranked&region=na). As for the contents of the data, we arbitrarily chose to select the top 100 players and their last 75 games played. Since the leaderboard is constantly changing every few minutes, as players move up and down the leaderboard, we uploaded a compiled dataset to [Kaggle](https://www.kaggle.com/datasets/cmsc320tftproject/cmsc320-tft-challenger-dataset-set-65) to ease the replication process of this tutorial and have to have the data be consistent with what we use. But for clarity sakes, we will showcase the data scraping process.\n",
    "\n",
    "The first step is gathering the names of those within the Top 100 rankings, based on the leaderboard website. The next step is to utilize the Riot Games API in order to extract the necessary data, that being the most recent 75 games those 100 players have played. In order to access the Riot Games API, you must [create / login](https://developer.riotgames.com/) to a Riot Games account to generate a development API key. Again, downloading the dataset from Kaggle will allow you to avoid having to deal with creating a development API key. Once the names are gathered and an API Key is obtained, the final step would be to compile and tidy the relevant data into a table."
   ],
   "metadata": {
    "collapsed": false,
    "cell_id": "00005-db932346-016a-41ed-b023-6d3062654091",
    "deepnote_cell_type": "markdown",
    "deepnote_cell_height": 368.796875
   }
  },
  {
   "cell_type": "code",
   "metadata": {
    "collapsed": false,
    "jupyter": {
     "outputs_hidden": false
    },
    "pycharm": {
     "name": "#%%\n"
    },
    "cell_id": "00006-93395be4-5fa8-42e6-9f79-669e6dd09944",
    "deepnote_to_be_reexecuted": false,
    "source_hash": "11a0e984",
    "execution_start": 1652248938828,
    "execution_millis": 1931,
    "deepnote_cell_type": "code",
    "deepnote_cell_height": 243
   },
   "source": [
    "# Import the necessary libraries that will be used for the tutorial\n",
    "import requests\n",
    "import csv\n",
    "from bs4 import BeautifulSoup\n",
    "import json\n",
    "import pandas as pd\n",
    "import numpy as np\n",
    "import seaborn as sns\n",
    "import matplotlib.pyplot as plt\n",
    "from ast import literal_eval"
   ],
   "execution_count": 32,
   "outputs": []
  },
  {
   "cell_type": "code",
   "metadata": {
    "collapsed": false,
    "pycharm": {
     "name": "#%%\n"
    },
    "cell_id": "00007-4e04db46-8424-4682-9944-281daf5c8edb",
    "deepnote_to_be_reexecuted": false,
    "source_hash": "871c5cd4",
    "execution_start": 1652238721744,
    "execution_millis": 1089,
    "deepnote_cell_type": "code",
    "deepnote_cell_height": 135
   },
   "source": [
    "# Obtain the HTML for the leaderboard website in order to selectively obtain the names of those in the Top 100.\n",
    "leaderboard = requests.get(\"https://lolchess.gg/leaderboards?mode=ranked&region=na\")\n",
    "# Using the library BeautifulSoup, parse the HTML to obtain the required information easier (the names of the Top 100)\n",
    "soup = BeautifulSoup(leaderboard.content, 'html.parser')"
   ],
   "outputs": [],
   "execution_count": null
  },
  {
   "cell_type": "code",
   "metadata": {
    "collapsed": false,
    "pycharm": {
     "name": "#%%\n"
    },
    "cell_id": "00008-a9f3f442-8197-4464-931c-7979dc48e56e",
    "deepnote_to_be_reexecuted": false,
    "source_hash": "947dfc1b",
    "execution_start": 1652238722850,
    "execution_millis": 25,
    "deepnote_cell_type": "code",
    "deepnote_cell_height": 405
   },
   "source": [
    "# Create an array in order to hold the names\n",
    "playerList = []\n",
    "\n",
    "# Limit the HTML to show just the relevant sections (the names)\n",
    "table_body=soup.find('tbody')\n",
    "rows = table_body.find_all('tr')\n",
    "\n",
    "# Iterate through the HTML and store specifically the names of the player into the array.\n",
    "for row in rows:\n",
    "    cols=row.find_all('td')\n",
    "    cols=[x.text.strip() for x in cols]\n",
    "    # Separate irrelevant text from the player's name with .partition()\n",
    "    playerList.append(cols[1].partition(\"\\n\\n\"))\n",
    "\n",
    "# Need to remove the irrelevant text that resulted from the previous .partition() call\n",
    "cleanList = []\n",
    "for currentPlayer in playerList:\n",
    "    player = (currentPlayer[2].lstrip())\n",
    "    cleanList.append(player);"
   ],
   "outputs": [],
   "execution_count": null
  },
  {
   "cell_type": "code",
   "source": [
    "# This is the API Key required to utilize Riot Games API. These expire 24 hours after being generated, so this will need to be updated if you want to progress with the code. \n",
    "# Again, the compiled dataset is in the Kaggle link if you want to avoid creating a Riot Games account. \n",
    "key = \"RGAPI-792fade4-60a0-4bc5-968d-2cacf97fe150\"\n",
    "# Each player has a unique ID that is recognized by the Riot Games API. With this ID, we can now utilize the API to obtain the last 75 matches of that particular ID.\n",
    "puuidList = []\n",
    "\n",
    "# Iterate through the player's name in order to obtain their PUUID.\n",
    "for player in cleanList:\n",
    "    url = \"https://na1.api.riotgames.com/tft/summoner/v1/summoners/by-name/\" + player + \"?api_key=\" + key\n",
    "    r = requests.get(url)\n",
    "    soup = BeautifulSoup(r.content, 'html.parser')\n",
    "    jsonConvert = json.loads(str(soup))\n",
    "    \n",
    "    try:\n",
    "        puuid = jsonConvert['puuid']\n",
    "        puuidList.append(puuid)\n",
    "    except KeyError:\n",
    "        # Calling the API with too many commands could result in a Rate Limit Exceeded Error, which might result in losing data for that specific player.\n",
    "        # If experiencing the Rate Limit Exceeded Error, wait to run the code again. \n",
    "        print(\"Unable to get \" + player + \" data\")"
   ],
   "metadata": {
    "cell_id": "9ba98b96a59a42dd9bed8d834ec4b87b",
    "tags": [],
    "deepnote_to_be_reexecuted": false,
    "source_hash": "9bc786d6",
    "execution_start": 1652238722889,
    "execution_millis": 34927,
    "deepnote_cell_type": "code",
    "deepnote_cell_height": 423
   },
   "outputs": [],
   "execution_count": null
  },
  {
   "cell_type": "code",
   "metadata": {
    "collapsed": false,
    "pycharm": {
     "name": "#%%\n"
    },
    "cell_id": "00009-12340c3f-c1e6-4ea2-a5d0-fffa84c4d1f9",
    "deepnote_to_be_reexecuted": false,
    "source_hash": "3e6e9f1c",
    "execution_start": 1652238757816,
    "execution_millis": 56468,
    "deepnote_cell_type": "code",
    "deepnote_cell_height": 405,
    "deepnote_output_heights": [
     611
    ]
   },
   "source": [
    "# Use a dictionary to store the last 75 matches per player.\n",
    "matches = {}\n",
    "\n",
    "for current in puuidList:\n",
    "    url = \"https://americas.api.riotgames.com/tft/match/v1/matches/by-puuid/\" + current + \"/ids?count=75&api_key=\" + key\n",
    "    r = requests.get(url)\n",
    "    soup = BeautifulSoup(r.content, 'html.parser')\n",
    "    jsonConvert = json.loads(str(soup))\n",
    "    matches[current] = jsonConvert\n",
    "\n",
    "listToSet = []\n",
    "\n",
    "#Take the dictionary and convert to a list. Then convert that to a set to create a unique list of matches for the dataset, to remove duplicate matches\n",
    "for puuid in matches:\n",
    "    currentMatchList = matches[puuid]\n",
    "    for currentMatch in currentMatchList:\n",
    "        listToSet.append(currentMatch)\n",
    "\n",
    "listToSet = list(set(listToSet))"
   ],
   "outputs": [],
   "execution_count": null
  },
  {
   "cell_type": "code",
   "source": [
    "# Create the dataframe for the data, that will display the relevant information from a match\n",
    "df = pd.DataFrame();\n",
    "\n",
    "# Since the Riot API limits the amount of requests you can send, you'd have to change the range of the for loop in order to extract all of the matches (i.e. change the [0:10] to a different range of values).\n",
    "# This process does take a bit of time, mostly due to waiting for the ability to send more requests\n",
    "# The rest of the tutorial will use the aforementioned CSV file from the Kaggle link in order to have consistent data.\n",
    "for match in listToSet[0:10]:\n",
    "    url = \"https://americas.api.riotgames.com/tft/match/v1/matches/\" + match + \"?api_key=\" + key\n",
    "    r = requests.get(url)\n",
    "    soup = BeautifulSoup(r.content, 'html.parser')\n",
    "    soup = str(soup)\n",
    "    soup = soup.replace(\"\\\">\\\"\", \"\")\n",
    "    soup = soup.replace(\"</releases>\", \"\")\n",
    "    jsonConvert = json.loads(str(soup))\n",
    "    data = pd.DataFrame.from_dict(jsonConvert['info']['participants'])\n",
    "    # These dropped columns are irrelevant to the tutorial\n",
    "    data = data.drop('companion', axis = 1)\n",
    "    data = data.drop('gold_left', axis = 1)\n",
    "    data = data.drop('last_round', axis = 1)\n",
    "    data = data.drop('players_eliminated', axis = 1)\n",
    "    data = data.drop('time_eliminated', axis = 1)\n",
    "    data = data.drop('puuid', axis = 1)\n",
    "    data = data.drop('total_damage_to_players', axis = 1)\n",
    "    data['Match ID'] = jsonConvert['metadata']['match_id']\n",
    "    df = pd.concat([df, data], axis = 0)"
   ],
   "metadata": {
    "cell_id": "c4dee95f6a94469582c187eb0de320ad",
    "tags": [],
    "deepnote_to_be_reexecuted": false,
    "source_hash": "ef62996e",
    "execution_start": 1652238904072,
    "execution_millis": 5146,
    "deepnote_cell_type": "code",
    "deepnote_cell_height": 513,
    "deepnote_output_heights": [
     611
    ]
   },
   "outputs": [],
   "execution_count": null
  },
  {
   "cell_type": "code",
   "source": [
    "# The dataset from the CSV, that shows the results and relevant data of all of the matches \n",
    "tutorialDataset = pd.read_csv('TFTdataset.csv')\n",
    "tutorialDataset"
   ],
   "metadata": {
    "cell_id": "ec94e2ce4fb14b6295cf9249bef603c1",
    "tags": [],
    "deepnote_to_be_reexecuted": false,
    "source_hash": "7020c0ad",
    "execution_start": 1652238912116,
    "execution_millis": 1269,
    "deepnote_table_state": {
     "pageSize": 10,
     "pageIndex": 0,
     "filters": [],
     "sortBy": []
    },
    "deepnote_table_loading": false,
    "deepnote_cell_type": "code",
    "deepnote_cell_height": 649.59375
   },
   "outputs": [
    {
     "output_type": "execute_result",
     "execution_count": 10,
     "data": {
      "application/vnd.deepnote.dataframe.v3+json": {
       "column_count": 6,
       "row_count": 40000,
       "columns": [
        {
         "name": "augments",
         "dtype": "object",
         "stats": {
          "unique_count": 37133,
          "nan_count": 0,
          "categories": [
           {
            "name": "[]",
            "count": 7
           },
           {
            "name": "['TreasureTrove1', 'Backfoot1', 'Phalanx2']",
            "count": 7
           },
           {
            "name": "37131 others",
            "count": 39986
           }
          ]
         }
        },
        {
         "name": "level",
         "dtype": "int64",
         "stats": {
          "unique_count": 8,
          "nan_count": 0,
          "min": "3",
          "max": "10",
          "histogram": [
           {
            "bin_start": 3,
            "bin_end": 3.7,
            "count": 8
           },
           {
            "bin_start": 3.7,
            "bin_end": 4.4,
            "count": 5
           },
           {
            "bin_start": 4.4,
            "bin_end": 5.1,
            "count": 69
           },
           {
            "bin_start": 5.1,
            "bin_end": 5.8,
            "count": 0
           },
           {
            "bin_start": 5.8,
            "bin_end": 6.5,
            "count": 622
           },
           {
            "bin_start": 6.5,
            "bin_end": 7.199999999999999,
            "count": 4669
           },
           {
            "bin_start": 7.199999999999999,
            "bin_end": 7.8999999999999995,
            "count": 0
           },
           {
            "bin_start": 7.8999999999999995,
            "bin_end": 8.6,
            "count": 23390
           },
           {
            "bin_start": 8.6,
            "bin_end": 9.3,
            "count": 11173
           },
           {
            "bin_start": 9.3,
            "bin_end": 10,
            "count": 64
           }
          ]
         }
        },
        {
         "name": "placement",
         "dtype": "int64"
        },
        {
         "name": "traits",
         "dtype": "object"
        },
        {
         "name": "units",
         "dtype": "object"
        },
        {
         "name": "Match ID",
         "dtype": "object"
        },
        {
         "name": "_deepnote_index_column",
         "dtype": "int64"
        }
       ],
       "rows": [
        {
         "augments": "['DebonairTrait', 'Distancing2', 'DebonairEmblem2']",
         "level": 7,
         "placement": 8,
         "traits": "[{'name': 'Assassin', 'num_units': 2, 'style': 1, 'tier_current': 1, 'tier_total': 3}, {'name': 'Bodyguard', 'num_units': 2, 'style': 1, 'tier_current': 1, 'tier_total': 4}, {'name': 'Challenger', 'num_units': 1, 'style': 0, 'tier_current': 0, 'tier_total': 4}, {'name': 'Debonair', 'num_units': 7, 'style': 4, 'tier_current': 3, 'tier_total': 3}, {'name': 'Innovator', 'num_units': 1, 'style': 0, 'tier_current': 0, 'tier_total': 3}, {'name': 'Scholar', 'num_units': 2, 'style': 1, 'tier_current': 1, 'tier_total': 3}, {'name': 'Scrap', 'num_units': 2, 'style': 1, 'tier_current': 1, 'tier_total': 3}, {'name': 'Syndicate', 'num_units': 1, 'style': 0, 'tier_current': 0, 'tier_total': 3}]",
         "units": "[{'character_id': 'Talon', 'items': [69, 19, 22], 'name': '', 'rarity': 1, 'tier': 2}, {'character_id': 'Zyra', 'items': [70], 'name': '', 'rarity': 1, 'tier': 2}, {'character_id': 'Blitzcrank', 'items': [70], 'name': '', 'rarity': 1, 'tier': 2}, {'character_id': 'Syndra', 'items': [], 'name': '', 'rarity': 1, 'tier': 2}, {'character_id': 'Leona', 'items': [], 'name': '', 'rarity': 2, 'tier': 1}, {'character_id': 'Ekko', 'items': [37, 17, 1], 'name': '', 'rarity': 2, 'tier': 2}, {'character_id': 'Draven', 'items': [], 'name': 'Draven', 'rarity': 3, 'tier': 1}]",
         "Match ID": "NA1_4247681350",
         "_deepnote_index_column": 0
        },
        {
         "augments": "['AssassinCutthroat', 'RichGetRicher', 'Diversify3']",
         "level": 9,
         "placement": 3,
         "traits": "[{'name': 'Arcanist', 'num_units': 2, 'style': 1, 'tier_current': 1, 'tier_total': 4}, {'name': 'Assassin', 'num_units': 2, 'style': 1, 'tier_current': 1, 'tier_total': 3}, {'name': 'Bruiser', 'num_units': 2, 'style': 1, 'tier_current': 1, 'tier_total': 4}, {'name': 'Glutton', 'num_units': 1, 'style': 3, 'tier_current': 1, 'tier_total': 1}, {'name': 'Innovator', 'num_units': 1, 'style': 0, 'tier_current': 0, 'tier_total': 3}, {'name': 'Mastermind', 'num_units': 1, 'style': 3, 'tier_current': 1, 'tier_total': 1}, {'name': 'Mercenary', 'num_units': 1, 'style': 0, 'tier_current': 0, 'tier_total': 3}, {'name': 'Mutant', 'num_units': 5, 'style': 3, 'tier_current': 2, 'tier_total': 3}, {'name': 'Scholar', 'num_units': 2, 'style': 1, 'tier_current': 1, 'tier_total': 3}, {'name': 'Scrap', 'num_units': 2, 'style': 1, 'tier_current': 1, 'tier_total': 3}, {'name': 'Striker', 'num_units': 2, 'style': 1, 'tier_current': 1, 'tier_total': 3}]",
         "units": "[{'character_id': 'Kassadin', 'items': [], 'name': 'Kassadin', 'rarity': 0, 'tier': 2}, {'character_id': 'RekSai', 'items': [46], 'name': 'RekSai', 'rarity': 1, 'tier': 2}, {'character_id': 'Malzahar', 'items': [], 'name': '', 'rarity': 2, 'tier': 1}, {'character_id': 'Malzahar', 'items': [], 'name': '', 'rarity': 2, 'tier': 1}, {'character_id': 'Ekko', 'items': [99, 24, 14], 'name': '', 'rarity': 2, 'tier': 2}, {'character_id': 'KhaZix', 'items': [19, 94, 69], 'name': 'Khazix', 'rarity': 3, 'tier': 2}, {'character_id': 'Irelia', 'items': [2190, 2], 'name': '', 'rarity': 3, 'tier': 2}, {'character_id': 'TahmKench', 'items': [36, 47, 38], 'name': '', 'rarity': 4, 'tier': 2}, {'character_id': 'Silco', 'items': [], 'name': '', 'rarity': 4, 'tier': 1}]",
         "Match ID": "NA1_4247681350",
         "_deepnote_index_column": 1
        },
        {
         "augments": "['EnchanterTrait', 'SunfireBoard', 'TwinshotTrait2']",
         "level": 8,
         "placement": 2,
         "traits": "[{'name': 'Bruiser', 'num_units': 2, 'style': 1, 'tier_current': 1, 'tier_total': 4}, {'name': 'Clockwork', 'num_units': 2, 'style': 1, 'tier_current': 1, 'tier_total': 3}, {'name': 'Enchanter', 'num_units': 4, 'style': 3, 'tier_current': 3, 'tier_total': 4}, {'name': 'Enforcer', 'num_units': 2, 'style': 1, 'tier_current': 1, 'tier_total': 2}, {'name': 'Hextech', 'num_units': 2, 'style': 1, 'tier_current': 1, 'tier_total': 4}, {'name': 'Mercenary', 'num_units': 1, 'style': 0, 'tier_current': 0, 'tier_total': 3}, {'name': 'Rivals', 'num_units': 1, 'style': 3, 'tier_current': 1, 'tier_total': 1}, {'name': 'Socialite', 'num_units': 1, 'style': 1, 'tier_current': 1, 'tier_total': 4}, {'name': 'Syndicate', 'num_units': 1, 'style': 0, 'tier_current': 0, 'tier_total': 3}, {'name': 'Twinshot', 'num_units': 5, 'style': 4, 'tier_current': 4, 'tier_total': 4}, {'name': 'Yordle', 'num_units': 1, 'style': 0, 'tier_current': 0, 'tier_total': 2}]",
         "units": "[{'character_id': 'Sejuani', 'items': [], 'name': '', 'rarity': 1, 'tier': 2}, {'character_id': 'Corki', 'items': [24, 46], 'name': '', 'rarity': 1, 'tier': 3}, {'character_id': 'Gangplank', 'items': [16, 69, 29], 'name': '', 'rarity': 2, 'tier': 3}, {'character_id': 'Lucian', 'items': [44, 12], 'name': 'Lucian', 'rarity': 2, 'tier': 3}, {'character_id': 'Morgana', 'items': [35, 35], 'name': 'Morgana', 'rarity': 2, 'tier': 3}, {'character_id': 'Senna', 'items': [], 'name': '', 'rarity': 2, 'tier': 2}, {'character_id': 'Orianna', 'items': [], 'name': '', 'rarity': 3, 'tier': 2}, {'character_id': 'TFT6b_Vi', 'items': [2191], 'name': '', 'rarity': 3, 'tier': 2}]",
         "Match ID": "NA1_4247681350",
         "_deepnote_index_column": 2
        },
        {
         "augments": "['CalculatedLoss', 'ExperimentalEmblem', 'ArcanistEmblem2']",
         "level": 9,
         "placement": 1,
         "traits": "[{'name': 'Arcanist', 'num_units': 4, 'style': 2, 'tier_current': 2, 'tier_total': 4}, {'name': 'Assassin', 'num_units': 1, 'style': 0, 'tier_current': 0, 'tier_total': 3}, {'name': 'Bodyguard', 'num_units': 1, 'style': 0, 'tier_current': 0, 'tier_total': 4}, {'name': 'Bruiser', 'num_units': 2, 'style': 1, 'tier_current': 1, 'tier_total': 4}, {'name': 'Challenger', 'num_units': 1, 'style': 0, 'tier_current': 0, 'tier_total': 4}, {'name': 'Colossus', 'num_units': 2, 'style': 3, 'tier_current': 1, 'tier_total': 1}, {'name': 'Mutant', 'num_units': 7, 'style': 4, 'tier_current': 3, 'tier_total': 3}, {'name': 'Scholar', 'num_units': 1, 'style': 0, 'tier_current': 0, 'tier_total': 3}, {'name': 'Socialite', 'num_units': 1, 'style': 1, 'tier_current': 1, 'tier_total': 4}, {'name': 'Striker', 'num_units': 1, 'style': 0, 'tier_current': 0, 'tier_total': 3}, {'name': 'Syndicate', 'num_units': 1, 'style': 0, 'tier_current': 0, 'tier_total': 3}]",
         "units": "[{'character_id': 'Kassadin', 'items': [], 'name': 'Kassadin', 'rarity': 0, 'tier': 2}, {'character_id': 'RekSai', 'items': [], 'name': 'RekSai', 'rarity': 1, 'tier': 2}, {'character_id': 'Malzahar', 'items': [44, 33, 37], 'name': '', 'rarity': 2, 'tier': 2}, {'character_id': 'ChoGath', 'items': [25, 38, 66], 'name': '', 'rarity': 2, 'tier': 3}, {'character_id': 'KhaZix', 'items': [], 'name': 'Khazix', 'rarity': 3, 'tier': 2}, {'character_id': 'Ahri', 'items': [2190, 69, 39], 'name': '', 'rarity': 3, 'tier': 2}, {'character_id': 'Galio', 'items': [45], 'name': '', 'rarity': 4, 'tier': 2}, {'character_id': 'Kaisa', 'items': [38], 'name': '', 'rarity': 4, 'tier': 1}]",
         "Match ID": "NA1_4247681350",
         "_deepnote_index_column": 3
        },
        {
         "augments": "['Phalanx1', 'ArcanistSpellBlade', 'ExperimentalEmblem2']",
         "level": 9,
         "placement": 4,
         "traits": "[{'name': 'Arcanist', 'num_units': 2, 'style': 1, 'tier_current': 1, 'tier_total': 4}, {'name': 'Bruiser', 'num_units': 3, 'style': 1, 'tier_current': 1, 'tier_total': 4}, {'name': 'Challenger', 'num_units': 2, 'style': 1, 'tier_current': 1, 'tier_total': 4}, {'name': 'Chemtech', 'num_units': 1, 'style': 0, 'tier_current': 0, 'tier_total': 4}, {'name': 'Colossus', 'num_units': 2, 'style': 3, 'tier_current': 1, 'tier_total': 1}, {'name': 'Hextech', 'num_units': 1, 'style': 0, 'tier_current': 0, 'tier_total': 4}, {'name': 'Mutant', 'num_units': 7, 'style': 4, 'tier_current': 3, 'tier_total': 3}, {'name': 'Striker', 'num_units': 1, 'style': 0, 'tier_current': 0, 'tier_total': 3}, {'name': 'Syndicate', 'num_units': 1, 'style': 0, 'tier_current': 0, 'tier_total': 3}]",
         "units": "[{'character_id': 'RekSai', 'items': [], 'name': 'RekSai', 'rarity': 1, 'tier': 2}, {'character_id': 'Malzahar', 'items': [44, 37, 49], 'name': '', 'rarity': 2, 'tier': 2}, {'character_id': 'Zac', 'items': [2190], 'name': '', 'rarity': 2, 'tier': 2}, {'character_id': 'ChoGath', 'items': [59, 28], 'name': '', 'rarity': 2, 'tier': 2}, {'character_id': 'Ahri', 'items': [2190, 79, 49], 'name': '', 'rarity': 3, 'tier': 2}, {'character_id': 'Alistar', 'items': [2190], 'name': '', 'rarity': 3, 'tier': 1}, {'character_id': 'Kaisa', 'items': [17], 'name': '', 'rarity': 4, 'tier': 1}]",
         "Match ID": "NA1_4247681350",
         "_deepnote_index_column": 4
        },
        {
         "augments": "['StrikerTrait', 'ComponentGrabBag', 'CyberneticUplink3']",
         "level": 8,
         "placement": 6,
         "traits": "[{'name': 'Assassin', 'num_units': 1, 'style': 0, 'tier_current': 0, 'tier_total': 3}, {'name': 'Bruiser', 'num_units': 1, 'style': 0, 'tier_current': 0, 'tier_total': 4}, {'name': 'Chemtech', 'num_units': 1, 'style': 0, 'tier_current': 0, 'tier_total': 4}, {'name': 'Clockwork', 'num_units': 1, 'style': 0, 'tier_current': 0, 'tier_total': 3}, {'name': 'Enforcer', 'num_units': 1, 'style': 0, 'tier_current': 0, 'tier_total': 2}, {'name': 'Hextech', 'num_units': 1, 'style': 0, 'tier_current': 0, 'tier_total': 4}, {'name': 'Innovator', 'num_units': 5, 'style': 3, 'tier_current': 2, 'tier_total': 3}, {'name': 'Scrap', 'num_units': 3, 'style': 1, 'tier_current': 1, 'tier_total': 3}, {'name': 'Socialite', 'num_units': 2, 'style': 2, 'tier_current': 2, 'tier_total': 4}, {'name': 'Striker', 'num_units': 3, 'style': 1, 'tier_current': 1, 'tier_total': 3}, {'name': 'Yordle', 'num_units': 1, 'style': 0, 'tier_current': 0, 'tier_total': 2}]",
         "units": "[{'character_id': 'Singed', 'items': [], 'name': '', 'rarity': 0, 'tier': 1}, {'character_id': 'Ezreal', 'items': [9], 'name': '', 'rarity': 0, 'tier': 2}, {'character_id': 'Sejuani', 'items': [77], 'name': '', 'rarity': 1, 'tier': 2}, {'character_id': 'Zilean', 'items': [], 'name': '', 'rarity': 1, 'tier': 2}, {'character_id': 'Ekko', 'items': [45, 67, 37], 'name': '', 'rarity': 2, 'tier': 2}, {'character_id': 'Gnar', 'items': [], 'name': '', 'rarity': 2, 'tier': 2}, {'character_id': 'Seraphine', 'items': [33], 'name': '', 'rarity': 3, 'tier': 2}, {'character_id': 'Irelia', 'items': [16, 26, 19], 'name': '', 'rarity': 3, 'tier': 1}]",
         "Match ID": "NA1_4247681350",
         "_deepnote_index_column": 5
        },
        {
         "augments": "['HeroStandBehindMe', 'TriForce2', 'HighFive']",
         "level": 8,
         "placement": 7,
         "traits": "[{'name': 'Arcanist', 'num_units': 1, 'style': 0, 'tier_current': 0, 'tier_total': 4}, {'name': 'Bodyguard', 'num_units': 2, 'style': 1, 'tier_current': 1, 'tier_total': 4}, {'name': 'Chemtech', 'num_units': 1, 'style': 0, 'tier_current': 0, 'tier_total': 4}, {'name': 'Clockwork', 'num_units': 1, 'style': 0, 'tier_current': 0, 'tier_total': 3}, {'name': 'Enchanter', 'num_units': 3, 'style': 2, 'tier_current': 2, 'tier_total': 4}, {'name': 'Hextech', 'num_units': 1, 'style': 0, 'tier_current': 0, 'tier_total': 4}, {'name': 'Rivals', 'num_units': 1, 'style': 3, 'tier_current': 1, 'tier_total': 1}, {'name': 'Scrap', 'num_units': 2, 'style': 1, 'tier_current': 1, 'tier_total': 3}, {'name': 'Socialite', 'num_units': 1, 'style': 1, 'tier_current': 1, 'tier_total': 4}, {'name': 'Syndicate', 'num_units': 2, 'style': 0, 'tier_current': 0, 'tier_total': 3}, {'name': 'Twinshot', 'num_units': 2, 'style': 1, 'tier_current': 1, 'tier_total': 4}]",
         "units": "[{'character_id': 'Blitzcrank', 'items': [55], 'name': '', 'rarity': 1, 'tier': 2}, {'character_id': 'Lucian', 'items': [], 'name': 'Lucian', 'rarity': 2, 'tier': 2}, {'character_id': 'Morgana', 'items': [], 'name': 'Morgana', 'rarity': 2, 'tier': 2}, {'character_id': 'Senna', 'items': [], 'name': '', 'rarity': 2, 'tier': 2}, {'character_id': 'Braum', 'items': [55, 47], 'name': '', 'rarity': 3, 'tier': 2}, {'character_id': 'Orianna', 'items': [], 'name': '', 'rarity': 3, 'tier': 2}, {'character_id': 'Jinx', 'items': [29, 19, 94], 'name': '', 'rarity': 4, 'tier': 2}, {'character_id': 'Viktor', 'items': [47], 'name': '', 'rarity': 4, 'tier': 2}]",
         "Match ID": "NA1_4247681350",
         "_deepnote_index_column": 6
        },
        {
         "augments": "['ThrillOfTheHunt1', 'Keepers2', 'Weakspot3']",
         "level": 8,
         "placement": 5,
         "traits": "[{'name': 'Arcanist', 'num_units': 1, 'style': 0, 'tier_current': 0, 'tier_total': 4}, {'name': 'Bruiser', 'num_units': 2, 'style': 1, 'tier_current': 1, 'tier_total': 4}, {'name': 'Colossus', 'num_units': 1, 'style': 0, 'tier_current': 0, 'tier_total': 1}, {'name': 'Enforcer', 'num_units': 2, 'style': 1, 'tier_current': 1, 'tier_total': 2}, {'name': 'Hextech', 'num_units': 6, 'style': 3, 'tier_current': 3, 'tier_total': 4}, {'name': 'Rivals', 'num_units': 1, 'style': 3, 'tier_current': 1, 'tier_total': 1}, {'name': 'Striker', 'num_units': 2, 'style': 1, 'tier_current': 1, 'tier_total': 3}, {'name': 'Twinshot', 'num_units': 1, 'style': 0, 'tier_current': 0, 'tier_total': 4}]",
         "units": "[{'character_id': 'JarvanIV', 'items': [], 'name': '', 'rarity': 0, 'tier': 2}, {'character_id': 'Sejuani', 'items': [], 'name': '', 'rarity': 1, 'tier': 2}, {'character_id': 'Swain', 'items': [], 'name': '', 'rarity': 1, 'tier': 2}, {'character_id': 'Lucian', 'items': [1], 'name': 'Lucian', 'rarity': 2, 'tier': 2}, {'character_id': 'Sivir', 'items': [19, 23, 94], 'name': '', 'rarity': 3, 'tier': 2}, {'character_id': 'TFT6b_Vi', 'items': [55, 77, 44], 'name': '', 'rarity': 3, 'tier': 2}, {'character_id': 'Alistar', 'items': [37], 'name': '', 'rarity': 3, 'tier': 2}]",
         "Match ID": "NA1_4247681350",
         "_deepnote_index_column": 7
        },
        {
         "augments": "['TargetDummies', 'BruteTrait', 'ComponentGrabBag']",
         "level": 8,
         "placement": 5,
         "traits": "[{'name': 'Arcanist', 'num_units': 1, 'style': 0, 'tier_current': 0, 'tier_total': 4}, {'name': 'Assassin', 'num_units': 2, 'style': 1, 'tier_current': 1, 'tier_total': 3}, {'name': 'Bruiser', 'num_units': 4, 'style': 2, 'tier_current': 2, 'tier_total': 4}, {'name': 'Challenger', 'num_units': 1, 'style': 0, 'tier_current': 0, 'tier_total': 4}, {'name': 'Enforcer', 'num_units': 2, 'style': 1, 'tier_current': 1, 'tier_total': 2}, {'name': 'Hextech', 'num_units': 1, 'style': 0, 'tier_current': 0, 'tier_total': 4}, {'name': 'Innovator', 'num_units': 1, 'style': 0, 'tier_current': 0, 'tier_total': 3}, {'name': 'Mutant', 'num_units': 5, 'style': 3, 'tier_current': 2, 'tier_total': 3}, {'name': 'Rivals', 'num_units': 1, 'style': 3, 'tier_current': 1, 'tier_total': 1}, {'name': 'Scholar', 'num_units': 1, 'style': 0, 'tier_current': 0, 'tier_total': 3}, {'name': 'Scrap', 'num_units': 1, 'style': 0, 'tier_current': 0, 'tier_total': 3}, {'name': 'Striker', 'num_units': 1, 'style': 0, 'tier_curre…",
         "units": "[{'character_id': 'Kassadin', 'items': [27, 27], 'name': 'Kassadin', 'rarity': 0, 'tier': 2}, {'character_id': 'Sejuani', 'items': [], 'name': '', 'rarity': 1, 'tier': 1}, {'character_id': 'RekSai', 'items': [], 'name': 'RekSai', 'rarity': 1, 'tier': 2}, {'character_id': 'Malzahar', 'items': [88, 67], 'name': '', 'rarity': 2, 'tier': 2}, {'character_id': 'Ekko', 'items': [45], 'name': '', 'rarity': 2, 'tier': 2}, {'character_id': 'KhaZix', 'items': [16, 19, 69], 'name': 'Khazix', 'rarity': 3, 'tier': 2}, {'character_id': 'KhaZix', 'items': [69], 'name': 'Khazix', 'rarity': 3, 'tier': 2}, {'character_id': 'TFT6b_Vi', 'items': [59, 36, 57], 'name': '', 'rarity': 3, 'tier': 2}, {'character_id': 'Kaisa', 'items': [], 'name': '', 'rarity': 4, 'tier': 1}]",
         "Match ID": "NA1_4242542116",
         "_deepnote_index_column": 8
        },
        {
         "augments": "['CelestialBlessing1', 'CyberneticShell1', 'ScrapEmblem']",
         "level": 9,
         "placement": 2,
         "traits": "[{'name': 'Assassin', 'num_units': 1, 'style': 0, 'tier_current': 0, 'tier_total': 3}, {'name': 'Bodyguard', 'num_units': 2, 'style': 1, 'tier_current': 1, 'tier_total': 4}, {'name': 'Clockwork', 'num_units': 2, 'style': 1, 'tier_current': 1, 'tier_total': 3}, {'name': 'Enchanter', 'num_units': 1, 'style': 0, 'tier_current': 0, 'tier_total': 4}, {'name': 'Enforcer', 'num_units': 1, 'style': 0, 'tier_current': 0, 'tier_total': 2}, {'name': 'Innovator', 'num_units': 4, 'style': 1, 'tier_current': 1, 'tier_total': 3}, {'name': 'Rivals', 'num_units': 1, 'style': 3, 'tier_current': 1, 'tier_total': 1}, {'name': 'Scrap', 'num_units': 6, 'style': 3, 'tier_current': 3, 'tier_total': 3}, {'name': 'Striker', 'num_units': 1, 'style': 0, 'tier_current': 0, 'tier_total': 3}, {'name': 'Syndicate', 'num_units': 1, 'style': 0, 'tier_current': 0, 'tier_total': 3}, {'name': 'Transformer', 'num_units': 1, 'style': 3, 'tier_current': 1, 'tier_total': 1}, {'name': 'Twinshot', 'num_units': 1, 'style': 0, '…",
         "units": "[{'character_id': 'Ezreal', 'items': [], 'name': '', 'rarity': 0, 'tier': 1}, {'character_id': 'Zilean', 'items': [], 'name': '', 'rarity': 1, 'tier': 1}, {'character_id': 'Blitzcrank', 'items': [7], 'name': '', 'rarity': 1, 'tier': 2}, {'character_id': 'Ekko', 'items': [37], 'name': '', 'rarity': 2, 'tier': 1}, {'character_id': 'Braum', 'items': [2195, 56], 'name': '', 'rarity': 3, 'tier': 2}, {'character_id': 'Orianna', 'items': [], 'name': '', 'rarity': 3, 'tier': 2}, {'character_id': 'Irelia', 'items': [], 'name': '', 'rarity': 3, 'tier': 1}, {'character_id': 'Jinx', 'items': [26, 33, 7], 'name': '', 'rarity': 4, 'tier': 2}, {'character_id': 'Jayce', 'items': [19, 39, 44], 'name': '', 'rarity': 4, 'tier': 2}]",
         "Match ID": "NA1_4242542116",
         "_deepnote_index_column": 9
        }
       ]
      },
      "text/plain": "                                                augments  level  placement  \\\n0      ['DebonairTrait', 'Distancing2', 'DebonairEmbl...      7          8   \n1      ['AssassinCutthroat', 'RichGetRicher', 'Divers...      9          3   \n2      ['EnchanterTrait', 'SunfireBoard', 'TwinshotTr...      8          2   \n3      ['CalculatedLoss', 'ExperimentalEmblem', 'Arca...      9          1   \n4      ['Phalanx1', 'ArcanistSpellBlade', 'Experiment...      9          4   \n...                                                  ...    ...        ...   \n39995  ['Disintegrator1', 'TomeOfTraits1', 'AssassinE...      9          1   \n39996   ['SocialiteDuet', 'Disintegrator1', 'Backfoot2']      8          3   \n39997  ['ItemGrabBag1', 'ThrillOfTheHunt1', 'JeweledL...      8          4   \n39998      ['Featherweights1', 'Weakspot', 'Archangel2']      8          7   \n39999     ['Underdogs', 'ScholarTrait', 'BinaryAirdrop']      8          8   \n\n                                                  traits  \\\n0      [{'name': 'Assassin', 'num_units': 2, 'style':...   \n1      [{'name': 'Arcanist', 'num_units': 2, 'style':...   \n2      [{'name': 'Bruiser', 'num_units': 2, 'style': ...   \n3      [{'name': 'Arcanist', 'num_units': 4, 'style':...   \n4      [{'name': 'Arcanist', 'num_units': 2, 'style':...   \n...                                                  ...   \n39995  [{'name': 'Assassin', 'num_units': 4, 'style':...   \n39996  [{'name': 'Bodyguard', 'num_units': 1, 'style'...   \n39997  [{'name': 'Assassin', 'num_units': 4, 'style':...   \n39998  [{'name': 'Arcanist', 'num_units': 2, 'style':...   \n39999  [{'name': 'Arcanist', 'num_units': 1, 'style':...   \n\n                                                   units        Match ID  \n0      [{'character_id': 'Talon', 'items': [69, 19, 2...  NA1_4247681350  \n1      [{'character_id': 'Kassadin', 'items': [], 'na...  NA1_4247681350  \n2      [{'character_id': 'Sejuani', 'items': [], 'nam...  NA1_4247681350  \n3      [{'character_id': 'Kassadin', 'items': [], 'na...  NA1_4247681350  \n4      [{'character_id': 'RekSai', 'items': [], 'name...  NA1_4247681350  \n...                                                  ...             ...  \n39995  [{'character_id': 'Zilean', 'items': [], 'name...  NA1_4255593521  \n39996  [{'character_id': 'Corki', 'items': [], 'name'...  NA1_4255593521  \n39997  [{'character_id': 'Nocturne', 'items': [], 'na...  NA1_4255593521  \n39998  [{'character_id': 'Poppy', 'items': [], 'name'...  NA1_4255593521  \n39999  [{'character_id': 'Kassadin', 'items': [66, 1,...  NA1_4255593521  \n\n[40000 rows x 6 columns]",
      "text/html": "<div>\n<style scoped>\n    .dataframe tbody tr th:only-of-type {\n        vertical-align: middle;\n    }\n\n    .dataframe tbody tr th {\n        vertical-align: top;\n    }\n\n    .dataframe thead th {\n        text-align: right;\n    }\n</style>\n<table border=\"1\" class=\"dataframe\">\n  <thead>\n    <tr style=\"text-align: right;\">\n      <th></th>\n      <th>augments</th>\n      <th>level</th>\n      <th>placement</th>\n      <th>traits</th>\n      <th>units</th>\n      <th>Match ID</th>\n    </tr>\n  </thead>\n  <tbody>\n    <tr>\n      <th>0</th>\n      <td>['DebonairTrait', 'Distancing2', 'DebonairEmbl...</td>\n      <td>7</td>\n      <td>8</td>\n      <td>[{'name': 'Assassin', 'num_units': 2, 'style':...</td>\n      <td>[{'character_id': 'Talon', 'items': [69, 19, 2...</td>\n      <td>NA1_4247681350</td>\n    </tr>\n    <tr>\n      <th>1</th>\n      <td>['AssassinCutthroat', 'RichGetRicher', 'Divers...</td>\n      <td>9</td>\n      <td>3</td>\n      <td>[{'name': 'Arcanist', 'num_units': 2, 'style':...</td>\n      <td>[{'character_id': 'Kassadin', 'items': [], 'na...</td>\n      <td>NA1_4247681350</td>\n    </tr>\n    <tr>\n      <th>2</th>\n      <td>['EnchanterTrait', 'SunfireBoard', 'TwinshotTr...</td>\n      <td>8</td>\n      <td>2</td>\n      <td>[{'name': 'Bruiser', 'num_units': 2, 'style': ...</td>\n      <td>[{'character_id': 'Sejuani', 'items': [], 'nam...</td>\n      <td>NA1_4247681350</td>\n    </tr>\n    <tr>\n      <th>3</th>\n      <td>['CalculatedLoss', 'ExperimentalEmblem', 'Arca...</td>\n      <td>9</td>\n      <td>1</td>\n      <td>[{'name': 'Arcanist', 'num_units': 4, 'style':...</td>\n      <td>[{'character_id': 'Kassadin', 'items': [], 'na...</td>\n      <td>NA1_4247681350</td>\n    </tr>\n    <tr>\n      <th>4</th>\n      <td>['Phalanx1', 'ArcanistSpellBlade', 'Experiment...</td>\n      <td>9</td>\n      <td>4</td>\n      <td>[{'name': 'Arcanist', 'num_units': 2, 'style':...</td>\n      <td>[{'character_id': 'RekSai', 'items': [], 'name...</td>\n      <td>NA1_4247681350</td>\n    </tr>\n    <tr>\n      <th>...</th>\n      <td>...</td>\n      <td>...</td>\n      <td>...</td>\n      <td>...</td>\n      <td>...</td>\n      <td>...</td>\n    </tr>\n    <tr>\n      <th>39995</th>\n      <td>['Disintegrator1', 'TomeOfTraits1', 'AssassinE...</td>\n      <td>9</td>\n      <td>1</td>\n      <td>[{'name': 'Assassin', 'num_units': 4, 'style':...</td>\n      <td>[{'character_id': 'Zilean', 'items': [], 'name...</td>\n      <td>NA1_4255593521</td>\n    </tr>\n    <tr>\n      <th>39996</th>\n      <td>['SocialiteDuet', 'Disintegrator1', 'Backfoot2']</td>\n      <td>8</td>\n      <td>3</td>\n      <td>[{'name': 'Bodyguard', 'num_units': 1, 'style'...</td>\n      <td>[{'character_id': 'Corki', 'items': [], 'name'...</td>\n      <td>NA1_4255593521</td>\n    </tr>\n    <tr>\n      <th>39997</th>\n      <td>['ItemGrabBag1', 'ThrillOfTheHunt1', 'JeweledL...</td>\n      <td>8</td>\n      <td>4</td>\n      <td>[{'name': 'Assassin', 'num_units': 4, 'style':...</td>\n      <td>[{'character_id': 'Nocturne', 'items': [], 'na...</td>\n      <td>NA1_4255593521</td>\n    </tr>\n    <tr>\n      <th>39998</th>\n      <td>['Featherweights1', 'Weakspot', 'Archangel2']</td>\n      <td>8</td>\n      <td>7</td>\n      <td>[{'name': 'Arcanist', 'num_units': 2, 'style':...</td>\n      <td>[{'character_id': 'Poppy', 'items': [], 'name'...</td>\n      <td>NA1_4255593521</td>\n    </tr>\n    <tr>\n      <th>39999</th>\n      <td>['Underdogs', 'ScholarTrait', 'BinaryAirdrop']</td>\n      <td>8</td>\n      <td>8</td>\n      <td>[{'name': 'Arcanist', 'num_units': 1, 'style':...</td>\n      <td>[{'character_id': 'Kassadin', 'items': [66, 1,...</td>\n      <td>NA1_4255593521</td>\n    </tr>\n  </tbody>\n</table>\n<p>40000 rows × 6 columns</p>\n</div>"
     },
     "metadata": {}
    }
   ],
   "execution_count": null
  },
  {
   "cell_type": "markdown",
   "source": [
    "Within the compiled CSV/dataset, each row represents a player. The columns are:  \n",
    "- Augments: The three augments the player ended a game with\n",
    "- Level: The level the player ended a game with\n",
    "- Placement: The player's overall placement at the end of the game\n",
    "- Traits: The active Traits the player had by the end of the game \n",
    "- Units: The Units the player had by the end of the game (with their rarities and items)   \n",
    "- Match ID: The ID of the game. "
   ],
   "metadata": {
    "cell_id": "809190a8c38c4ab8a474a741d44ba638",
    "tags": [],
    "deepnote_cell_type": "markdown",
    "deepnote_cell_height": 229.796875
   }
  },
  {
   "cell_type": "markdown",
   "source": [
    "# <center>Data Management</center>"
   ],
   "metadata": {
    "cell_id": "d5d9129dbca5461abf32d844750d49c7",
    "tags": [],
    "deepnote_cell_type": "markdown",
    "deepnote_cell_height": 82
   }
  },
  {
   "cell_type": "markdown",
   "source": [
    "With the csv file created we can now clean it to make the dataset more readable.\n",
    "\n",
    "As of now each row of the csv will look something like this:\n",
    "\n",
    "<center>\"augments\": \"['TFT6_Augment_DebonairTrait', ...]\",\n",
    "\n",
    "\"level\": \"8\",\n",
    "\n",
    "\"placement\": \"8\",\n",
    "\n",
    "\"traits\": \"[{'name': 'Set6_traitname', 'num_units': 1, 'style': 0, 'tier_current': 0, 'tier_total': 4}, ...]\",\n",
    "\n",
    "\"units\": \"[{'character_id': 'TFT6_(CharacterName))', 'itemNames': ['TFT_Item_(ItemName)', ...], 'items': [(ItemID), ...], 'name': '(CharacterName)', 'rarity': (Rarity number), 'tier': (Unit Cost))}, ...]\",\n",
    "\n",
    "\"Match ID\": \"Match ID\" </center>\n",
    "\n",
    "\n",
    "Of the information available there's alot of redundant and useless headers such as \"TFT6\\_\" and \"Set6\\_\" or \"TFT\\_Item\\_\". For the sake of readability we shall remove them from the csv.\n",
    "\n",
    "To do so we can create a function that finds these exact phrases in the csv and simply erases them."
   ],
   "metadata": {
    "cell_id": "52c876e553894c5797e21cca76e9b2e2",
    "tags": [],
    "deepnote_cell_type": "markdown",
    "deepnote_cell_height": 410.796875
   }
  },
  {
   "cell_type": "code",
   "source": [
    "# var filePath: str, contains the filepath that leads to the csv file\n",
    "def cleanCSV(filePath):\n",
    "    # open the csv file\n",
    "    f = open(filePath)\n",
    "    # save text in the file to a string to edit\n",
    "    text = f.read()\n",
    "    #  close the csv file\n",
    "    f.close()\n",
    "\n",
    "    # the next 6 lines of code deletes the specific unnecesary phrases\n",
    "    # as well as an error item id that sometimes appears in collected data from our csv\n",
    "    text = text.replace('TFT6_', '')\n",
    "    text = text.replace('Set6_', '')\n",
    "    text = text.replace('TFT_Item_', '')\n",
    "    text = text.replace('Augment_', '')\n",
    "    text = text.replace(', 10006', '')\n",
    "\n",
    "    # open the csv file again\n",
    "    f = open(filePath,'w')\n",
    "\n",
    "    # save new clean text to the csv file\n",
    "    f.write(text)\n",
    "\n",
    "    # close the csv file\n",
    "    f.close()\n",
    "\n",
    "# run the function which will overwrite the old dataset with the cleaned dataset\n",
    "cleanCSV(\"TFTdataset.csv\")\n"
   ],
   "metadata": {
    "cell_id": "ae8c69a293a34a28814b8ca09c7e1d91",
    "tags": [],
    "deepnote_to_be_reexecuted": false,
    "source_hash": "def81ef9",
    "execution_start": 1652238918681,
    "execution_millis": 490,
    "deepnote_cell_type": "code",
    "deepnote_cell_height": 585
   },
   "outputs": [],
   "execution_count": null
  },
  {
   "cell_type": "markdown",
   "source": [
    "The CSV is now cleaned of useless headers. We will now convert the csv to a JSON to make the data set easier to work with as well as give each row a unique ID.\n",
    "\n",
    "Once again we'll make a function for this as well"
   ],
   "metadata": {
    "cell_id": "0c570421df3441ed93036f4a3cf10e2a",
    "tags": [],
    "deepnote_cell_type": "markdown",
    "deepnote_cell_height": 111.1875
   }
  },
  {
   "cell_type": "code",
   "source": [
    "# var csvFilePath: str, contains the filepath that leads to the csv file\n",
    "# var jsonFilePath: str, place to save the JSON file\n",
    "def make_json(csvFilePath, jsonFilePath):\n",
    "     \n",
    "    # create a dictionary called data\n",
    "    data = {}\n",
    "    # create a counter to number each row of the csv \n",
    "    counter = 0\n",
    "    # Open the csv with a csv reader called DictReader\n",
    "    with open(csvFilePath, encoding='utf-8') as csvf:\n",
    "        csvReader = csv.DictReader(csvf)\n",
    "         \n",
    "        # Convert each row into a dictionary and add it to data\n",
    "        for rows in csvReader:\n",
    "             \n",
    "            # save the row to the key represented by the counter\n",
    "            data[counter] = rows\n",
    "            # increment the counter\n",
    "            counter += 1\n",
    " \n",
    "    # Open a json writer, and use the json.dumps() function to convert the dictionary into a Json object\n",
    "    # save the JSON object to a file using write()\n",
    "    with open(jsonFilePath, 'w', encoding='utf-8') as jsonf:\n",
    "        jsonf.write(json.dumps(data, indent=4))\n",
    "\n",
    "# run the function which will create a json file version of the csv file\n",
    "make_json(\"TFTdataset.csv\", 'TFTdataset.json')\n",
    "\n",
    "#  open the json file and save it to a variable for use later using json.load()\n",
    "with open('TFTdataset.json') as json_file:\n",
    "    data = json.load(json_file)"
   ],
   "metadata": {
    "cell_id": "4bcbf70faae04d1f80d856065e355ade",
    "tags": [],
    "deepnote_to_be_reexecuted": false,
    "source_hash": "ec3d8111",
    "execution_start": 1652246938763,
    "execution_millis": 2786,
    "deepnote_cell_type": "code",
    "deepnote_cell_height": 621
   },
   "outputs": [],
   "execution_count": 6
  },
  {
   "cell_type": "markdown",
   "source": [
    "We we now convert all the item IDs into the English names of the Items to make the data easier to read, to do so\n",
    "We will be needing one more thing and thats a itemDictionary or a dictionary for converting item IDs to items names.\n",
    "\n",
    "These can be found by searching through the en_us.json file found at https://raw.communitydragon.org/latest/cdragon/tft/\n",
    "\n",
    "You can either manually skim through the file for item codes or create a code to clean this, however for simplicity's sake the finished item dictionary is already saved to a json file and loaded into the code below."
   ],
   "metadata": {
    "cell_id": "d5fe95dc84da4baa8cc4ae207cb7a512",
    "tags": [],
    "deepnote_cell_type": "markdown",
    "deepnote_cell_height": 170
   }
  },
  {
   "cell_type": "code",
   "metadata": {
    "collapsed": false,
    "pycharm": {
     "name": "#%%\n"
    },
    "cell_id": "00010-f06ed10b-99d1-487d-8ef4-13f02df3f4d1",
    "deepnote_to_be_reexecuted": false,
    "source_hash": "51221cef",
    "execution_start": 1652250506051,
    "execution_millis": 5,
    "owner_user_id": "60df8e0a-2aa1-45e3-8a8a-8bd70c5458a1",
    "deepnote_cell_type": "code",
    "deepnote_cell_height": 99
   },
   "source": [
    "with open('TFTitemDictionary.json') as json_file:\n",
    "    itemDictionary = json.load(json_file)"
   ],
   "execution_count": 45,
   "outputs": []
  },
  {
   "cell_type": "markdown",
   "source": [
    "With a JSON file and an item dictionary, we can now replace all item ID numbers with Item Names as well as remove redundant sections such as \"itemName\" and \"name\"."
   ],
   "metadata": {
    "cell_id": "7caec578ecda4540ba2c316a030f4e18",
    "tags": [],
    "deepnote_cell_type": "markdown",
    "deepnote_cell_height": 74.796875
   }
  },
  {
   "cell_type": "code",
   "source": [
    "\n",
    "# create a list containing the all row numbers (keys) of the dataset\n",
    "keys = list(data.keys())\n",
    "\n",
    "# iterate through the list of keys\n",
    "for key in keys:\n",
    "    # save the units section of the row specified by key\n",
    "    units = data[key]['units']\n",
    "\n",
    "    # Units will be in the form of a list of dictionaries representing each unit in the team within a string\n",
    "    # We want string to be just a list\n",
    "    # To do so we will first make sure that units is a string\n",
    "    \n",
    "    if(units.__class__.__name__ == 'str'):\n",
    "        if len(units) < 2:\n",
    "            print(\"error line: \", key)\n",
    "        # convert the string into a list of dictionaries using literal_eval()\n",
    "        units = literal_eval(units)\n",
    "\n",
    "    # For every item in every unit within the row we replace each ID with its respective name within the itemDictionary\n",
    "    for char in range(len(units)):\n",
    "        info = list(units[char].keys())\n",
    "        # if this unit has a \"itemNames\" section remove it\n",
    "        if 'itemNames' in info:\n",
    "            units[char].pop('itemNames')\n",
    "\n",
    "        # if this unit has a \"names\" section remove it\n",
    "        if 'names' in info:\n",
    "            units[char].pop('name')\n",
    "        for item in range(len(units[char]['items'])):\n",
    "            \n",
    "            # Confirm that the ID is an actual Item ID by making sure its length is less or equal to 4\n",
    "            # This is for the case that the item name is already there which could be the case\n",
    "            if(len(str(units[char]['items'][item])) <= 4):\n",
    "                units[char]['items'][item] = itemDictionary[str(units[char]['items'][item])]\n",
    "    \n",
    "    # update the row with the new information\n",
    "    data[key]['units'] = units\n",
    "\n",
    "# Save the dictionary to the json file\n",
    "with open('TFTdataset.json', 'w') as json_file:\n",
    "    json.dump(data, json_file)\n",
    "    "
   ],
   "metadata": {
    "cell_id": "5ca3c9e7fccc427eae7a98db964415f7",
    "tags": [],
    "deepnote_to_be_reexecuted": false,
    "source_hash": "960df79f",
    "execution_start": 1652246948650,
    "execution_millis": 17352,
    "deepnote_cell_type": "code",
    "deepnote_cell_height": 837
   },
   "outputs": [],
   "execution_count": 8
  },
  {
   "cell_type": "markdown",
   "source": [
    "We can now convert the json directly into a pandas dataframe for analysis.\n"
   ],
   "metadata": {
    "cell_id": "fea563f95dae4d7bbbb52de2f71d1c01",
    "tags": [],
    "owner_user_id": "c3a44fca-2e83-4fca-81ae-d5d786a2ce05",
    "deepnote_cell_type": "markdown",
    "deepnote_cell_height": 52.390625
   }
  },
  {
   "cell_type": "code",
   "source": [
    "# if the JSON isn't already saved to a variable in the form of a dictionary\n",
    "# you will first need to open the json file which can be done with the following 2 lines of commented code \n",
    "\n",
    "# with open('TFTdataset.json') as json_file:\n",
    "#     data = json.load(json_file)\n",
    "\n",
    "df = pd.DataFrame.from_dict(data, orient = 'index')\n",
    "\n",
    "# Some columns are currently occupied by arrays in the form of strings instead of just arrays\n",
    "# To fix this you can use the following code that simply runs eval() on each array string and turns them into regular arrays\n",
    "df[\"augments\"] = df[\"augments\"].apply(eval)\n",
    "df[\"traits\"] = df[\"traits\"].apply(eval)\n",
    "df[\"placement\"] = pd.to_numeric(df[\"placement\"])\n",
    "\n",
    "df"
   ],
   "metadata": {
    "cell_id": "c8c8e36c32b748c3bfcabe44122686fc",
    "tags": [],
    "deepnote_to_be_reexecuted": false,
    "source_hash": "aa3ea028",
    "execution_start": 1652246968534,
    "execution_millis": 9747,
    "deepnote_cell_type": "code",
    "deepnote_cell_height": 865.59375
   },
   "outputs": [
    {
     "output_type": "execute_result",
     "execution_count": 9,
     "data": {
      "application/vnd.deepnote.dataframe.v3+json": {
       "column_count": 6,
       "row_count": 40000,
       "columns": [
        {
         "name": "augments",
         "dtype": "object",
         "stats": {
          "unique_count": 40000,
          "nan_count": 0,
          "categories": [
           {
            "name": "[]",
            "count": 7
           },
           {
            "name": "['TreasureTrove1', 'Backfoot1', 'Phalanx2']",
            "count": 7
           },
           {
            "name": "37131 others",
            "count": 39986
           }
          ]
         }
        },
        {
         "name": "level",
         "dtype": "object",
         "stats": {
          "unique_count": 8,
          "nan_count": 0,
          "categories": [
           {
            "name": "8",
            "count": 23390
           },
           {
            "name": "9",
            "count": 11173
           },
           {
            "name": "6 others",
            "count": 5437
           }
          ]
         }
        },
        {
         "name": "placement",
         "dtype": "int64"
        },
        {
         "name": "traits",
         "dtype": "object"
        },
        {
         "name": "units",
         "dtype": "object"
        },
        {
         "name": "Match ID",
         "dtype": "object"
        },
        {
         "name": "_deepnote_index_column",
         "dtype": "object"
        }
       ],
       "rows": [
        {
         "augments": "['DebonairTrait', 'Distancing2', 'DebonairEmblem2']",
         "level": "7",
         "placement": 8,
         "traits": "[{'name': 'Assassin', 'num_units': 2, 'style': 1, 'tier_current': 1, 'tier_total': 3}, {'name': 'Bodyguard', 'num_units': 2, 'style': 1, 'tier_current': 1, 'tier_total': 4}, {'name': 'Challenger', 'num_units': 1, 'style': 0, 'tier_current': 0, 'tier_total': 4}, {'name': 'Debonair', 'num_units': 7, 'style': 4, 'tier_current': 3, 'tier_total': 3}, {'name': 'Innovator', 'num_units': 1, 'style': 0, 'tier_current': 0, 'tier_total': 3}, {'name': 'Scholar', 'num_units': 2, 'style': 1, 'tier_current': 1, 'tier_total': 3}, {'name': 'Scrap', 'num_units': 2, 'style': 1, 'tier_current': 1, 'tier_total': 3}, {'name': 'Syndicate', 'num_units': 1, 'style': 0, 'tier_current': 0, 'tier_total': 3}]",
         "units": "[{'character_id': 'Talon', 'items': ['Quicksilver', 'Infinity Edge', 'Rapid Firecannon'], 'name': '', 'rarity': 1, 'tier': 2}, {'character_id': 'Zyra', 'items': ['Debonair Emblem'], 'name': '', 'rarity': 1, 'tier': 2}, {'character_id': 'Blitzcrank', 'items': ['Debonair Emblem'], 'name': '', 'rarity': 1, 'tier': 2}, {'character_id': 'Syndra', 'items': [], 'name': '', 'rarity': 1, 'tier': 2}, {'character_id': 'Leona', 'items': [], 'name': '', 'rarity': 2, 'tier': 1}, {'character_id': 'Ekko', 'items': ['Morellonomicon', \"Zeke's Herald\", 'B.F. Sword'], 'name': '', 'rarity': 2, 'tier': 2}, {'character_id': 'Draven', 'items': [], 'name': 'Draven', 'rarity': 3, 'tier': 1}]",
         "Match ID": "NA1_4247681350",
         "_deepnote_index_column": "0"
        },
        {
         "augments": "['AssassinCutthroat', 'RichGetRicher', 'Diversify3']",
         "level": "9",
         "placement": 3,
         "traits": "[{'name': 'Arcanist', 'num_units': 2, 'style': 1, 'tier_current': 1, 'tier_total': 4}, {'name': 'Assassin', 'num_units': 2, 'style': 1, 'tier_current': 1, 'tier_total': 3}, {'name': 'Bruiser', 'num_units': 2, 'style': 1, 'tier_current': 1, 'tier_total': 4}, {'name': 'Glutton', 'num_units': 1, 'style': 3, 'tier_current': 1, 'tier_total': 1}, {'name': 'Innovator', 'num_units': 1, 'style': 0, 'tier_current': 0, 'tier_total': 3}, {'name': 'Mastermind', 'num_units': 1, 'style': 3, 'tier_current': 1, 'tier_total': 1}, {'name': 'Mercenary', 'num_units': 1, 'style': 0, 'tier_current': 0, 'tier_total': 3}, {'name': 'Mutant', 'num_units': 5, 'style': 3, 'tier_current': 2, 'tier_total': 3}, {'name': 'Scholar', 'num_units': 2, 'style': 1, 'tier_current': 1, 'tier_total': 3}, {'name': 'Scrap', 'num_units': 2, 'style': 1, 'tier_current': 1, 'tier_total': 3}, {'name': 'Striker', 'num_units': 2, 'style': 1, 'tier_current': 1, 'tier_total': 3}]",
         "units": "[{'character_id': 'Kassadin', 'items': [], 'name': 'Kassadin', 'rarity': 0, 'tier': 2}, {'character_id': 'RekSai', 'items': ['Chalice of Power'], 'name': 'RekSai', 'rarity': 1, 'tier': 2}, {'character_id': 'Malzahar', 'items': [], 'name': '', 'rarity': 2, 'tier': 1}, {'character_id': 'Malzahar', 'items': [], 'name': '', 'rarity': 2, 'tier': 1}, {'character_id': 'Ekko', 'items': [\"Thief's Gloves\", 'Statikk Shiv', 'Spear of Shojin'], 'name': '', 'rarity': 2, 'tier': 2}, {'character_id': 'KhaZix', 'items': ['Infinity Edge', 'Edge of Night', 'Quicksilver'], 'name': 'Khazix', 'rarity': 3, 'tier': 2}, {'character_id': 'Irelia', 'items': ['Mutant Emblem', 'Recurve Bow'], 'name': '', 'rarity': 3, 'tier': 2}, {'character_id': 'TahmKench', 'items': ['Ionic Spark', 'Redemption', 'Arcanist Emblem'], 'name': '', 'rarity': 4, 'tier': 2}, {'character_id': 'Silco', 'items': [], 'name': '', 'rarity': 4, 'tier': 1}]",
         "Match ID": "NA1_4247681350",
         "_deepnote_index_column": "1"
        },
        {
         "augments": "['EnchanterTrait', 'SunfireBoard', 'TwinshotTrait2']",
         "level": "8",
         "placement": 2,
         "traits": "[{'name': 'Bruiser', 'num_units': 2, 'style': 1, 'tier_current': 1, 'tier_total': 4}, {'name': 'Clockwork', 'num_units': 2, 'style': 1, 'tier_current': 1, 'tier_total': 3}, {'name': 'Enchanter', 'num_units': 4, 'style': 3, 'tier_current': 3, 'tier_total': 4}, {'name': 'Enforcer', 'num_units': 2, 'style': 1, 'tier_current': 1, 'tier_total': 2}, {'name': 'Hextech', 'num_units': 2, 'style': 1, 'tier_current': 1, 'tier_total': 4}, {'name': 'Mercenary', 'num_units': 1, 'style': 0, 'tier_current': 0, 'tier_total': 3}, {'name': 'Rivals', 'num_units': 1, 'style': 3, 'tier_current': 1, 'tier_total': 1}, {'name': 'Socialite', 'num_units': 1, 'style': 1, 'tier_current': 1, 'tier_total': 4}, {'name': 'Syndicate', 'num_units': 1, 'style': 0, 'tier_current': 0, 'tier_total': 3}, {'name': 'Twinshot', 'num_units': 5, 'style': 4, 'tier_current': 4, 'tier_total': 4}, {'name': 'Yordle', 'num_units': 1, 'style': 0, 'tier_current': 0, 'tier_total': 2}]",
         "units": "[{'character_id': 'Sejuani', 'items': [], 'name': '', 'rarity': 1, 'tier': 2}, {'character_id': 'Corki', 'items': ['Statikk Shiv', 'Chalice of Power'], 'name': '', 'rarity': 1, 'tier': 3}, {'character_id': 'Gangplank', 'items': ['Bloodthirster', 'Quicksilver', 'Last Whisper'], 'name': '', 'rarity': 2, 'tier': 3}, {'character_id': 'Lucian', 'items': ['Blue Buff', 'Giant Slayer'], 'name': 'Lucian', 'rarity': 2, 'tier': 3}, {'character_id': 'Morgana', 'items': ['Locket of the Iron Solari', 'Locket of the Iron Solari'], 'name': 'Morgana', 'rarity': 2, 'tier': 3}, {'character_id': 'Senna', 'items': [], 'name': '', 'rarity': 2, 'tier': 2}, {'character_id': 'Orianna', 'items': [], 'name': '', 'rarity': 3, 'tier': 2}, {'character_id': 'TFT6b_Vi', 'items': ['Clockwork Emblem'], 'name': '', 'rarity': 3, 'tier': 2}]",
         "Match ID": "NA1_4247681350",
         "_deepnote_index_column": "2"
        },
        {
         "augments": "['CalculatedLoss', 'ExperimentalEmblem', 'ArcanistEmblem2']",
         "level": "9",
         "placement": 1,
         "traits": "[{'name': 'Arcanist', 'num_units': 4, 'style': 2, 'tier_current': 2, 'tier_total': 4}, {'name': 'Assassin', 'num_units': 1, 'style': 0, 'tier_current': 0, 'tier_total': 3}, {'name': 'Bodyguard', 'num_units': 1, 'style': 0, 'tier_current': 0, 'tier_total': 4}, {'name': 'Bruiser', 'num_units': 2, 'style': 1, 'tier_current': 1, 'tier_total': 4}, {'name': 'Challenger', 'num_units': 1, 'style': 0, 'tier_current': 0, 'tier_total': 4}, {'name': 'Colossus', 'num_units': 2, 'style': 3, 'tier_current': 1, 'tier_total': 1}, {'name': 'Mutant', 'num_units': 7, 'style': 4, 'tier_current': 3, 'tier_total': 3}, {'name': 'Scholar', 'num_units': 1, 'style': 0, 'tier_current': 0, 'tier_total': 3}, {'name': 'Socialite', 'num_units': 1, 'style': 1, 'tier_current': 1, 'tier_total': 4}, {'name': 'Striker', 'num_units': 1, 'style': 0, 'tier_current': 0, 'tier_total': 3}, {'name': 'Syndicate', 'num_units': 1, 'style': 0, 'tier_current': 0, 'tier_total': 3}]",
         "units": "[{'character_id': 'Kassadin', 'items': [], 'name': 'Kassadin', 'rarity': 0, 'tier': 2}, {'character_id': 'RekSai', 'items': [], 'name': 'RekSai', 'rarity': 1, 'tier': 2}, {'character_id': 'Malzahar', 'items': ['Blue Buff', \"Rabadon's Deathcap\", 'Morellonomicon'], 'name': '', 'rarity': 2, 'tier': 2}, {'character_id': 'ChoGath', 'items': [\"Titan's Resolve\", 'Arcanist Emblem', \"Dragon's Claw\"], 'name': '', 'rarity': 2, 'tier': 3}, {'character_id': 'KhaZix', 'items': [], 'name': 'Khazix', 'rarity': 3, 'tier': 2}, {'character_id': 'Ahri', 'items': ['Mutant Emblem', 'Quicksilver', 'Jeweled Gauntlet'], 'name': '', 'rarity': 3, 'tier': 2}, {'character_id': 'Galio', 'items': ['Frozen Heart'], 'name': '', 'rarity': 4, 'tier': 2}, {'character_id': 'Kaisa', 'items': ['Arcanist Emblem'], 'name': '', 'rarity': 4, 'tier': 1}]",
         "Match ID": "NA1_4247681350",
         "_deepnote_index_column": "3"
        },
        {
         "augments": "['Phalanx1', 'ArcanistSpellBlade', 'ExperimentalEmblem2']",
         "level": "9",
         "placement": 4,
         "traits": "[{'name': 'Arcanist', 'num_units': 2, 'style': 1, 'tier_current': 1, 'tier_total': 4}, {'name': 'Bruiser', 'num_units': 3, 'style': 1, 'tier_current': 1, 'tier_total': 4}, {'name': 'Challenger', 'num_units': 2, 'style': 1, 'tier_current': 1, 'tier_total': 4}, {'name': 'Chemtech', 'num_units': 1, 'style': 0, 'tier_current': 0, 'tier_total': 4}, {'name': 'Colossus', 'num_units': 2, 'style': 3, 'tier_current': 1, 'tier_total': 1}, {'name': 'Hextech', 'num_units': 1, 'style': 0, 'tier_current': 0, 'tier_total': 4}, {'name': 'Mutant', 'num_units': 7, 'style': 4, 'tier_current': 3, 'tier_total': 3}, {'name': 'Striker', 'num_units': 1, 'style': 0, 'tier_current': 0, 'tier_total': 3}, {'name': 'Syndicate', 'num_units': 1, 'style': 0, 'tier_current': 0, 'tier_total': 3}]",
         "units": "[{'character_id': 'RekSai', 'items': [], 'name': 'RekSai', 'rarity': 1, 'tier': 2}, {'character_id': 'Malzahar', 'items': ['Blue Buff', 'Morellonomicon', 'Hand Of Justice'], 'name': '', 'rarity': 2, 'tier': 2}, {'character_id': 'Zac', 'items': ['Mutant Emblem'], 'name': '', 'rarity': 2, 'tier': 2}, {'character_id': 'ChoGath', 'items': ['Shroud of Stillness', 'Challenger Emblem'], 'name': '', 'rarity': 2, 'tier': 2}, {'character_id': 'Ahri', 'items': ['Mutant Emblem', \"Banshee's Claw\", 'Hand Of Justice'], 'name': '', 'rarity': 3, 'tier': 2}, {'character_id': 'Alistar', 'items': ['Mutant Emblem'], 'name': '', 'rarity': 3, 'tier': 1}, {'character_id': 'Kaisa', 'items': [\"Zeke's Herald\"], 'name': '', 'rarity': 4, 'tier': 1}]",
         "Match ID": "NA1_4247681350",
         "_deepnote_index_column": "4"
        },
        {
         "augments": "['StrikerTrait', 'ComponentGrabBag', 'CyberneticUplink3']",
         "level": "8",
         "placement": 6,
         "traits": "[{'name': 'Assassin', 'num_units': 1, 'style': 0, 'tier_current': 0, 'tier_total': 3}, {'name': 'Bruiser', 'num_units': 1, 'style': 0, 'tier_current': 0, 'tier_total': 4}, {'name': 'Chemtech', 'num_units': 1, 'style': 0, 'tier_current': 0, 'tier_total': 4}, {'name': 'Clockwork', 'num_units': 1, 'style': 0, 'tier_current': 0, 'tier_total': 3}, {'name': 'Enforcer', 'num_units': 1, 'style': 0, 'tier_current': 0, 'tier_total': 2}, {'name': 'Hextech', 'num_units': 1, 'style': 0, 'tier_current': 0, 'tier_total': 4}, {'name': 'Innovator', 'num_units': 5, 'style': 3, 'tier_current': 2, 'tier_total': 3}, {'name': 'Scrap', 'num_units': 3, 'style': 1, 'tier_current': 1, 'tier_total': 3}, {'name': 'Socialite', 'num_units': 2, 'style': 2, 'tier_current': 2, 'tier_total': 4}, {'name': 'Striker', 'num_units': 3, 'style': 1, 'tier_current': 1, 'tier_total': 3}, {'name': 'Yordle', 'num_units': 1, 'style': 0, 'tier_current': 0, 'tier_total': 2}]",
         "units": "[{'character_id': 'Singed', 'items': [], 'name': '', 'rarity': 0, 'tier': 1}, {'character_id': 'Ezreal', 'items': ['Sparring Gloves'], 'name': '', 'rarity': 0, 'tier': 2}, {'character_id': 'Sejuani', 'items': [\"Warmog's Armor\"], 'name': '', 'rarity': 1, 'tier': 2}, {'character_id': 'Zilean', 'items': [], 'name': '', 'rarity': 1, 'tier': 2}, {'character_id': 'Ekko', 'items': ['Frozen Heart', 'Zephyr', 'Morellonomicon'], 'name': '', 'rarity': 2, 'tier': 2}, {'character_id': 'Gnar', 'items': [], 'name': '', 'rarity': 2, 'tier': 2}, {'character_id': 'Seraphine', 'items': [\"Rabadon's Deathcap\"], 'name': '', 'rarity': 3, 'tier': 2}, {'character_id': 'Irelia', 'items': ['Bloodthirster', \"Runaan's Hurricane\", 'Infinity Edge'], 'name': '', 'rarity': 3, 'tier': 1}]",
         "Match ID": "NA1_4247681350",
         "_deepnote_index_column": "5"
        },
        {
         "augments": "['HeroStandBehindMe', 'TriForce2', 'HighFive']",
         "level": "8",
         "placement": 7,
         "traits": "[{'name': 'Arcanist', 'num_units': 1, 'style': 0, 'tier_current': 0, 'tier_total': 4}, {'name': 'Bodyguard', 'num_units': 2, 'style': 1, 'tier_current': 1, 'tier_total': 4}, {'name': 'Chemtech', 'num_units': 1, 'style': 0, 'tier_current': 0, 'tier_total': 4}, {'name': 'Clockwork', 'num_units': 1, 'style': 0, 'tier_current': 0, 'tier_total': 3}, {'name': 'Enchanter', 'num_units': 3, 'style': 2, 'tier_current': 2, 'tier_total': 4}, {'name': 'Hextech', 'num_units': 1, 'style': 0, 'tier_current': 0, 'tier_total': 4}, {'name': 'Rivals', 'num_units': 1, 'style': 3, 'tier_current': 1, 'tier_total': 1}, {'name': 'Scrap', 'num_units': 2, 'style': 1, 'tier_current': 1, 'tier_total': 3}, {'name': 'Socialite', 'num_units': 1, 'style': 1, 'tier_current': 1, 'tier_total': 4}, {'name': 'Syndicate', 'num_units': 2, 'style': 0, 'tier_current': 0, 'tier_total': 3}, {'name': 'Twinshot', 'num_units': 2, 'style': 1, 'tier_current': 1, 'tier_total': 4}]",
         "units": "[{'character_id': 'Blitzcrank', 'items': ['Bramble Vest'], 'name': '', 'rarity': 1, 'tier': 2}, {'character_id': 'Lucian', 'items': [], 'name': 'Lucian', 'rarity': 2, 'tier': 2}, {'character_id': 'Morgana', 'items': [], 'name': 'Morgana', 'rarity': 2, 'tier': 2}, {'character_id': 'Senna', 'items': [], 'name': '', 'rarity': 2, 'tier': 2}, {'character_id': 'Braum', 'items': ['Bramble Vest', 'Redemption'], 'name': '', 'rarity': 3, 'tier': 2}, {'character_id': 'Orianna', 'items': [], 'name': '', 'rarity': 3, 'tier': 2}, {'character_id': 'Jinx', 'items': ['Last Whisper', 'Infinity Edge', 'Edge of Night'], 'name': '', 'rarity': 4, 'tier': 2}, {'character_id': 'Viktor', 'items': ['Redemption'], 'name': '', 'rarity': 4, 'tier': 2}]",
         "Match ID": "NA1_4247681350",
         "_deepnote_index_column": "6"
        },
        {
         "augments": "['ThrillOfTheHunt1', 'Keepers2', 'Weakspot3']",
         "level": "8",
         "placement": 5,
         "traits": "[{'name': 'Arcanist', 'num_units': 1, 'style': 0, 'tier_current': 0, 'tier_total': 4}, {'name': 'Bruiser', 'num_units': 2, 'style': 1, 'tier_current': 1, 'tier_total': 4}, {'name': 'Colossus', 'num_units': 1, 'style': 0, 'tier_current': 0, 'tier_total': 1}, {'name': 'Enforcer', 'num_units': 2, 'style': 1, 'tier_current': 1, 'tier_total': 2}, {'name': 'Hextech', 'num_units': 6, 'style': 3, 'tier_current': 3, 'tier_total': 4}, {'name': 'Rivals', 'num_units': 1, 'style': 3, 'tier_current': 1, 'tier_total': 1}, {'name': 'Striker', 'num_units': 2, 'style': 1, 'tier_current': 1, 'tier_total': 3}, {'name': 'Twinshot', 'num_units': 1, 'style': 0, 'tier_current': 0, 'tier_total': 4}]",
         "units": "[{'character_id': 'JarvanIV', 'items': [], 'name': '', 'rarity': 0, 'tier': 2}, {'character_id': 'Sejuani', 'items': [], 'name': '', 'rarity': 1, 'tier': 2}, {'character_id': 'Swain', 'items': [], 'name': '', 'rarity': 1, 'tier': 2}, {'character_id': 'Lucian', 'items': ['B.F. Sword'], 'name': 'Lucian', 'rarity': 2, 'tier': 2}, {'character_id': 'Sivir', 'items': ['Infinity Edge', \"Guinsoo's Rageblade\", 'Edge of Night'], 'name': '', 'rarity': 3, 'tier': 2}, {'character_id': 'TFT6b_Vi', 'items': ['Bramble Vest', \"Warmog's Armor\", 'Blue Buff'], 'name': '', 'rarity': 3, 'tier': 2}, {'character_id': 'Alistar', 'items': ['Morellonomicon'], 'name': '', 'rarity': 3, 'tier': 2}]",
         "Match ID": "NA1_4247681350",
         "_deepnote_index_column": "7"
        },
        {
         "augments": "['TargetDummies', 'BruteTrait', 'ComponentGrabBag']",
         "level": "8",
         "placement": 5,
         "traits": "[{'name': 'Arcanist', 'num_units': 1, 'style': 0, 'tier_current': 0, 'tier_total': 4}, {'name': 'Assassin', 'num_units': 2, 'style': 1, 'tier_current': 1, 'tier_total': 3}, {'name': 'Bruiser', 'num_units': 4, 'style': 2, 'tier_current': 2, 'tier_total': 4}, {'name': 'Challenger', 'num_units': 1, 'style': 0, 'tier_current': 0, 'tier_total': 4}, {'name': 'Enforcer', 'num_units': 2, 'style': 1, 'tier_current': 1, 'tier_total': 2}, {'name': 'Hextech', 'num_units': 1, 'style': 0, 'tier_current': 0, 'tier_total': 4}, {'name': 'Innovator', 'num_units': 1, 'style': 0, 'tier_current': 0, 'tier_total': 3}, {'name': 'Mutant', 'num_units': 5, 'style': 3, 'tier_current': 2, 'tier_total': 3}, {'name': 'Rivals', 'num_units': 1, 'style': 3, 'tier_current': 1, 'tier_total': 1}, {'name': 'Scholar', 'num_units': 1, 'style': 0, 'tier_current': 0, 'tier_total': 3}, {'name': 'Scrap', 'num_units': 1, 'style': 0, 'tier_current': 0, 'tier_total': 3}, {'name': 'Striker', 'num_units': 1, 'style': 0, 'tier_curre…",
         "units": "[{'character_id': 'Kassadin', 'items': [\"Zz'Rot Portal\", \"Zz'Rot Portal\"], 'name': 'Kassadin', 'rarity': 0, 'tier': 2}, {'character_id': 'Sejuani', 'items': [], 'name': '', 'rarity': 1, 'tier': 1}, {'character_id': 'RekSai', 'items': [], 'name': 'RekSai', 'rarity': 1, 'tier': 2}, {'character_id': 'Malzahar', 'items': [\"Tactician's Crown\", 'Zephyr'], 'name': '', 'rarity': 2, 'tier': 2}, {'character_id': 'Ekko', 'items': ['Frozen Heart'], 'name': '', 'rarity': 2, 'tier': 2}, {'character_id': 'KhaZix', 'items': ['Bloodthirster', 'Infinity Edge', 'Quicksilver'], 'name': 'Khazix', 'rarity': 3, 'tier': 2}, {'character_id': 'KhaZix', 'items': ['Quicksilver'], 'name': 'Khazix', 'rarity': 3, 'tier': 2}, {'character_id': 'TFT6b_Vi', 'items': ['Shroud of Stillness', 'Ionic Spark', 'Sunfire Cape'], 'name': '', 'rarity': 3, 'tier': 2}, {'character_id': 'Kaisa', 'items': [], 'name': '', 'rarity': 4, 'tier': 1}]",
         "Match ID": "NA1_4242542116",
         "_deepnote_index_column": "8"
        },
        {
         "augments": "['CelestialBlessing1', 'CyberneticShell1', 'ScrapEmblem']",
         "level": "9",
         "placement": 2,
         "traits": "[{'name': 'Assassin', 'num_units': 1, 'style': 0, 'tier_current': 0, 'tier_total': 3}, {'name': 'Bodyguard', 'num_units': 2, 'style': 1, 'tier_current': 1, 'tier_total': 4}, {'name': 'Clockwork', 'num_units': 2, 'style': 1, 'tier_current': 1, 'tier_total': 3}, {'name': 'Enchanter', 'num_units': 1, 'style': 0, 'tier_current': 0, 'tier_total': 4}, {'name': 'Enforcer', 'num_units': 1, 'style': 0, 'tier_current': 0, 'tier_total': 2}, {'name': 'Innovator', 'num_units': 4, 'style': 1, 'tier_current': 1, 'tier_total': 3}, {'name': 'Rivals', 'num_units': 1, 'style': 3, 'tier_current': 1, 'tier_total': 1}, {'name': 'Scrap', 'num_units': 6, 'style': 3, 'tier_current': 3, 'tier_total': 3}, {'name': 'Striker', 'num_units': 1, 'style': 0, 'tier_current': 0, 'tier_total': 3}, {'name': 'Syndicate', 'num_units': 1, 'style': 0, 'tier_current': 0, 'tier_total': 3}, {'name': 'Transformer', 'num_units': 1, 'style': 3, 'tier_current': 1, 'tier_total': 1}, {'name': 'Twinshot', 'num_units': 1, 'style': 0, '…",
         "units": "[{'character_id': 'Ezreal', 'items': [], 'name': '', 'rarity': 0, 'tier': 1}, {'character_id': 'Zilean', 'items': [], 'name': '', 'rarity': 1, 'tier': 1}, {'character_id': 'Blitzcrank', 'items': [\"Giant's Belt\"], 'name': '', 'rarity': 1, 'tier': 2}, {'character_id': 'Ekko', 'items': ['Morellonomicon'], 'name': '', 'rarity': 2, 'tier': 1}, {'character_id': 'Braum', 'items': ['Scrap Emblem', 'Gargoyle Stoneplate'], 'name': '', 'rarity': 3, 'tier': 2}, {'character_id': 'Orianna', 'items': [], 'name': '', 'rarity': 3, 'tier': 2}, {'character_id': 'Irelia', 'items': [], 'name': '', 'rarity': 3, 'tier': 1}, {'character_id': 'Jinx', 'items': [\"Runaan's Hurricane\", \"Rabadon's Deathcap\", \"Giant's Belt\"], 'name': '', 'rarity': 4, 'tier': 2}, {'character_id': 'Jayce', 'items': ['Infinity Edge', 'Jeweled Gauntlet', 'Blue Buff'], 'name': '', 'rarity': 4, 'tier': 2}]",
         "Match ID": "NA1_4242542116",
         "_deepnote_index_column": "9"
        }
       ]
      },
      "text/plain": "                                                augments level  placement  \\\n0          [DebonairTrait, Distancing2, DebonairEmblem2]     7          8   \n1         [AssassinCutthroat, RichGetRicher, Diversify3]     9          3   \n2         [EnchanterTrait, SunfireBoard, TwinshotTrait2]     8          2   \n3      [CalculatedLoss, ExperimentalEmblem, ArcanistE...     9          1   \n4      [Phalanx1, ArcanistSpellBlade, ExperimentalEmb...     9          4   \n...                                                  ...   ...        ...   \n39995    [Disintegrator1, TomeOfTraits1, AssassinEmblem]     9          1   \n39996         [SocialiteDuet, Disintegrator1, Backfoot2]     8          3   \n39997     [ItemGrabBag1, ThrillOfTheHunt1, JeweledLotus]     8          4   \n39998            [Featherweights1, Weakspot, Archangel2]     8          7   \n39999           [Underdogs, ScholarTrait, BinaryAirdrop]     8          8   \n\n                                                  traits  \\\n0      [{'name': 'Assassin', 'num_units': 2, 'style':...   \n1      [{'name': 'Arcanist', 'num_units': 2, 'style':...   \n2      [{'name': 'Bruiser', 'num_units': 2, 'style': ...   \n3      [{'name': 'Arcanist', 'num_units': 4, 'style':...   \n4      [{'name': 'Arcanist', 'num_units': 2, 'style':...   \n...                                                  ...   \n39995  [{'name': 'Assassin', 'num_units': 4, 'style':...   \n39996  [{'name': 'Bodyguard', 'num_units': 1, 'style'...   \n39997  [{'name': 'Assassin', 'num_units': 4, 'style':...   \n39998  [{'name': 'Arcanist', 'num_units': 2, 'style':...   \n39999  [{'name': 'Arcanist', 'num_units': 1, 'style':...   \n\n                                                   units        Match ID  \n0      [{'character_id': 'Talon', 'items': ['Quicksil...  NA1_4247681350  \n1      [{'character_id': 'Kassadin', 'items': [], 'na...  NA1_4247681350  \n2      [{'character_id': 'Sejuani', 'items': [], 'nam...  NA1_4247681350  \n3      [{'character_id': 'Kassadin', 'items': [], 'na...  NA1_4247681350  \n4      [{'character_id': 'RekSai', 'items': [], 'name...  NA1_4247681350  \n...                                                  ...             ...  \n39995  [{'character_id': 'Zilean', 'items': [], 'name...  NA1_4255593521  \n39996  [{'character_id': 'Corki', 'items': [], 'name'...  NA1_4255593521  \n39997  [{'character_id': 'Nocturne', 'items': [], 'na...  NA1_4255593521  \n39998  [{'character_id': 'Poppy', 'items': [], 'name'...  NA1_4255593521  \n39999  [{'character_id': 'Kassadin', 'items': ['Drago...  NA1_4255593521  \n\n[40000 rows x 6 columns]",
      "text/html": "<div>\n<style scoped>\n    .dataframe tbody tr th:only-of-type {\n        vertical-align: middle;\n    }\n\n    .dataframe tbody tr th {\n        vertical-align: top;\n    }\n\n    .dataframe thead th {\n        text-align: right;\n    }\n</style>\n<table border=\"1\" class=\"dataframe\">\n  <thead>\n    <tr style=\"text-align: right;\">\n      <th></th>\n      <th>augments</th>\n      <th>level</th>\n      <th>placement</th>\n      <th>traits</th>\n      <th>units</th>\n      <th>Match ID</th>\n    </tr>\n  </thead>\n  <tbody>\n    <tr>\n      <th>0</th>\n      <td>[DebonairTrait, Distancing2, DebonairEmblem2]</td>\n      <td>7</td>\n      <td>8</td>\n      <td>[{'name': 'Assassin', 'num_units': 2, 'style':...</td>\n      <td>[{'character_id': 'Talon', 'items': ['Quicksil...</td>\n      <td>NA1_4247681350</td>\n    </tr>\n    <tr>\n      <th>1</th>\n      <td>[AssassinCutthroat, RichGetRicher, Diversify3]</td>\n      <td>9</td>\n      <td>3</td>\n      <td>[{'name': 'Arcanist', 'num_units': 2, 'style':...</td>\n      <td>[{'character_id': 'Kassadin', 'items': [], 'na...</td>\n      <td>NA1_4247681350</td>\n    </tr>\n    <tr>\n      <th>2</th>\n      <td>[EnchanterTrait, SunfireBoard, TwinshotTrait2]</td>\n      <td>8</td>\n      <td>2</td>\n      <td>[{'name': 'Bruiser', 'num_units': 2, 'style': ...</td>\n      <td>[{'character_id': 'Sejuani', 'items': [], 'nam...</td>\n      <td>NA1_4247681350</td>\n    </tr>\n    <tr>\n      <th>3</th>\n      <td>[CalculatedLoss, ExperimentalEmblem, ArcanistE...</td>\n      <td>9</td>\n      <td>1</td>\n      <td>[{'name': 'Arcanist', 'num_units': 4, 'style':...</td>\n      <td>[{'character_id': 'Kassadin', 'items': [], 'na...</td>\n      <td>NA1_4247681350</td>\n    </tr>\n    <tr>\n      <th>4</th>\n      <td>[Phalanx1, ArcanistSpellBlade, ExperimentalEmb...</td>\n      <td>9</td>\n      <td>4</td>\n      <td>[{'name': 'Arcanist', 'num_units': 2, 'style':...</td>\n      <td>[{'character_id': 'RekSai', 'items': [], 'name...</td>\n      <td>NA1_4247681350</td>\n    </tr>\n    <tr>\n      <th>...</th>\n      <td>...</td>\n      <td>...</td>\n      <td>...</td>\n      <td>...</td>\n      <td>...</td>\n      <td>...</td>\n    </tr>\n    <tr>\n      <th>39995</th>\n      <td>[Disintegrator1, TomeOfTraits1, AssassinEmblem]</td>\n      <td>9</td>\n      <td>1</td>\n      <td>[{'name': 'Assassin', 'num_units': 4, 'style':...</td>\n      <td>[{'character_id': 'Zilean', 'items': [], 'name...</td>\n      <td>NA1_4255593521</td>\n    </tr>\n    <tr>\n      <th>39996</th>\n      <td>[SocialiteDuet, Disintegrator1, Backfoot2]</td>\n      <td>8</td>\n      <td>3</td>\n      <td>[{'name': 'Bodyguard', 'num_units': 1, 'style'...</td>\n      <td>[{'character_id': 'Corki', 'items': [], 'name'...</td>\n      <td>NA1_4255593521</td>\n    </tr>\n    <tr>\n      <th>39997</th>\n      <td>[ItemGrabBag1, ThrillOfTheHunt1, JeweledLotus]</td>\n      <td>8</td>\n      <td>4</td>\n      <td>[{'name': 'Assassin', 'num_units': 4, 'style':...</td>\n      <td>[{'character_id': 'Nocturne', 'items': [], 'na...</td>\n      <td>NA1_4255593521</td>\n    </tr>\n    <tr>\n      <th>39998</th>\n      <td>[Featherweights1, Weakspot, Archangel2]</td>\n      <td>8</td>\n      <td>7</td>\n      <td>[{'name': 'Arcanist', 'num_units': 2, 'style':...</td>\n      <td>[{'character_id': 'Poppy', 'items': [], 'name'...</td>\n      <td>NA1_4255593521</td>\n    </tr>\n    <tr>\n      <th>39999</th>\n      <td>[Underdogs, ScholarTrait, BinaryAirdrop]</td>\n      <td>8</td>\n      <td>8</td>\n      <td>[{'name': 'Arcanist', 'num_units': 1, 'style':...</td>\n      <td>[{'character_id': 'Kassadin', 'items': ['Drago...</td>\n      <td>NA1_4255593521</td>\n    </tr>\n  </tbody>\n</table>\n<p>40000 rows × 6 columns</p>\n</div>"
     },
     "metadata": {}
    }
   ],
   "execution_count": 9
  },
  {
   "cell_type": "markdown",
   "metadata": {
    "collapsed": false,
    "pycharm": {
     "name": "#%%\n"
    },
    "cell_id": "00011-9ce4d4c4-5d9d-4b7b-8c14-7e11034cc49d",
    "deepnote_to_be_reexecuted": false,
    "source_hash": "3e26e3ed",
    "execution_start": 1652226697112,
    "execution_millis": 2,
    "deepnote_cell_type": "markdown",
    "deepnote_cell_height": 82
   },
   "source": [
    "# <center>Exploratory Data Analysis</center>\n"
   ],
   "execution_count": 26
  },
  {
   "cell_type": "markdown",
   "source": [
    "Scatterplot: Traits vs winrate\n",
    "\n",
    "Scatterplot: augments vs winrate\n",
    "\n",
    "Scatterplot: Items vs winrate\n",
    "\n",
    "Scatterplot: champs/unit vs winrate\n",
    "\n",
    "(remove this later)\n"
   ],
   "metadata": {
    "cell_id": "474326ff0fb949b68c7b06f1515e3eb2",
    "tags": [],
    "deepnote_cell_type": "markdown",
    "deepnote_cell_height": 198
   }
  },
  {
   "cell_type": "code",
   "source": [
    "def data_vs_winrate(data, group, aggregate_funcs):\n",
    "    data[\"wins\"] = np.where(data[\"placement\"] <= 4, 1, 0)\n",
    "    data[\"losses\"] = np.where(data[\"placement\"] >= 5, 1, 0)\n",
    "    data[\"games\"] = 1\n",
    "\n",
    "    data = data.groupby([group]).aggregate(aggregate_funcs)\n",
    "    data[\"winrate\"] = data[\"wins\"] / data[\"games\"]\n",
    "\n",
    "    return data"
   ],
   "metadata": {
    "cell_id": "690feac3e6284209bb22e6c5f11f01c4",
    "tags": [],
    "deepnote_to_be_reexecuted": false,
    "source_hash": "1b383550",
    "execution_start": 1652249008140,
    "execution_millis": 1,
    "deepnote_cell_type": "code",
    "deepnote_cell_height": 225
   },
   "outputs": [],
   "execution_count": 33
  },
  {
   "cell_type": "code",
   "source": [
    "def get_weighted_winrate(data):\n",
    "    weighted_constant = 12.5\n",
    "    numer = data[\"wins\"] + weighted_constant * data['winrate'].mean()\n",
    "    denom = data['games'] + weighted_constant\n",
    "    return numer / denom"
   ],
   "metadata": {
    "cell_id": "3f32e3bfa5c24143a033de8c2d7b31e6",
    "tags": [],
    "deepnote_to_be_reexecuted": false,
    "source_hash": "ffeedc75",
    "execution_start": 1652249010769,
    "execution_millis": 0,
    "deepnote_cell_type": "code",
    "deepnote_cell_height": 153
   },
   "outputs": [],
   "execution_count": 34
  },
  {
   "cell_type": "code",
   "source": [
    "augment_df = df.explode(\"augments\")\n",
    "\n",
    "aggregate_funcs = {'wins': 'sum', 'losses': 'sum', 'games': 'count'}\n",
    "augment_df = data_vs_winrate(augment_df, 'augments', aggregate_funcs)\n",
    "\n",
    "augment_df['weighted_winrate'] = get_weighted_winrate(augment_df)\n",
    "\n",
    "augment_df"
   ],
   "metadata": {
    "cell_id": "7d19562e1591461ea3b8b6a722fbccbd",
    "tags": [],
    "deepnote_to_be_reexecuted": false,
    "source_hash": "507cb5e7",
    "execution_start": 1652249013019,
    "execution_millis": 160,
    "deepnote_table_state": {
     "pageSize": 10,
     "pageIndex": 19,
     "filters": [],
     "sortBy": []
    },
    "deepnote_table_loading": false,
    "deepnote_table_invalid": false,
    "deepnote_cell_type": "code",
    "deepnote_cell_height": 726,
    "deepnote_output_heights": [
     21.1875
    ]
   },
   "outputs": [
    {
     "output_type": "execute_result",
     "execution_count": 48,
     "data": {
      "application/vnd.deepnote.dataframe.v3+json": {
       "column_count": 5,
       "row_count": 212,
       "columns": [
        {
         "name": "wins",
         "dtype": "int64",
         "stats": {
          "unique_count": 169,
          "nan_count": 0,
          "min": "12",
          "max": "1648",
          "histogram": [
           {
            "bin_start": 12,
            "bin_end": 175.6,
            "count": 105
           },
           {
            "bin_start": 175.6,
            "bin_end": 339.2,
            "count": 54
           },
           {
            "bin_start": 339.2,
            "bin_end": 502.79999999999995,
            "count": 17
           },
           {
            "bin_start": 502.79999999999995,
            "bin_end": 666.4,
            "count": 13
           },
           {
            "bin_start": 666.4,
            "bin_end": 830,
            "count": 9
           },
           {
            "bin_start": 830,
            "bin_end": 993.5999999999999,
            "count": 4
           },
           {
            "bin_start": 993.5999999999999,
            "bin_end": 1157.2,
            "count": 5
           },
           {
            "bin_start": 1157.2,
            "bin_end": 1320.8,
            "count": 2
           },
           {
            "bin_start": 1320.8,
            "bin_end": 1484.3999999999999,
            "count": 1
           },
           {
            "bin_start": 1484.3999999999999,
            "bin_end": 1648,
            "count": 2
           }
          ]
         }
        },
        {
         "name": "losses",
         "dtype": "int64",
         "stats": {
          "unique_count": 177,
          "nan_count": 0,
          "min": "19",
          "max": "1508",
          "histogram": [
           {
            "bin_start": 19,
            "bin_end": 167.9,
            "count": 101
           },
           {
            "bin_start": 167.9,
            "bin_end": 316.8,
            "count": 56
           },
           {
            "bin_start": 316.8,
            "bin_end": 465.70000000000005,
            "count": 19
           },
           {
            "bin_start": 465.70000000000005,
            "bin_end": 614.6,
            "count": 9
           },
           {
            "bin_start": 614.6,
            "bin_end": 763.5,
            "count": 9
           },
           {
            "bin_start": 763.5,
            "bin_end": 912.4000000000001,
            "count": 6
           },
           {
            "bin_start": 912.4000000000001,
            "bin_end": 1061.3,
            "count": 7
           },
           {
            "bin_start": 1061.3,
            "bin_end": 1210.2,
            "count": 2
           },
           {
            "bin_start": 1210.2,
            "bin_end": 1359.1000000000001,
            "count": 0
           },
           {
            "bin_start": 1359.1000000000001,
            "bin_end": 1508,
            "count": 3
           }
          ]
         }
        },
        {
         "name": "games",
         "dtype": "int64",
         "stats": {
          "unique_count": 196,
          "nan_count": 0,
          "min": "31",
          "max": "3059",
          "histogram": [
           {
            "bin_start": 31,
            "bin_end": 333.8,
            "count": 101
           },
           {
            "bin_start": 333.8,
            "bin_end": 636.6,
            "count": 57
           },
           {
            "bin_start": 636.6,
            "bin_end": 939.4000000000001,
            "count": 15
           },
           {
            "bin_start": 939.4000000000001,
            "bin_end": 1242.2,
            "count": 12
           },
           {
            "bin_start": 1242.2,
            "bin_end": 1545,
            "count": 9
           },
           {
            "bin_start": 1545,
            "bin_end": 1847.8000000000002,
            "count": 7
           },
           {
            "bin_start": 1847.8000000000002,
            "bin_end": 2150.6,
            "count": 6
           },
           {
            "bin_start": 2150.6,
            "bin_end": 2453.4,
            "count": 2
           },
           {
            "bin_start": 2453.4,
            "bin_end": 2756.2000000000003,
            "count": 0
           },
           {
            "bin_start": 2756.2000000000003,
            "bin_end": 3059,
            "count": 3
           }
          ]
         }
        },
        {
         "name": "winrate",
         "dtype": "float64",
         "stats": {
          "unique_count": 208,
          "nan_count": 0,
          "min": "0.336283185840708",
          "max": "0.7333333333333333",
          "histogram": [
           {
            "bin_start": 0.336283185840708,
            "bin_end": 0.3759882005899705,
            "count": 5
           },
           {
            "bin_start": 0.3759882005899705,
            "bin_end": 0.41569321533923304,
            "count": 11
           },
           {
            "bin_start": 0.41569321533923304,
            "bin_end": 0.45539823008849556,
            "count": 23
           },
           {
            "bin_start": 0.45539823008849556,
            "bin_end": 0.49510324483775814,
            "count": 53
           },
           {
            "bin_start": 0.49510324483775814,
            "bin_end": 0.5348082595870206,
            "count": 63
           },
           {
            "bin_start": 0.5348082595870206,
            "bin_end": 0.5745132743362832,
            "count": 39
           },
           {
            "bin_start": 0.5745132743362832,
            "bin_end": 0.6142182890855457,
            "count": 13
           },
           {
            "bin_start": 0.6142182890855457,
            "bin_end": 0.6539233038348082,
            "count": 2
           },
           {
            "bin_start": 0.6539233038348082,
            "bin_end": 0.6936283185840708,
            "count": 2
           },
           {
            "bin_start": 0.6936283185840708,
            "bin_end": 0.7333333333333333,
            "count": 1
           }
          ]
         }
        },
        {
         "name": "weighted_winrate",
         "dtype": "float64",
         "stats": {
          "unique_count": 212,
          "nan_count": 0,
          "min": "0.3528495362037947",
          "max": "0.7051962614007438",
          "histogram": [
           {
            "bin_start": 0.3528495362037947,
            "bin_end": 0.38808420872348964,
            "count": 4
           },
           {
            "bin_start": 0.38808420872348964,
            "bin_end": 0.4233188812431845,
            "count": 12
           },
           {
            "bin_start": 0.4233188812431845,
            "bin_end": 0.45855355376287943,
            "count": 23
           },
           {
            "bin_start": 0.45855355376287943,
            "bin_end": 0.49378822628257435,
            "count": 49
           },
           {
            "bin_start": 0.49378822628257435,
            "bin_end": 0.5290228988022693,
            "count": 62
           },
           {
            "bin_start": 0.5290228988022693,
            "bin_end": 0.5642575713219642,
            "count": 40
           },
           {
            "bin_start": 0.5642575713219642,
            "bin_end": 0.599492243841659,
            "count": 15
           },
           {
            "bin_start": 0.599492243841659,
            "bin_end": 0.634726916361354,
            "count": 4
           },
           {
            "bin_start": 0.634726916361354,
            "bin_end": 0.6699615888810488,
            "count": 2
           },
           {
            "bin_start": 0.6699615888810488,
            "bin_end": 0.7051962614007438,
            "count": 1
           }
          ]
         }
        },
        {
         "name": "_deepnote_index_column",
         "dtype": "object"
        }
       ],
       "rows": [
        {
         "wins": 66,
         "losses": 24,
         "games": 90,
         "winrate": 0.7333333333333333,
         "weighted_winrate": 0.7051962614007438,
         "_deepnote_index_column": "Traitless3"
        },
        {
         "wins": 991,
         "losses": 1017,
         "games": 2008,
         "winrate": 0.49352589641434264,
         "weighted_winrate": 0.493582091954257,
         "_deepnote_index_column": "TreasureTrove1"
        },
        {
         "wins": 271,
         "losses": 314,
         "games": 585,
         "winrate": 0.46324786324786327,
         "weighted_winrate": 0.4640713251775335,
         "_deepnote_index_column": "TreasureTrove2"
        },
        {
         "wins": 104,
         "losses": 116,
         "games": 220,
         "winrate": 0.4727272727272727,
         "weighted_winrate": 0.47433383567129567,
         "_deepnote_index_column": "TreasureTrove3"
        },
        {
         "wins": 233,
         "losses": 228,
         "games": 461,
         "winrate": 0.5054229934924078,
         "weighted_winrate": 0.5053487155091367,
         "_deepnote_index_column": "TriForce1"
        },
        {
         "wins": 302,
         "losses": 254,
         "games": 556,
         "winrate": 0.5431654676258992,
         "weighted_winrate": 0.5422737322666249,
         "_deepnote_index_column": "TriForce2"
        },
        {
         "wins": 84,
         "losses": 78,
         "games": 162,
         "winrate": 0.5185185185185185,
         "weighted_winrate": 0.5173788927998638,
         "_deepnote_index_column": "TriForce3"
        },
        {
         "wins": 287,
         "losses": 340,
         "games": 627,
         "winrate": 0.45773524720893144,
         "weighted_winrate": 0.45861237966157353,
         "_deepnote_index_column": "TrueTwos"
        },
        {
         "wins": 304,
         "losses": 255,
         "games": 559,
         "winrate": 0.5438282647584973,
         "weighted_winrate": 0.5429267135495648,
         "_deepnote_index_column": "Twins1"
        },
        {
         "wins": 302,
         "losses": 207,
         "games": 509,
         "winrate": 0.593320235756385,
         "weighted_winrate": 0.5911459574181712,
         "_deepnote_index_column": "Twins2"
        }
       ]
      },
      "text/plain": "                      wins  losses  games   winrate  weighted_winrate\naugments                                                             \nArcanistEmblem         349     354    703  0.496444          0.496552\nArcanistEmblem2         88      90    178  0.494382          0.494922\nArcanistRunicShield1   177     200    377  0.469496          0.470559\nArcanistRunicShield2   212     257    469  0.452026          0.453339\nArcanistSpellBlade     253     211    464  0.545259          0.544140\n...                    ...     ...    ...       ...               ...\nWeakspot3              253     193    446  0.567265          0.565502\nWindfall               163     246    409  0.398533          0.401619\nWoodlandCharm           22      32     54  0.407407          0.425303\nWoodlandTrinket        114     117    231  0.493506          0.493974\nYordleSoSmall          116     126    242  0.479339          0.480482\n\n[212 rows x 5 columns]",
      "text/html": "<div>\n<style scoped>\n    .dataframe tbody tr th:only-of-type {\n        vertical-align: middle;\n    }\n\n    .dataframe tbody tr th {\n        vertical-align: top;\n    }\n\n    .dataframe thead th {\n        text-align: right;\n    }\n</style>\n<table border=\"1\" class=\"dataframe\">\n  <thead>\n    <tr style=\"text-align: right;\">\n      <th></th>\n      <th>wins</th>\n      <th>losses</th>\n      <th>games</th>\n      <th>winrate</th>\n      <th>weighted_winrate</th>\n    </tr>\n    <tr>\n      <th>augments</th>\n      <th></th>\n      <th></th>\n      <th></th>\n      <th></th>\n      <th></th>\n    </tr>\n  </thead>\n  <tbody>\n    <tr>\n      <th>ArcanistEmblem</th>\n      <td>349</td>\n      <td>354</td>\n      <td>703</td>\n      <td>0.496444</td>\n      <td>0.496552</td>\n    </tr>\n    <tr>\n      <th>ArcanistEmblem2</th>\n      <td>88</td>\n      <td>90</td>\n      <td>178</td>\n      <td>0.494382</td>\n      <td>0.494922</td>\n    </tr>\n    <tr>\n      <th>ArcanistRunicShield1</th>\n      <td>177</td>\n      <td>200</td>\n      <td>377</td>\n      <td>0.469496</td>\n      <td>0.470559</td>\n    </tr>\n    <tr>\n      <th>ArcanistRunicShield2</th>\n      <td>212</td>\n      <td>257</td>\n      <td>469</td>\n      <td>0.452026</td>\n      <td>0.453339</td>\n    </tr>\n    <tr>\n      <th>ArcanistSpellBlade</th>\n      <td>253</td>\n      <td>211</td>\n      <td>464</td>\n      <td>0.545259</td>\n      <td>0.544140</td>\n    </tr>\n    <tr>\n      <th>...</th>\n      <td>...</td>\n      <td>...</td>\n      <td>...</td>\n      <td>...</td>\n      <td>...</td>\n    </tr>\n    <tr>\n      <th>Weakspot3</th>\n      <td>253</td>\n      <td>193</td>\n      <td>446</td>\n      <td>0.567265</td>\n      <td>0.565502</td>\n    </tr>\n    <tr>\n      <th>Windfall</th>\n      <td>163</td>\n      <td>246</td>\n      <td>409</td>\n      <td>0.398533</td>\n      <td>0.401619</td>\n    </tr>\n    <tr>\n      <th>WoodlandCharm</th>\n      <td>22</td>\n      <td>32</td>\n      <td>54</td>\n      <td>0.407407</td>\n      <td>0.425303</td>\n    </tr>\n    <tr>\n      <th>WoodlandTrinket</th>\n      <td>114</td>\n      <td>117</td>\n      <td>231</td>\n      <td>0.493506</td>\n      <td>0.493974</td>\n    </tr>\n    <tr>\n      <th>YordleSoSmall</th>\n      <td>116</td>\n      <td>126</td>\n      <td>242</td>\n      <td>0.479339</td>\n      <td>0.480482</td>\n    </tr>\n  </tbody>\n</table>\n<p>212 rows × 5 columns</p>\n</div>"
     },
     "metadata": {}
    }
   ],
   "execution_count": 35
  },
  {
   "cell_type": "code",
   "source": [
    "for augment in augment_df.index:\n",
    "    print(f'\"{augment}\": \"Gold\",')"
   ],
   "metadata": {
    "cell_id": "404ed3a2726949df851d9d41759ab8e2",
    "tags": [],
    "owner_user_id": "503ecff8-d6de-46e6-b804-4c8548429118",
    "deepnote_to_be_reexecuted": false,
    "source_hash": "582c9afa",
    "execution_start": 1652251769422,
    "execution_millis": 3,
    "deepnote_cell_type": "code",
    "deepnote_cell_height": 719
   },
   "outputs": [
    {
     "name": "stdout",
     "text": "\"ArcanistEmblem\": \"Gold\",\n\"ArcanistEmblem2\": \"Gold\",\n\"ArcanistRunicShield1\": \"Gold\",\n\"ArcanistRunicShield2\": \"Gold\",\n\"ArcanistSpellBlade\": \"Gold\",\n\"ArcanistTrait\": \"Gold\",\n\"Archangel2\": \"Gold\",\n\"Ascension\": \"Gold\",\n\"AssassinCutthroat\": \"Gold\",\n\"AssassinEmblem\": \"Gold\",\n\"AssassinEmblem2\": \"Gold\",\n\"AssassinSmokeBomb\": \"Gold\",\n\"AssassinTrait\": \"Gold\",\n\"Backfoot1\": \"Gold\",\n\"Backfoot2\": \"Gold\",\n\"Backfoot3\": \"Gold\",\n\"BandOfThieves1\": \"Gold\",\n\"Battlemage1\": \"Gold\",\n\"Battlemage2\": \"Gold\",\n\"Battlemage3\": \"Gold\",\n\"BinaryAirdrop\": \"Gold\",\n\"BlueBattery1\": \"Gold\",\n\"BlueBattery2\": \"Gold\",\n\"BrawlerHPRegen1\": \"Gold\",\n\"BruteEmblem\": \"Gold\",\n\"BruteEmblem2\": \"Gold\",\n\"BruteTrait\": \"Gold\",\n\"CalculatedLoss\": \"Gold\",\n\"CelestialBlessing1\": \"Gold\",\n\"CelestialBlessing2\": \"Gold\",\n\"CelestialBlessing3\": \"Gold\",\n\"ChallengerEmblem\": \"Gold\",\n\"ChallengerEmblem2\": \"Gold\",\n\"ChallengerEnGarde\": \"Gold\",\n\"ChallengerForAllUnits\": \"Gold\",\n\"ChallengerTrait\": \"Gold\",\n\"ChemtechEmblem\": \"Gold\",\n\"ChemtechEmblem2\": \"Gold\",\n\"ChemtechForAllUnits\": \"Gold\",\n\"ChemtechInjection\": \"Gold\",\n\"ChemtechOverload1\": \"Gold\",\n\"ChemtechOverload2\": \"Gold\",\n\"ChemtechTrait\": \"Gold\",\n\"ClearMind\": \"Gold\",\n\"ClockworkBrokenStopwatch\": \"Gold\",\n\"ClockworkTrait\": \"Gold\",\n\"ClockworkTrait2\": \"Gold\",\n\"ColossusArmorPlating\": \"Gold\",\n\"ComponentGrabBag\": \"Gold\",\n\"CyberneticImplants1\": \"Gold\",\n\"CyberneticImplants2\": \"Gold\",\n\"CyberneticImplants3\": \"Gold\",\n\"CyberneticShell1\": \"Gold\",\n\"CyberneticShell2\": \"Gold\",\n\"CyberneticShell3\": \"Gold\",\n\"CyberneticUplink1\": \"Gold\",\n\"CyberneticUplink2\": \"Gold\",\n\"CyberneticUplink3\": \"Gold\",\n\"DebonairEmblem\": \"Gold\",\n\"DebonairEmblem2\": \"Gold\",\n\"DebonairIrresistible\": \"Gold\",\n\"DebonairTrait\": \"Gold\",\n\"DebonairVVIP\": \"Gold\",\n\"Disintegrator1\": \"Gold\",\n\"Disintegrator2\": \"Gold\",\n\"Disintegrator3\": \"Gold\",\n\"Distancing\": \"Gold\",\n\"Distancing2\": \"Gold\",\n\"Distancing3\": \"Gold\",\n\"Diversify1\": \"Gold\",\n\"Diversify2\": \"Gold\",\n\"Diversify3\": \"Gold\",\n\"Dominance\": \"Gold\",\n\"Electrocharge1\": \"Gold\",\n\"Electrocharge2\": \"Gold\",\n\"Electrocharge3\": \"Gold\",\n\"EnchanterArdentCenser\": \"Gold\",\n\"EnchanterTrait\": \"Gold\",\n\"EnchanterTrait2\": \"Gold\",\n\"EnforcerSwiftJustice\": \"Gold\",\n\"EnforcerTrait\": \"Gold\",\n\"ExperimentalEmblem\": \"Gold\",\n\"ExperimentalEmblem2\": \"Gold\",\n\"ExperimentalTrait\": \"Gold\",\n\"Featherweights1\": \"Gold\",\n\"Featherweights2\": \"Gold\",\n\"Featherweights3\": \"Gold\",\n\"FirstAidKit\": \"Gold\",\n\"ForceOfNature\": \"Gold\",\n\"FourScore\": \"Gold\",\n\"FuturePeepers\": \"Gold\",\n\"FuturePeepers2\": \"Gold\",\n\"GachaAddict\": \"Gold\",\n\"GoldenGifts1\": \"Gold\",\n\"GoldenGifts2\": \"Gold\",\n\"GrandGambler\": \"Gold\",\n\"HeroEmblem\": \"Gold\",\n\"HeroEmblem2\": \"Gold\",\n\"HeroStandBehindMe\": \"Gold\",\n\"HeroTrait\": \"Gold\",\n\"HextechEmblem\": \"Gold\",\n\"HextechEmblem2\": \"Gold\",\n\"HextechForAllUnits\": \"Gold\",\n\"HextechHexnova\": \"Gold\",\n\"HextechStoredPower\": \"Gold\",\n\"HextechTrait\": \"Gold\",\n\"HighEndShopping\": \"Gold\",\n\"HighFive\": \"Gold\",\n\"HyperRoll\": \"Gold\",\n\"InnovatorSelfRepair\": \"Gold\",\n\"InnovatorTrait\": \"Gold\",\n\"InnovatorTrait2\": \"Gold\",\n\"ItemGrabBag1\": \"Gold\",\n\"ItemGrabBag2\": \"Gold\",\n\"JeweledLotus\": \"Gold\",\n\"Keepers1\": \"Gold\",\n\"Keepers2\": \"Gold\",\n\"LudensEcho1\": \"Gold\",\n\"LudensEcho2\": \"Gold\",\n\"LudensEcho3\": \"Gold\",\n\"MakeshiftArmor1\": \"Gold\",\n\"MakeshiftArmor2\": \"Gold\",\n\"MakeshiftArmor3\": \"Gold\",\n\"MaxLevel10\": \"Gold\",\n\"Meditation1\": \"Gold\",\n\"Meditation2\": \"Gold\",\n\"Meditation3\": \"Gold\",\n\"MeleeStarBlade1\": \"Gold\",\n\"MeleeStarBlade2\": \"Gold\",\n\"MeleeStarBlade3\": \"Gold\",\n\"MercenaryEmblem\": \"Gold\",\n\"MercenaryGoldReserves\": \"Gold\",\n\"MercenaryPirates\": \"Gold\",\n\"MercenaryTrait\": \"Gold\",\n\"MercenaryTrait2\": \"Gold\",\n\"MetabolicAccelerator\": \"Gold\",\n\"MutantUnstableEvolution\": \"Gold\",\n\"PandorasItems\": \"Gold\",\n\"Phalanx1\": \"Gold\",\n\"Phalanx2\": \"Gold\",\n\"Phalanx3\": \"Gold\",\n\"PortableForge\": \"Gold\",\n\"RadiantRelics\": \"Gold\",\n\"Recombobulator\": \"Gold\",\n\"RichGetRicher\": \"Gold\",\n\"SalvageBin\": \"Gold\",\n\"ScholarEmblem\": \"Gold\",\n\"ScholarLearning\": \"Gold\",\n\"ScholarTrait\": \"Gold\",\n\"ScholarTrait2\": \"Gold\",\n\"ScrapDumpsterDiving\": \"Gold\",\n\"ScrapEmblem\": \"Gold\",\n\"ScrapTrait\": \"Gold\",\n\"ScrapTrait2\": \"Gold\",\n\"SecondWind1\": \"Gold\",\n\"SecondWind2\": \"Gold\",\n\"SlowAndSteady\": \"Gold\",\n\"SniperEmblem\": \"Gold\",\n\"SniperEmblem2\": \"Gold\",\n\"SniperNest\": \"Gold\",\n\"SniperSharpshooter\": \"Gold\",\n\"SniperTrait\": \"Gold\",\n\"SocialiteDuet\": \"Gold\",\n\"SocialiteShare\": \"Gold\",\n\"SocialiteTrait\": \"Gold\",\n\"SocialiteTrait2\": \"Gold\",\n\"StrikerConcussiveBlows\": \"Gold\",\n\"StrikerEmblem\": \"Gold\",\n\"StrikerEmblem2\": \"Gold\",\n\"StrikerOverpower\": \"Gold\",\n\"StrikerTrait\": \"Gold\",\n\"SunfireBoard\": \"Gold\",\n\"SyndicateEmblem\": \"Gold\",\n\"SyndicateEmblem2\": \"Gold\",\n\"SyndicateOneForAll\": \"Gold\",\n\"SyndicatePayday\": \"Gold\",\n\"SyndicateTrait\": \"Gold\",\n\"TargetDummies\": \"Gold\",\n\"TheGoldenEgg\": \"Gold\",\n\"ThievingRascals\": \"Gold\",\n\"ThreesCompany\": \"Gold\",\n\"ThriftShop\": \"Gold\",\n\"ThrillOfTheHunt1\": \"Gold\",\n\"ThrillOfTheHunt2\": \"Gold\",\n\"TinyTitans\": \"Gold\",\n\"TitanicForce\": \"Gold\",\n\"TomeOfTraits1\": \"Gold\",\n\"TradeSector\": \"Gold\",\n\"Traitless1\": \"Gold\",\n\"Traitless2\": \"Gold\",\n\"Traitless3\": \"Gold\",\n\"TreasureTrove1\": \"Gold\",\n\"TreasureTrove2\": \"Gold\",\n\"TreasureTrove3\": \"Gold\",\n\"TriForce1\": \"Gold\",\n\"TriForce2\": \"Gold\",\n\"TriForce3\": \"Gold\",\n\"TrueTwos\": \"Gold\",\n\"Twins1\": \"Gold\",\n\"Twins2\": \"Gold\",\n\"Twins3\": \"Gold\",\n\"TwinshotTrait\": \"Gold\",\n\"TwinshotTrait2\": \"Gold\",\n\"Underdogs\": \"Gold\",\n\"VerdantVeil\": \"Gold\",\n\"Weakspot\": \"Gold\",\n\"Weakspot2\": \"Gold\",\n\"Weakspot3\": \"Gold\",\n\"Windfall\": \"Gold\",\n\"WoodlandCharm\": \"Gold\",\n\"WoodlandTrinket\": \"Gold\",\n\"YordleSoSmall\": \"Gold\",\n",
     "output_type": "stream"
    }
   ],
   "execution_count": 47
  },
  {
   "cell_type": "code",
   "source": [
    "trait_df = df.explode(\"traits\")\n",
    "\n",
    "trait_df[\"traits\"] = trait_df[\"traits\"].apply(lambda x: (x.get('name') + str(x.get('tier_current'))) if type(x) is dict else np.nan)\n",
    "trait_df = trait_df.dropna(subset=['traits'])\n",
    "\n",
    "trait_df = data_vs_winrate(trait_df, 'traits', aggregate_funcs)\n",
    "trait_df['weighted_winrate'] = get_weighted_winrate(trait_df)\n",
    "\n",
    "trait_df"
   ],
   "metadata": {
    "cell_id": "bb24b9de3ada430d9e1e2907d267d904",
    "tags": [],
    "deepnote_to_be_reexecuted": false,
    "source_hash": "7da18680",
    "execution_start": 1652249016167,
    "execution_millis": 877,
    "deepnote_table_state": {
     "pageSize": 10,
     "pageIndex": 0,
     "filters": [],
     "sortBy": [
      {
       "id": "weighted_winrate",
       "type": "desc"
      }
     ]
    },
    "deepnote_table_loading": false,
    "deepnote_table_invalid": false,
    "deepnote_cell_type": "code",
    "deepnote_cell_height": 776,
    "deepnote_output_heights": [
     382.1875
    ]
   },
   "outputs": [
    {
     "output_type": "execute_result",
     "execution_count": 36,
     "data": {
      "application/vnd.deepnote.dataframe.v3+json": {
       "column_count": 5,
       "row_count": 102,
       "columns": [
        {
         "name": "wins",
         "dtype": "int64",
         "stats": {
          "unique_count": 102,
          "nan_count": 0,
          "min": "8",
          "max": "9462",
          "histogram": [
           {
            "bin_start": 8,
            "bin_end": 953.4,
            "count": 50
           },
           {
            "bin_start": 953.4,
            "bin_end": 1898.8,
            "count": 11
           },
           {
            "bin_start": 1898.8,
            "bin_end": 2844.2,
            "count": 11
           },
           {
            "bin_start": 2844.2,
            "bin_end": 3789.6,
            "count": 9
           },
           {
            "bin_start": 3789.6,
            "bin_end": 4735,
            "count": 3
           },
           {
            "bin_start": 4735,
            "bin_end": 5680.4,
            "count": 6
           },
           {
            "bin_start": 5680.4,
            "bin_end": 6625.8,
            "count": 7
           },
           {
            "bin_start": 6625.8,
            "bin_end": 7571.2,
            "count": 3
           },
           {
            "bin_start": 7571.2,
            "bin_end": 8516.6,
            "count": 1
           },
           {
            "bin_start": 8516.6,
            "bin_end": 9462,
            "count": 1
           }
          ]
         }
        },
        {
         "name": "losses",
         "dtype": "int64",
         "stats": {
          "unique_count": 100,
          "nan_count": 0,
          "min": "4",
          "max": "7813",
          "histogram": [
           {
            "bin_start": 4,
            "bin_end": 784.9,
            "count": 44
           },
           {
            "bin_start": 784.9,
            "bin_end": 1565.8,
            "count": 13
           },
           {
            "bin_start": 1565.8,
            "bin_end": 2346.7,
            "count": 12
           },
           {
            "bin_start": 2346.7,
            "bin_end": 3127.6,
            "count": 8
           },
           {
            "bin_start": 3127.6,
            "bin_end": 3908.5,
            "count": 7
           },
           {
            "bin_start": 3908.5,
            "bin_end": 4689.4,
            "count": 3
           },
           {
            "bin_start": 4689.4,
            "bin_end": 5470.3,
            "count": 7
           },
           {
            "bin_start": 5470.3,
            "bin_end": 6251.2,
            "count": 2
           },
           {
            "bin_start": 6251.2,
            "bin_end": 7032.099999999999,
            "count": 4
           },
           {
            "bin_start": 7032.099999999999,
            "bin_end": 7813,
            "count": 2
           }
          ]
         }
        },
        {
         "name": "games",
         "dtype": "int64",
         "stats": {
          "unique_count": 102,
          "nan_count": 0,
          "min": "16",
          "max": "16591",
          "histogram": [
           {
            "bin_start": 16,
            "bin_end": 1673.5,
            "count": 45
           },
           {
            "bin_start": 1673.5,
            "bin_end": 3331,
            "count": 13
           },
           {
            "bin_start": 3331,
            "bin_end": 4988.5,
            "count": 11
           },
           {
            "bin_start": 4988.5,
            "bin_end": 6646,
            "count": 7
           },
           {
            "bin_start": 6646,
            "bin_end": 8303.5,
            "count": 8
           },
           {
            "bin_start": 8303.5,
            "bin_end": 9961,
            "count": 1
           },
           {
            "bin_start": 9961,
            "bin_end": 11618.5,
            "count": 9
           },
           {
            "bin_start": 11618.5,
            "bin_end": 13276,
            "count": 4
           },
           {
            "bin_start": 13276,
            "bin_end": 14933.5,
            "count": 2
           },
           {
            "bin_start": 14933.5,
            "bin_end": 16591,
            "count": 2
           }
          ]
         }
        },
        {
         "name": "winrate",
         "dtype": "float64",
         "stats": {
          "unique_count": 102,
          "nan_count": 0,
          "min": "0.2177121771217712",
          "max": "0.8492063492063492",
          "histogram": [
           {
            "bin_start": 0.2177121771217712,
            "bin_end": 0.280861594330229,
            "count": 1
           },
           {
            "bin_start": 0.280861594330229,
            "bin_end": 0.3440110115386868,
            "count": 0
           },
           {
            "bin_start": 0.3440110115386868,
            "bin_end": 0.4071604287471446,
            "count": 2
           },
           {
            "bin_start": 0.4071604287471446,
            "bin_end": 0.4703098459556024,
            "count": 11
           },
           {
            "bin_start": 0.4703098459556024,
            "bin_end": 0.5334592631640602,
            "count": 40
           },
           {
            "bin_start": 0.5334592631640602,
            "bin_end": 0.5966086803725179,
            "count": 24
           },
           {
            "bin_start": 0.5966086803725179,
            "bin_end": 0.6597580975809758,
            "count": 12
           },
           {
            "bin_start": 0.6597580975809758,
            "bin_end": 0.7229075147894335,
            "count": 6
           },
           {
            "bin_start": 0.7229075147894335,
            "bin_end": 0.7860569319978914,
            "count": 4
           },
           {
            "bin_start": 0.7860569319978914,
            "bin_end": 0.8492063492063492,
            "count": 2
           }
          ]
         }
        },
        {
         "name": "weighted_winrate",
         "dtype": "float64",
         "stats": {
          "unique_count": 102,
          "nan_count": 0,
          "min": "0.2250792969015358",
          "max": "0.8217073655732968",
          "histogram": [
           {
            "bin_start": 0.2250792969015358,
            "bin_end": 0.2847421037687119,
            "count": 1
           },
           {
            "bin_start": 0.2847421037687119,
            "bin_end": 0.344404910635888,
            "count": 0
           },
           {
            "bin_start": 0.344404910635888,
            "bin_end": 0.40406771750306414,
            "count": 2
           },
           {
            "bin_start": 0.40406771750306414,
            "bin_end": 0.4637305243702402,
            "count": 9
           },
           {
            "bin_start": 0.4637305243702402,
            "bin_end": 0.5233933312374163,
            "count": 37
           },
           {
            "bin_start": 0.5233933312374163,
            "bin_end": 0.5830561381045924,
            "count": 26
           },
           {
            "bin_start": 0.5830561381045924,
            "bin_end": 0.6427189449717685,
            "count": 12
           },
           {
            "bin_start": 0.6427189449717685,
            "bin_end": 0.7023817518389446,
            "count": 9
           },
           {
            "bin_start": 0.7023817518389446,
            "bin_end": 0.7620445587061208,
            "count": 5
           },
           {
            "bin_start": 0.7620445587061208,
            "bin_end": 0.8217073655732968,
            "count": 1
           }
          ]
         }
        },
        {
         "name": "_deepnote_index_column",
         "dtype": "object"
        }
       ],
       "rows": [
        {
         "wins": 107,
         "losses": 19,
         "games": 126,
         "winrate": 0.8492063492063492,
         "weighted_winrate": 0.8217073655732968,
         "_deepnote_index_column": "YordleLord1"
        },
        {
         "wins": 462,
         "losses": 164,
         "games": 626,
         "winrate": 0.7380191693290735,
         "weighted_winrate": 0.7342309634015687,
         "_deepnote_index_column": "Innovator3"
        },
        {
         "wins": 18,
         "losses": 4,
         "games": 22,
         "winrate": 0.8181818181818182,
         "weighted_winrate": 0.7190281197652639,
         "_deepnote_index_column": "Chemtech4"
        },
        {
         "wins": 90,
         "losses": 33,
         "games": 123,
         "winrate": 0.7317073170731707,
         "weighted_winrate": 0.7144388939623735,
         "_deepnote_index_column": "Sniper3"
        },
        {
         "wins": 32,
         "losses": 10,
         "games": 42,
         "winrate": 0.7619047619047619,
         "weighted_winrate": 0.7120453235211304,
         "_deepnote_index_column": "Bruiser4"
        },
        {
         "wins": 292,
         "losses": 118,
         "games": 410,
         "winrate": 0.7121951219512195,
         "weighted_winrate": 0.7072342488329032,
         "_deepnote_index_column": "Hextech4"
        },
        {
         "wins": 422,
         "losses": 183,
         "games": 605,
         "winrate": 0.6975206611570248,
         "weighted_winrate": 0.6944234334119864,
         "_deepnote_index_column": "Mutant3"
        },
        {
         "wins": 51,
         "losses": 21,
         "games": 72,
         "winrate": 0.7083333333333334,
         "weighted_winrate": 0.6841002382473563,
         "_deepnote_index_column": "Challenger4"
        },
        {
         "wins": 249,
         "losses": 115,
         "games": 364,
         "winrate": 0.6840659340659341,
         "weighted_winrate": 0.6794328555960203,
         "_deepnote_index_column": "Debonair3"
        },
        {
         "wins": 94,
         "losses": 45,
         "games": 139,
         "winrate": 0.6762589928057554,
         "weighted_winrate": 0.66538924179473,
         "_deepnote_index_column": "Assassin3"
        }
       ]
      },
      "text/plain": "             wins  losses  games   winrate  weighted_winrate\ntraits                                                      \nArcanist0    3354    3396   6750  0.496889          0.496977\nArcanist1    2517    2226   4743  0.530677          0.530713\nArcanist2     774    1053   1827  0.423645          0.424467\nArcanist3    1038    1156   2194  0.473108          0.473513\nArcanist4     527     283    810  0.650617          0.649005\n...           ...     ...    ...       ...               ...\nTwinshot4     185      96    281  0.658363          0.653514\nYordle0      6873    6972  13845  0.496425          0.496468\nYordle1       775    1213   1988  0.389839          0.390806\nYordle2       240     331    571  0.420315          0.422976\nYordleLord1   107      19    126  0.849206          0.821707\n\n[102 rows x 5 columns]",
      "text/html": "<div>\n<style scoped>\n    .dataframe tbody tr th:only-of-type {\n        vertical-align: middle;\n    }\n\n    .dataframe tbody tr th {\n        vertical-align: top;\n    }\n\n    .dataframe thead th {\n        text-align: right;\n    }\n</style>\n<table border=\"1\" class=\"dataframe\">\n  <thead>\n    <tr style=\"text-align: right;\">\n      <th></th>\n      <th>wins</th>\n      <th>losses</th>\n      <th>games</th>\n      <th>winrate</th>\n      <th>weighted_winrate</th>\n    </tr>\n    <tr>\n      <th>traits</th>\n      <th></th>\n      <th></th>\n      <th></th>\n      <th></th>\n      <th></th>\n    </tr>\n  </thead>\n  <tbody>\n    <tr>\n      <th>Arcanist0</th>\n      <td>3354</td>\n      <td>3396</td>\n      <td>6750</td>\n      <td>0.496889</td>\n      <td>0.496977</td>\n    </tr>\n    <tr>\n      <th>Arcanist1</th>\n      <td>2517</td>\n      <td>2226</td>\n      <td>4743</td>\n      <td>0.530677</td>\n      <td>0.530713</td>\n    </tr>\n    <tr>\n      <th>Arcanist2</th>\n      <td>774</td>\n      <td>1053</td>\n      <td>1827</td>\n      <td>0.423645</td>\n      <td>0.424467</td>\n    </tr>\n    <tr>\n      <th>Arcanist3</th>\n      <td>1038</td>\n      <td>1156</td>\n      <td>2194</td>\n      <td>0.473108</td>\n      <td>0.473513</td>\n    </tr>\n    <tr>\n      <th>Arcanist4</th>\n      <td>527</td>\n      <td>283</td>\n      <td>810</td>\n      <td>0.650617</td>\n      <td>0.649005</td>\n    </tr>\n    <tr>\n      <th>...</th>\n      <td>...</td>\n      <td>...</td>\n      <td>...</td>\n      <td>...</td>\n      <td>...</td>\n    </tr>\n    <tr>\n      <th>Twinshot4</th>\n      <td>185</td>\n      <td>96</td>\n      <td>281</td>\n      <td>0.658363</td>\n      <td>0.653514</td>\n    </tr>\n    <tr>\n      <th>Yordle0</th>\n      <td>6873</td>\n      <td>6972</td>\n      <td>13845</td>\n      <td>0.496425</td>\n      <td>0.496468</td>\n    </tr>\n    <tr>\n      <th>Yordle1</th>\n      <td>775</td>\n      <td>1213</td>\n      <td>1988</td>\n      <td>0.389839</td>\n      <td>0.390806</td>\n    </tr>\n    <tr>\n      <th>Yordle2</th>\n      <td>240</td>\n      <td>331</td>\n      <td>571</td>\n      <td>0.420315</td>\n      <td>0.422976</td>\n    </tr>\n    <tr>\n      <th>YordleLord1</th>\n      <td>107</td>\n      <td>19</td>\n      <td>126</td>\n      <td>0.849206</td>\n      <td>0.821707</td>\n    </tr>\n  </tbody>\n</table>\n<p>102 rows × 5 columns</p>\n</div>"
     },
     "metadata": {}
    }
   ],
   "execution_count": 36
  },
  {
   "cell_type": "code",
   "source": [
    "unit_df = df.explode(\"units\")\n",
    "\n",
    "unit_df[\"cost\"] = unit_df[\"units\"].apply(lambda x: x.get('rarity') + 1 if type(x) is dict else x)\n",
    "unit_df[\"units\"] = unit_df[\"units\"].apply(lambda x: x.get('character_id') if type(x) is dict else x)\n",
    "\n",
    "unit_aggregate_functions = {'wins': 'sum', 'losses': 'sum', 'games': 'count', 'cost': 'max'}\n",
    "unit_df = data_vs_winrate(unit_df, 'units', unit_aggregate_functions)\n",
    "\n",
    "unit_df['weighted_winrate'] = get_weighted_winrate(unit_df)\n",
    "\n",
    "unit_df"
   ],
   "metadata": {
    "cell_id": "7e32f54b0e1d47a69ef7b9a79243d034",
    "tags": [],
    "deepnote_to_be_reexecuted": false,
    "source_hash": "bd7f1ebb",
    "execution_start": 1652249019278,
    "execution_millis": 805,
    "deepnote_table_state": {
     "pageSize": 10,
     "pageIndex": 0,
     "filters": [],
     "sortBy": [
      {
       "id": "weighted_winrate",
       "type": "desc"
      }
     ]
    },
    "deepnote_table_loading": false,
    "deepnote_cell_type": "code",
    "deepnote_cell_height": 825.59375
   },
   "outputs": [
    {
     "output_type": "execute_result",
     "execution_count": 37,
     "data": {
      "application/vnd.deepnote.dataframe.v3+json": {
       "column_count": 6,
       "row_count": 60,
       "columns": [
        {
         "name": "wins",
         "dtype": "int64",
         "stats": {
          "unique_count": 60,
          "nan_count": 0,
          "min": "114",
          "max": "7293",
          "histogram": [
           {
            "bin_start": 114,
            "bin_end": 831.9,
            "count": 7
           },
           {
            "bin_start": 831.9,
            "bin_end": 1549.8,
            "count": 10
           },
           {
            "bin_start": 1549.8,
            "bin_end": 2267.7,
            "count": 10
           },
           {
            "bin_start": 2267.7,
            "bin_end": 2985.6,
            "count": 9
           },
           {
            "bin_start": 2985.6,
            "bin_end": 3703.5,
            "count": 10
           },
           {
            "bin_start": 3703.5,
            "bin_end": 4421.4,
            "count": 3
           },
           {
            "bin_start": 4421.4,
            "bin_end": 5139.3,
            "count": 5
           },
           {
            "bin_start": 5139.3,
            "bin_end": 5857.2,
            "count": 2
           },
           {
            "bin_start": 5857.2,
            "bin_end": 6575.099999999999,
            "count": 2
           },
           {
            "bin_start": 6575.099999999999,
            "bin_end": 7293,
            "count": 2
           }
          ]
         }
        },
        {
         "name": "losses",
         "dtype": "int64",
         "stats": {
          "unique_count": 60,
          "nan_count": 0,
          "min": "19",
          "max": "6672",
          "histogram": [
           {
            "bin_start": 19,
            "bin_end": 684.3,
            "count": 4
           },
           {
            "bin_start": 684.3,
            "bin_end": 1349.6,
            "count": 9
           },
           {
            "bin_start": 1349.6,
            "bin_end": 2014.8999999999999,
            "count": 14
           },
           {
            "bin_start": 2014.8999999999999,
            "bin_end": 2680.2,
            "count": 8
           },
           {
            "bin_start": 2680.2,
            "bin_end": 3345.5,
            "count": 7
           },
           {
            "bin_start": 3345.5,
            "bin_end": 4010.7999999999997,
            "count": 8
           },
           {
            "bin_start": 4010.7999999999997,
            "bin_end": 4676.099999999999,
            "count": 6
           },
           {
            "bin_start": 4676.099999999999,
            "bin_end": 5341.4,
            "count": 3
           },
           {
            "bin_start": 5341.4,
            "bin_end": 6006.7,
            "count": 0
           },
           {
            "bin_start": 6006.7,
            "bin_end": 6672,
            "count": 1
           }
          ]
         }
        },
        {
         "name": "games",
         "dtype": "int64",
         "stats": {
          "unique_count": 60,
          "nan_count": 0,
          "min": "133",
          "max": "13652",
          "histogram": [
           {
            "bin_start": 133,
            "bin_end": 1484.9,
            "count": 6
           },
           {
            "bin_start": 1484.9,
            "bin_end": 2836.8,
            "count": 10
           },
           {
            "bin_start": 2836.8,
            "bin_end": 4188.700000000001,
            "count": 8
           },
           {
            "bin_start": 4188.700000000001,
            "bin_end": 5540.6,
            "count": 11
           },
           {
            "bin_start": 5540.6,
            "bin_end": 6892.5,
            "count": 8
           },
           {
            "bin_start": 6892.5,
            "bin_end": 8244.400000000001,
            "count": 5
           },
           {
            "bin_start": 8244.400000000001,
            "bin_end": 9596.300000000001,
            "count": 7
           },
           {
            "bin_start": 9596.300000000001,
            "bin_end": 10948.2,
            "count": 1
           },
           {
            "bin_start": 10948.2,
            "bin_end": 12300.1,
            "count": 3
           },
           {
            "bin_start": 12300.1,
            "bin_end": 13652,
            "count": 1
           }
          ]
         }
        },
        {
         "name": "cost",
         "dtype": "float64",
         "stats": {
          "unique_count": 5,
          "nan_count": 0,
          "min": "1.0",
          "max": "5.0",
          "histogram": [
           {
            "bin_start": 1,
            "bin_end": 1.4,
            "count": 13
           },
           {
            "bin_start": 1.4,
            "bin_end": 1.8,
            "count": 0
           },
           {
            "bin_start": 1.8,
            "bin_end": 2.2,
            "count": 13
           },
           {
            "bin_start": 2.2,
            "bin_end": 2.6,
            "count": 0
           },
           {
            "bin_start": 2.6,
            "bin_end": 3,
            "count": 0
           },
           {
            "bin_start": 3,
            "bin_end": 3.4000000000000004,
            "count": 13
           },
           {
            "bin_start": 3.4000000000000004,
            "bin_end": 3.8000000000000003,
            "count": 0
           },
           {
            "bin_start": 3.8000000000000003,
            "bin_end": 4.2,
            "count": 12
           },
           {
            "bin_start": 4.2,
            "bin_end": 4.6,
            "count": 0
           },
           {
            "bin_start": 4.6,
            "bin_end": 5,
            "count": 9
           }
          ]
         }
        },
        {
         "name": "winrate",
         "dtype": "float64",
         "stats": {
          "unique_count": 60,
          "nan_count": 0,
          "min": "0.31178033658104515",
          "max": "0.8571428571428571",
          "histogram": [
           {
            "bin_start": 0.31178033658104515,
            "bin_end": 0.3663165886372263,
            "count": 1
           },
           {
            "bin_start": 0.3663165886372263,
            "bin_end": 0.42085284069340756,
            "count": 4
           },
           {
            "bin_start": 0.42085284069340756,
            "bin_end": 0.47538909274958874,
            "count": 15
           },
           {
            "bin_start": 0.47538909274958874,
            "bin_end": 0.5299253448057699,
            "count": 24
           },
           {
            "bin_start": 0.5299253448057699,
            "bin_end": 0.5844615968619511,
            "count": 7
           },
           {
            "bin_start": 0.5844615968619511,
            "bin_end": 0.6389978489181323,
            "count": 3
           },
           {
            "bin_start": 0.6389978489181323,
            "bin_end": 0.6935341009743136,
            "count": 5
           },
           {
            "bin_start": 0.6935341009743136,
            "bin_end": 0.7480703530304947,
            "count": 0
           },
           {
            "bin_start": 0.7480703530304947,
            "bin_end": 0.8026066050866759,
            "count": 0
           },
           {
            "bin_start": 0.8026066050866759,
            "bin_end": 0.8571428571428571,
            "count": 1
           }
          ]
         }
        },
        {
         "name": "weighted_winrate",
         "dtype": "float64",
         "stats": {
          "unique_count": 60,
          "nan_count": 0,
          "min": "0.31396251412211434",
          "max": "0.8274103771161065",
          "histogram": [
           {
            "bin_start": 0.31396251412211434,
            "bin_end": 0.36530730042151355,
            "count": 1
           },
           {
            "bin_start": 0.36530730042151355,
            "bin_end": 0.4166520867209128,
            "count": 3
           },
           {
            "bin_start": 0.4166520867209128,
            "bin_end": 0.467996873020312,
            "count": 11
           },
           {
            "bin_start": 0.467996873020312,
            "bin_end": 0.5193416593197112,
            "count": 21
           },
           {
            "bin_start": 0.5193416593197112,
            "bin_end": 0.5706864456191105,
            "count": 15
           },
           {
            "bin_start": 0.5706864456191105,
            "bin_end": 0.6220312319185097,
            "count": 2
           },
           {
            "bin_start": 0.6220312319185097,
            "bin_end": 0.6733760182179089,
            "count": 5
           },
           {
            "bin_start": 0.6733760182179089,
            "bin_end": 0.7247208045173081,
            "count": 1
           },
           {
            "bin_start": 0.7247208045173081,
            "bin_end": 0.7760655908167073,
            "count": 0
           },
           {
            "bin_start": 0.7760655908167073,
            "bin_end": 0.8274103771161065,
            "count": 1
           }
          ]
         }
        },
        {
         "name": "_deepnote_index_column",
         "dtype": "object"
        }
       ],
       "rows": [
        {
         "wins": 114,
         "losses": 19,
         "games": 133,
         "cost": 5,
         "winrate": 0.8571428571428571,
         "weighted_winrate": 0.8274103771161065,
         "_deepnote_index_column": "Veigar"
        },
        {
         "wins": 1382,
         "losses": 662,
         "games": 2044,
         "cost": 5,
         "winrate": 0.6761252446183953,
         "weighted_winrate": 0.6751219109508356,
         "_deepnote_index_column": "Galio"
        },
        {
         "wins": 7293,
         "losses": 3674,
         "games": 10967,
         "cost": 5,
         "winrate": 0.6649949849548646,
         "weighted_winrate": 0.664819728573286,
         "_deepnote_index_column": "Silco"
        },
        {
         "wins": 5449,
         "losses": 2960,
         "games": 8409,
         "cost": 5,
         "winrate": 0.6479961945534546,
         "weighted_winrate": 0.6477929359223883,
         "_deepnote_index_column": "Jinx"
        },
        {
         "wins": 5535,
         "losses": 3047,
         "games": 8582,
         "cost": 5,
         "winrate": 0.6449545560475414,
         "weighted_winrate": 0.644759812655814,
         "_deepnote_index_column": "Jayce"
        },
        {
         "wins": 2942,
         "losses": 1651,
         "games": 4593,
         "cost": 5,
         "winrate": 0.6405399521010233,
         "weighted_winrate": 0.6401885158767546,
         "_deepnote_index_column": "Kaisa"
        },
        {
         "wins": 4335,
         "losses": 2516,
         "games": 6851,
         "cost": 5,
         "winrate": 0.6327543424317618,
         "weighted_winrate": 0.6325327034123105,
         "_deepnote_index_column": "Viktor"
        },
        {
         "wins": 3262,
         "losses": 2055,
         "games": 5317,
         "cost": 5,
         "winrate": 0.6135038555576453,
         "weighted_winrate": 0.6132635725434644,
         "_deepnote_index_column": "TahmKench"
        },
        {
         "wins": 2827,
         "losses": 1946,
         "games": 4773,
         "cost": 5,
         "winrate": 0.5922899643829876,
         "weighted_winrate": 0.592077778679426,
         "_deepnote_index_column": "Zeri"
        },
        {
         "wins": 2371,
         "losses": 1898,
         "games": 4269,
         "cost": 4,
         "winrate": 0.5553993909580698,
         "weighted_winrate": 0.5552699310686426,
         "_deepnote_index_column": "KhaZix"
        }
       ]
      },
      "text/plain": "             wins  losses  games  cost   winrate  weighted_winrate\nunits                                                             \nAhri         3275    3303   6578   4.0  0.497872          0.497897\nAlistar      2051    1767   3818   4.0  0.537192          0.537107\nAshe          600     809   1409   2.0  0.425834          0.426583\nBlitzcrank   4696    4379   9075   2.0  0.517466          0.517457\nBrand        1181    1469   2650   1.0  0.445660          0.445967\nBraum        6980    6672  13652   4.0  0.511280          0.511280\nCaitlyn       591     670   1261   1.0  0.468676          0.469092\nCamille      2640    2662   5302   1.0  0.497925          0.497956\nChoGath       852     954   1806   3.0  0.471761          0.472031\nCorki        1324    1717   3041   2.0  0.435383          0.435693\nDarius        877    1233   2110   1.0  0.415640          0.416202\nDraven       2475    2480   4955   4.0  0.499495          0.499525\nEkko         6016    5035  11051   3.0  0.544385          0.544347\nEzreal       2161    1963   4124   1.0  0.524006          0.523967\nGalio        1382     662   2044   5.0  0.676125          0.675122\nGangplank    1143    1539   2682   3.0  0.426174          0.426568\nGnar         4483    4629   9112   3.0  0.491989          0.492015\nIllaoi        352     777   1129   1.0  0.311780          0.313963\nIrelia       4442    3904   8346   4.0  0.532231          0.532199\nJarvanIV     3112    2774   5886   1.0  0.528712          0.528675\nJayce        5535    3047   8582   5.0  0.644955          0.644760\nJhin         3660    3173   6833   4.0  0.535636          0.535591\nJinx         5449    2960   8409   5.0  0.647996          0.647793\nKaisa        2942    1651   4593   5.0  0.640540          0.640189\nKassadin     1371    1328   2699   1.0  0.507966          0.507980\nKhaZix       2371    1898   4269   4.0  0.555399          0.555270\nLeona        3530    4108   7638   3.0  0.462163          0.462243\nLucian       2930    3103   6033   3.0  0.485662          0.485715\nLulu         1065    1491   2556   2.0  0.416667          0.417126\nMalzahar     3536    3714   7250   3.0  0.487724          0.487764\nMissFortune   824    1251   2075   3.0  0.397108          0.397791\nMorgana      2984    3744   6728   3.0  0.443520          0.443645\nNocturne      947     868   1815   1.0  0.521763          0.521690\nOrianna      6424    5253  11677   4.0  0.550141          0.550100\nPoppy         381     617    998   1.0  0.381764          0.383363\nQuinn        1576    1653   3229   2.0  0.488077          0.488165\nRekSai       3679    4111   7790   2.0  0.472272          0.472334\nRenata       2043    1863   3906   4.0  0.523041          0.523003\nSejuani      3894    4398   8292   2.0  0.469609          0.469672\nSenna        3367    3567   6934   3.0  0.485578          0.485624\nSeraphine    4538    4050   8588   4.0  0.528412          0.528387\nSilco        7293    3674  10967   5.0  0.664995          0.664820\nSinged       1731    1770   3501   1.0  0.494430          0.494489\nSivir        4232    3736   7968   4.0  0.531124          0.531093\nSwain        2591    2945   5536   2.0  0.468027          0.468124\nSyndra       1952    2370   4322   2.0  0.451643          0.451814\nTFT6b_Vi     4995    4751   9746   4.0  0.512518          0.512516\nTahmKench    3262    2055   5317   5.0  0.613504          0.613264\nTalon        1002    1030   2032   2.0  0.493110          0.493220\nTryndamere   1761    1660   3421   3.0  0.514762          0.514748\nTwitch        768     708   1476   1.0  0.520325          0.520247\nVeigar        114      19    133   5.0  0.857143          0.827410\nVex          3007    3524   6531   3.0  0.460420          0.460516\nViktor       4335    2516   6851   5.0  0.632754          0.632533\nWarwick      2006    1838   3844   2.0  0.521852          0.521817\nZac          3252    3446   6698   3.0  0.485518          0.485566\nZeri         2827    1946   4773   5.0  0.592290          0.592078\nZiggs        2145    2513   4658   1.0  0.460498          0.460633\nZilean       2880    2623   5503   2.0  0.523351          0.523323\nZyra         2182    2566   4748   2.0  0.459562          0.459697",
      "text/html": "<div>\n<style scoped>\n    .dataframe tbody tr th:only-of-type {\n        vertical-align: middle;\n    }\n\n    .dataframe tbody tr th {\n        vertical-align: top;\n    }\n\n    .dataframe thead th {\n        text-align: right;\n    }\n</style>\n<table border=\"1\" class=\"dataframe\">\n  <thead>\n    <tr style=\"text-align: right;\">\n      <th></th>\n      <th>wins</th>\n      <th>losses</th>\n      <th>games</th>\n      <th>cost</th>\n      <th>winrate</th>\n      <th>weighted_winrate</th>\n    </tr>\n    <tr>\n      <th>units</th>\n      <th></th>\n      <th></th>\n      <th></th>\n      <th></th>\n      <th></th>\n      <th></th>\n    </tr>\n  </thead>\n  <tbody>\n    <tr>\n      <th>Ahri</th>\n      <td>3275</td>\n      <td>3303</td>\n      <td>6578</td>\n      <td>4.0</td>\n      <td>0.497872</td>\n      <td>0.497897</td>\n    </tr>\n    <tr>\n      <th>Alistar</th>\n      <td>2051</td>\n      <td>1767</td>\n      <td>3818</td>\n      <td>4.0</td>\n      <td>0.537192</td>\n      <td>0.537107</td>\n    </tr>\n    <tr>\n      <th>Ashe</th>\n      <td>600</td>\n      <td>809</td>\n      <td>1409</td>\n      <td>2.0</td>\n      <td>0.425834</td>\n      <td>0.426583</td>\n    </tr>\n    <tr>\n      <th>Blitzcrank</th>\n      <td>4696</td>\n      <td>4379</td>\n      <td>9075</td>\n      <td>2.0</td>\n      <td>0.517466</td>\n      <td>0.517457</td>\n    </tr>\n    <tr>\n      <th>Brand</th>\n      <td>1181</td>\n      <td>1469</td>\n      <td>2650</td>\n      <td>1.0</td>\n      <td>0.445660</td>\n      <td>0.445967</td>\n    </tr>\n    <tr>\n      <th>Braum</th>\n      <td>6980</td>\n      <td>6672</td>\n      <td>13652</td>\n      <td>4.0</td>\n      <td>0.511280</td>\n      <td>0.511280</td>\n    </tr>\n    <tr>\n      <th>Caitlyn</th>\n      <td>591</td>\n      <td>670</td>\n      <td>1261</td>\n      <td>1.0</td>\n      <td>0.468676</td>\n      <td>0.469092</td>\n    </tr>\n    <tr>\n      <th>Camille</th>\n      <td>2640</td>\n      <td>2662</td>\n      <td>5302</td>\n      <td>1.0</td>\n      <td>0.497925</td>\n      <td>0.497956</td>\n    </tr>\n    <tr>\n      <th>ChoGath</th>\n      <td>852</td>\n      <td>954</td>\n      <td>1806</td>\n      <td>3.0</td>\n      <td>0.471761</td>\n      <td>0.472031</td>\n    </tr>\n    <tr>\n      <th>Corki</th>\n      <td>1324</td>\n      <td>1717</td>\n      <td>3041</td>\n      <td>2.0</td>\n      <td>0.435383</td>\n      <td>0.435693</td>\n    </tr>\n    <tr>\n      <th>Darius</th>\n      <td>877</td>\n      <td>1233</td>\n      <td>2110</td>\n      <td>1.0</td>\n      <td>0.415640</td>\n      <td>0.416202</td>\n    </tr>\n    <tr>\n      <th>Draven</th>\n      <td>2475</td>\n      <td>2480</td>\n      <td>4955</td>\n      <td>4.0</td>\n      <td>0.499495</td>\n      <td>0.499525</td>\n    </tr>\n    <tr>\n      <th>Ekko</th>\n      <td>6016</td>\n      <td>5035</td>\n      <td>11051</td>\n      <td>3.0</td>\n      <td>0.544385</td>\n      <td>0.544347</td>\n    </tr>\n    <tr>\n      <th>Ezreal</th>\n      <td>2161</td>\n      <td>1963</td>\n      <td>4124</td>\n      <td>1.0</td>\n      <td>0.524006</td>\n      <td>0.523967</td>\n    </tr>\n    <tr>\n      <th>Galio</th>\n      <td>1382</td>\n      <td>662</td>\n      <td>2044</td>\n      <td>5.0</td>\n      <td>0.676125</td>\n      <td>0.675122</td>\n    </tr>\n    <tr>\n      <th>Gangplank</th>\n      <td>1143</td>\n      <td>1539</td>\n      <td>2682</td>\n      <td>3.0</td>\n      <td>0.426174</td>\n      <td>0.426568</td>\n    </tr>\n    <tr>\n      <th>Gnar</th>\n      <td>4483</td>\n      <td>4629</td>\n      <td>9112</td>\n      <td>3.0</td>\n      <td>0.491989</td>\n      <td>0.492015</td>\n    </tr>\n    <tr>\n      <th>Illaoi</th>\n      <td>352</td>\n      <td>777</td>\n      <td>1129</td>\n      <td>1.0</td>\n      <td>0.311780</td>\n      <td>0.313963</td>\n    </tr>\n    <tr>\n      <th>Irelia</th>\n      <td>4442</td>\n      <td>3904</td>\n      <td>8346</td>\n      <td>4.0</td>\n      <td>0.532231</td>\n      <td>0.532199</td>\n    </tr>\n    <tr>\n      <th>JarvanIV</th>\n      <td>3112</td>\n      <td>2774</td>\n      <td>5886</td>\n      <td>1.0</td>\n      <td>0.528712</td>\n      <td>0.528675</td>\n    </tr>\n    <tr>\n      <th>Jayce</th>\n      <td>5535</td>\n      <td>3047</td>\n      <td>8582</td>\n      <td>5.0</td>\n      <td>0.644955</td>\n      <td>0.644760</td>\n    </tr>\n    <tr>\n      <th>Jhin</th>\n      <td>3660</td>\n      <td>3173</td>\n      <td>6833</td>\n      <td>4.0</td>\n      <td>0.535636</td>\n      <td>0.535591</td>\n    </tr>\n    <tr>\n      <th>Jinx</th>\n      <td>5449</td>\n      <td>2960</td>\n      <td>8409</td>\n      <td>5.0</td>\n      <td>0.647996</td>\n      <td>0.647793</td>\n    </tr>\n    <tr>\n      <th>Kaisa</th>\n      <td>2942</td>\n      <td>1651</td>\n      <td>4593</td>\n      <td>5.0</td>\n      <td>0.640540</td>\n      <td>0.640189</td>\n    </tr>\n    <tr>\n      <th>Kassadin</th>\n      <td>1371</td>\n      <td>1328</td>\n      <td>2699</td>\n      <td>1.0</td>\n      <td>0.507966</td>\n      <td>0.507980</td>\n    </tr>\n    <tr>\n      <th>KhaZix</th>\n      <td>2371</td>\n      <td>1898</td>\n      <td>4269</td>\n      <td>4.0</td>\n      <td>0.555399</td>\n      <td>0.555270</td>\n    </tr>\n    <tr>\n      <th>Leona</th>\n      <td>3530</td>\n      <td>4108</td>\n      <td>7638</td>\n      <td>3.0</td>\n      <td>0.462163</td>\n      <td>0.462243</td>\n    </tr>\n    <tr>\n      <th>Lucian</th>\n      <td>2930</td>\n      <td>3103</td>\n      <td>6033</td>\n      <td>3.0</td>\n      <td>0.485662</td>\n      <td>0.485715</td>\n    </tr>\n    <tr>\n      <th>Lulu</th>\n      <td>1065</td>\n      <td>1491</td>\n      <td>2556</td>\n      <td>2.0</td>\n      <td>0.416667</td>\n      <td>0.417126</td>\n    </tr>\n    <tr>\n      <th>Malzahar</th>\n      <td>3536</td>\n      <td>3714</td>\n      <td>7250</td>\n      <td>3.0</td>\n      <td>0.487724</td>\n      <td>0.487764</td>\n    </tr>\n    <tr>\n      <th>MissFortune</th>\n      <td>824</td>\n      <td>1251</td>\n      <td>2075</td>\n      <td>3.0</td>\n      <td>0.397108</td>\n      <td>0.397791</td>\n    </tr>\n    <tr>\n      <th>Morgana</th>\n      <td>2984</td>\n      <td>3744</td>\n      <td>6728</td>\n      <td>3.0</td>\n      <td>0.443520</td>\n      <td>0.443645</td>\n    </tr>\n    <tr>\n      <th>Nocturne</th>\n      <td>947</td>\n      <td>868</td>\n      <td>1815</td>\n      <td>1.0</td>\n      <td>0.521763</td>\n      <td>0.521690</td>\n    </tr>\n    <tr>\n      <th>Orianna</th>\n      <td>6424</td>\n      <td>5253</td>\n      <td>11677</td>\n      <td>4.0</td>\n      <td>0.550141</td>\n      <td>0.550100</td>\n    </tr>\n    <tr>\n      <th>Poppy</th>\n      <td>381</td>\n      <td>617</td>\n      <td>998</td>\n      <td>1.0</td>\n      <td>0.381764</td>\n      <td>0.383363</td>\n    </tr>\n    <tr>\n      <th>Quinn</th>\n      <td>1576</td>\n      <td>1653</td>\n      <td>3229</td>\n      <td>2.0</td>\n      <td>0.488077</td>\n      <td>0.488165</td>\n    </tr>\n    <tr>\n      <th>RekSai</th>\n      <td>3679</td>\n      <td>4111</td>\n      <td>7790</td>\n      <td>2.0</td>\n      <td>0.472272</td>\n      <td>0.472334</td>\n    </tr>\n    <tr>\n      <th>Renata</th>\n      <td>2043</td>\n      <td>1863</td>\n      <td>3906</td>\n      <td>4.0</td>\n      <td>0.523041</td>\n      <td>0.523003</td>\n    </tr>\n    <tr>\n      <th>Sejuani</th>\n      <td>3894</td>\n      <td>4398</td>\n      <td>8292</td>\n      <td>2.0</td>\n      <td>0.469609</td>\n      <td>0.469672</td>\n    </tr>\n    <tr>\n      <th>Senna</th>\n      <td>3367</td>\n      <td>3567</td>\n      <td>6934</td>\n      <td>3.0</td>\n      <td>0.485578</td>\n      <td>0.485624</td>\n    </tr>\n    <tr>\n      <th>Seraphine</th>\n      <td>4538</td>\n      <td>4050</td>\n      <td>8588</td>\n      <td>4.0</td>\n      <td>0.528412</td>\n      <td>0.528387</td>\n    </tr>\n    <tr>\n      <th>Silco</th>\n      <td>7293</td>\n      <td>3674</td>\n      <td>10967</td>\n      <td>5.0</td>\n      <td>0.664995</td>\n      <td>0.664820</td>\n    </tr>\n    <tr>\n      <th>Singed</th>\n      <td>1731</td>\n      <td>1770</td>\n      <td>3501</td>\n      <td>1.0</td>\n      <td>0.494430</td>\n      <td>0.494489</td>\n    </tr>\n    <tr>\n      <th>Sivir</th>\n      <td>4232</td>\n      <td>3736</td>\n      <td>7968</td>\n      <td>4.0</td>\n      <td>0.531124</td>\n      <td>0.531093</td>\n    </tr>\n    <tr>\n      <th>Swain</th>\n      <td>2591</td>\n      <td>2945</td>\n      <td>5536</td>\n      <td>2.0</td>\n      <td>0.468027</td>\n      <td>0.468124</td>\n    </tr>\n    <tr>\n      <th>Syndra</th>\n      <td>1952</td>\n      <td>2370</td>\n      <td>4322</td>\n      <td>2.0</td>\n      <td>0.451643</td>\n      <td>0.451814</td>\n    </tr>\n    <tr>\n      <th>TFT6b_Vi</th>\n      <td>4995</td>\n      <td>4751</td>\n      <td>9746</td>\n      <td>4.0</td>\n      <td>0.512518</td>\n      <td>0.512516</td>\n    </tr>\n    <tr>\n      <th>TahmKench</th>\n      <td>3262</td>\n      <td>2055</td>\n      <td>5317</td>\n      <td>5.0</td>\n      <td>0.613504</td>\n      <td>0.613264</td>\n    </tr>\n    <tr>\n      <th>Talon</th>\n      <td>1002</td>\n      <td>1030</td>\n      <td>2032</td>\n      <td>2.0</td>\n      <td>0.493110</td>\n      <td>0.493220</td>\n    </tr>\n    <tr>\n      <th>Tryndamere</th>\n      <td>1761</td>\n      <td>1660</td>\n      <td>3421</td>\n      <td>3.0</td>\n      <td>0.514762</td>\n      <td>0.514748</td>\n    </tr>\n    <tr>\n      <th>Twitch</th>\n      <td>768</td>\n      <td>708</td>\n      <td>1476</td>\n      <td>1.0</td>\n      <td>0.520325</td>\n      <td>0.520247</td>\n    </tr>\n    <tr>\n      <th>Veigar</th>\n      <td>114</td>\n      <td>19</td>\n      <td>133</td>\n      <td>5.0</td>\n      <td>0.857143</td>\n      <td>0.827410</td>\n    </tr>\n    <tr>\n      <th>Vex</th>\n      <td>3007</td>\n      <td>3524</td>\n      <td>6531</td>\n      <td>3.0</td>\n      <td>0.460420</td>\n      <td>0.460516</td>\n    </tr>\n    <tr>\n      <th>Viktor</th>\n      <td>4335</td>\n      <td>2516</td>\n      <td>6851</td>\n      <td>5.0</td>\n      <td>0.632754</td>\n      <td>0.632533</td>\n    </tr>\n    <tr>\n      <th>Warwick</th>\n      <td>2006</td>\n      <td>1838</td>\n      <td>3844</td>\n      <td>2.0</td>\n      <td>0.521852</td>\n      <td>0.521817</td>\n    </tr>\n    <tr>\n      <th>Zac</th>\n      <td>3252</td>\n      <td>3446</td>\n      <td>6698</td>\n      <td>3.0</td>\n      <td>0.485518</td>\n      <td>0.485566</td>\n    </tr>\n    <tr>\n      <th>Zeri</th>\n      <td>2827</td>\n      <td>1946</td>\n      <td>4773</td>\n      <td>5.0</td>\n      <td>0.592290</td>\n      <td>0.592078</td>\n    </tr>\n    <tr>\n      <th>Ziggs</th>\n      <td>2145</td>\n      <td>2513</td>\n      <td>4658</td>\n      <td>1.0</td>\n      <td>0.460498</td>\n      <td>0.460633</td>\n    </tr>\n    <tr>\n      <th>Zilean</th>\n      <td>2880</td>\n      <td>2623</td>\n      <td>5503</td>\n      <td>2.0</td>\n      <td>0.523351</td>\n      <td>0.523323</td>\n    </tr>\n    <tr>\n      <th>Zyra</th>\n      <td>2182</td>\n      <td>2566</td>\n      <td>4748</td>\n      <td>2.0</td>\n      <td>0.459562</td>\n      <td>0.459697</td>\n    </tr>\n  </tbody>\n</table>\n</div>"
     },
     "metadata": {}
    }
   ],
   "execution_count": 37
  },
  {
   "cell_type": "code",
   "source": [
    "item_df = df.explode(\"units\")\n",
    "\n",
    "item_df[\"items\"] = item_df[\"units\"].apply(lambda x: x.get('items') if type(x) is dict and len(x.get('items')) == 3 else np.nan)\n",
    "item_df = item_df.dropna(subset=['items'])\n",
    "item_df = item_df.explode('items')\n",
    "\n",
    "item_df = data_vs_winrate(item_df, 'items', aggregate_funcs)\n",
    "item_df['weighted_winrate'] = get_weighted_winrate(item_df)\n",
    "\n",
    "item_df"
   ],
   "metadata": {
    "cell_id": "e0c3449143264cd5b55257e91433ff0d",
    "tags": [],
    "deepnote_to_be_reexecuted": false,
    "source_hash": "f421dde6",
    "execution_start": 1652249023420,
    "execution_millis": 817,
    "deepnote_table_state": {
     "pageSize": 10,
     "pageIndex": 8,
     "filters": [],
     "sortBy": [
      {
       "id": "weighted_winrate",
       "type": "desc"
      }
     ]
    },
    "deepnote_table_loading": false,
    "deepnote_cell_type": "code",
    "deepnote_cell_height": 794
   },
   "outputs": [
    {
     "output_type": "execute_result",
     "execution_count": 44,
     "data": {
      "application/vnd.deepnote.dataframe.v3+json": {
       "column_count": 5,
       "row_count": 111,
       "columns": [
        {
         "name": "wins",
         "dtype": "int64",
         "stats": {
          "unique_count": 94,
          "nan_count": 0,
          "min": "4",
          "max": "8156",
          "histogram": [
           {
            "bin_start": 4,
            "bin_end": 819.2,
            "count": 70
           },
           {
            "bin_start": 819.2,
            "bin_end": 1634.4,
            "count": 8
           },
           {
            "bin_start": 1634.4,
            "bin_end": 2449.6000000000004,
            "count": 6
           },
           {
            "bin_start": 2449.6000000000004,
            "bin_end": 3264.8,
            "count": 8
           },
           {
            "bin_start": 3264.8,
            "bin_end": 4080,
            "count": 8
           },
           {
            "bin_start": 4080,
            "bin_end": 4895.200000000001,
            "count": 3
           },
           {
            "bin_start": 4895.200000000001,
            "bin_end": 5710.400000000001,
            "count": 2
           },
           {
            "bin_start": 5710.400000000001,
            "bin_end": 6525.6,
            "count": 2
           },
           {
            "bin_start": 6525.6,
            "bin_end": 7340.8,
            "count": 3
           },
           {
            "bin_start": 7340.8,
            "bin_end": 8156,
            "count": 1
           }
          ]
         }
        },
        {
         "name": "losses",
         "dtype": "int64",
         "stats": {
          "unique_count": 86,
          "nan_count": 0,
          "min": "1",
          "max": "6653",
          "histogram": [
           {
            "bin_start": 1,
            "bin_end": 666.2,
            "count": 74
           },
           {
            "bin_start": 666.2,
            "bin_end": 1331.4,
            "count": 10
           },
           {
            "bin_start": 1331.4,
            "bin_end": 1996.6000000000001,
            "count": 10
           },
           {
            "bin_start": 1996.6000000000001,
            "bin_end": 2661.8,
            "count": 4
           },
           {
            "bin_start": 2661.8,
            "bin_end": 3327,
            "count": 5
           },
           {
            "bin_start": 3327,
            "bin_end": 3992.2000000000003,
            "count": 1
           },
           {
            "bin_start": 3992.2000000000003,
            "bin_end": 4657.400000000001,
            "count": 2
           },
           {
            "bin_start": 4657.400000000001,
            "bin_end": 5322.6,
            "count": 2
           },
           {
            "bin_start": 5322.6,
            "bin_end": 5987.8,
            "count": 2
           },
           {
            "bin_start": 5987.8,
            "bin_end": 6653,
            "count": 1
           }
          ]
         }
        },
        {
         "name": "games",
         "dtype": "int64",
         "stats": {
          "unique_count": 98,
          "nan_count": 0,
          "min": "7",
          "max": "14809",
          "histogram": [
           {
            "bin_start": 7,
            "bin_end": 1487.2,
            "count": 72
           },
           {
            "bin_start": 1487.2,
            "bin_end": 2967.4,
            "count": 10
           },
           {
            "bin_start": 2967.4,
            "bin_end": 4447.6,
            "count": 4
           },
           {
            "bin_start": 4447.6,
            "bin_end": 5927.8,
            "count": 12
           },
           {
            "bin_start": 5927.8,
            "bin_end": 7408,
            "count": 2
           },
           {
            "bin_start": 7408,
            "bin_end": 8888.2,
            "count": 4
           },
           {
            "bin_start": 8888.2,
            "bin_end": 10368.4,
            "count": 1
           },
           {
            "bin_start": 10368.4,
            "bin_end": 11848.6,
            "count": 3
           },
           {
            "bin_start": 11848.6,
            "bin_end": 13328.800000000001,
            "count": 2
           },
           {
            "bin_start": 13328.800000000001,
            "bin_end": 14809,
            "count": 1
           }
          ]
         }
        },
        {
         "name": "winrate",
         "dtype": "float64",
         "stats": {
          "unique_count": 106,
          "nan_count": 0,
          "min": "0.38461538461538464",
          "max": "0.9444444444444444",
          "histogram": [
           {
            "bin_start": 0.38461538461538464,
            "bin_end": 0.44059829059829064,
            "count": 3
           },
           {
            "bin_start": 0.44059829059829064,
            "bin_end": 0.4965811965811966,
            "count": 4
           },
           {
            "bin_start": 0.4965811965811966,
            "bin_end": 0.5525641025641026,
            "count": 9
           },
           {
            "bin_start": 0.5525641025641026,
            "bin_end": 0.6085470085470086,
            "count": 32
           },
           {
            "bin_start": 0.6085470085470086,
            "bin_end": 0.6645299145299146,
            "count": 38
           },
           {
            "bin_start": 0.6645299145299146,
            "bin_end": 0.7205128205128206,
            "count": 17
           },
           {
            "bin_start": 0.7205128205128206,
            "bin_end": 0.7764957264957265,
            "count": 6
           },
           {
            "bin_start": 0.7764957264957265,
            "bin_end": 0.8324786324786325,
            "count": 1
           },
           {
            "bin_start": 0.8324786324786325,
            "bin_end": 0.8884615384615384,
            "count": 0
           },
           {
            "bin_start": 0.8884615384615384,
            "bin_end": 0.9444444444444444,
            "count": 1
           }
          ]
         }
        },
        {
         "name": "weighted_winrate",
         "dtype": "float64",
         "stats": {
          "unique_count": 111,
          "nan_count": 0,
          "min": "0.49730374653084236",
          "max": "0.8092211651323435",
          "histogram": [
           {
            "bin_start": 0.49730374653084236,
            "bin_end": 0.5284954883909925,
            "count": 7
           },
           {
            "bin_start": 0.5284954883909925,
            "bin_end": 0.5596872302511426,
            "count": 12
           },
           {
            "bin_start": 0.5596872302511426,
            "bin_end": 0.5908789721112927,
            "count": 18
           },
           {
            "bin_start": 0.5908789721112927,
            "bin_end": 0.6220707139714429,
            "count": 25
           },
           {
            "bin_start": 0.6220707139714429,
            "bin_end": 0.6532624558315929,
            "count": 24
           },
           {
            "bin_start": 0.6532624558315929,
            "bin_end": 0.6844541976917431,
            "count": 14
           },
           {
            "bin_start": 0.6844541976917431,
            "bin_end": 0.7156459395518933,
            "count": 5
           },
           {
            "bin_start": 0.7156459395518933,
            "bin_end": 0.7468376814120433,
            "count": 5
           },
           {
            "bin_start": 0.7468376814120433,
            "bin_end": 0.7780294232721934,
            "count": 0
           },
           {
            "bin_start": 0.7780294232721934,
            "bin_end": 0.8092211651323435,
            "count": 1
           }
          ]
         }
        },
        {
         "name": "_deepnote_index_column",
         "dtype": "object"
        }
       ],
       "rows": [
        {
         "wins": 3713,
         "losses": 2705,
         "games": 6418,
         "winrate": 0.5785291368027423,
         "weighted_winrate": 0.5785990584770293,
         "_deepnote_index_column": "Jeweled Gauntlet"
        },
        {
         "wins": 6320,
         "losses": 4611,
         "games": 10931,
         "winrate": 0.578172170890129,
         "weighted_winrate": 0.5782136652384097,
         "_deepnote_index_column": "Last Whisper"
        },
        {
         "wins": 7313,
         "losses": 5387,
         "games": 12700,
         "winrate": 0.5758267716535433,
         "weighted_winrate": 0.5758647980756371,
         "_deepnote_index_column": "Quicksilver"
        },
        {
         "wins": 62,
         "losses": 47,
         "games": 109,
         "winrate": 0.5688073394495413,
         "weighted_winrate": 0.5735081937163496,
         "_deepnote_index_column": "Randuin's Sanctum"
        },
        {
         "wins": 908,
         "losses": 677,
         "games": 1585,
         "winrate": 0.5728706624605678,
         "weighted_winrate": 0.5731963978319478,
         "_deepnote_index_column": "Tear of the Goddess"
        },
        {
         "wins": 156,
         "losses": 118,
         "games": 274,
         "winrate": 0.5693430656934306,
         "weighted_winrate": 0.5713132479460261,
         "_deepnote_index_column": "Gold Collector"
        },
        {
         "wins": 127,
         "losses": 98,
         "games": 225,
         "winrate": 0.5644444444444444,
         "weighted_winrate": 0.5670789285748905,
         "_deepnote_index_column": "Obsidian Cleaver"
        },
        {
         "wins": 7083,
         "losses": 5419,
         "games": 12502,
         "winrate": 0.5665493521036634,
         "weighted_winrate": 0.5665972468365924,
         "_deepnote_index_column": "Giant Slayer"
        },
        {
         "wins": 86,
         "losses": 67,
         "games": 153,
         "winrate": 0.5620915032679739,
         "weighted_winrate": 0.5660498219730301,
         "_deepnote_index_column": "Zhonya's Paradox"
        },
        {
         "wins": 709,
         "losses": 548,
         "games": 1257,
         "winrate": 0.5640413683373111,
         "weighted_winrate": 0.5645382005014072,
         "_deepnote_index_column": "B.F. Sword"
        }
       ]
      },
      "text/plain": "                    wins  losses  games   winrate  weighted_winrate\nitems                                                              \nAnima Visage         143     117    260  0.550000          0.552959\nArcanist Emblem      789     459   1248  0.632212          0.632036\nArchangel's Staff   1624     845   2469  0.657756          0.657538\nAssassin Emblem      721     406   1127  0.639752          0.639475\nB.F. Sword           709     548   1257  0.564041          0.564538\n...                  ...     ...    ...       ...               ...\nZenith Edge           14       7     21  0.666667          0.647201\nZephyr              1108     600   1708  0.648712          0.648463\nZhonya's Paradox      86      67    153  0.562092          0.566050\nZz'Rot Portal       1344     683   2027  0.663049          0.662751\nZz'Rots Invitation     6       3      9  0.666667          0.636337\n\n[111 rows x 5 columns]",
      "text/html": "<div>\n<style scoped>\n    .dataframe tbody tr th:only-of-type {\n        vertical-align: middle;\n    }\n\n    .dataframe tbody tr th {\n        vertical-align: top;\n    }\n\n    .dataframe thead th {\n        text-align: right;\n    }\n</style>\n<table border=\"1\" class=\"dataframe\">\n  <thead>\n    <tr style=\"text-align: right;\">\n      <th></th>\n      <th>wins</th>\n      <th>losses</th>\n      <th>games</th>\n      <th>winrate</th>\n      <th>weighted_winrate</th>\n    </tr>\n    <tr>\n      <th>items</th>\n      <th></th>\n      <th></th>\n      <th></th>\n      <th></th>\n      <th></th>\n    </tr>\n  </thead>\n  <tbody>\n    <tr>\n      <th>Anima Visage</th>\n      <td>143</td>\n      <td>117</td>\n      <td>260</td>\n      <td>0.550000</td>\n      <td>0.552959</td>\n    </tr>\n    <tr>\n      <th>Arcanist Emblem</th>\n      <td>789</td>\n      <td>459</td>\n      <td>1248</td>\n      <td>0.632212</td>\n      <td>0.632036</td>\n    </tr>\n    <tr>\n      <th>Archangel's Staff</th>\n      <td>1624</td>\n      <td>845</td>\n      <td>2469</td>\n      <td>0.657756</td>\n      <td>0.657538</td>\n    </tr>\n    <tr>\n      <th>Assassin Emblem</th>\n      <td>721</td>\n      <td>406</td>\n      <td>1127</td>\n      <td>0.639752</td>\n      <td>0.639475</td>\n    </tr>\n    <tr>\n      <th>B.F. Sword</th>\n      <td>709</td>\n      <td>548</td>\n      <td>1257</td>\n      <td>0.564041</td>\n      <td>0.564538</td>\n    </tr>\n    <tr>\n      <th>...</th>\n      <td>...</td>\n      <td>...</td>\n      <td>...</td>\n      <td>...</td>\n      <td>...</td>\n    </tr>\n    <tr>\n      <th>Zenith Edge</th>\n      <td>14</td>\n      <td>7</td>\n      <td>21</td>\n      <td>0.666667</td>\n      <td>0.647201</td>\n    </tr>\n    <tr>\n      <th>Zephyr</th>\n      <td>1108</td>\n      <td>600</td>\n      <td>1708</td>\n      <td>0.648712</td>\n      <td>0.648463</td>\n    </tr>\n    <tr>\n      <th>Zhonya's Paradox</th>\n      <td>86</td>\n      <td>67</td>\n      <td>153</td>\n      <td>0.562092</td>\n      <td>0.566050</td>\n    </tr>\n    <tr>\n      <th>Zz'Rot Portal</th>\n      <td>1344</td>\n      <td>683</td>\n      <td>2027</td>\n      <td>0.663049</td>\n      <td>0.662751</td>\n    </tr>\n    <tr>\n      <th>Zz'Rots Invitation</th>\n      <td>6</td>\n      <td>3</td>\n      <td>9</td>\n      <td>0.666667</td>\n      <td>0.636337</td>\n    </tr>\n  </tbody>\n</table>\n<p>111 rows × 5 columns</p>\n</div>"
     },
     "metadata": {}
    }
   ],
   "execution_count": 38
  },
  {
   "outputs": [],
   "execution_count": 44,
   "cell_type": "code",
   "source": [],
   "metadata": {
    "cell_id": "f78b4a768292472bb7598d2eee7476d6",
    "tags": [],
    "deepnote_to_be_reexecuted": false,
    "source_hash": "4bfe5daa",
    "execution_start": 1652250298188,
    "execution_millis": 1,
    "deepnote_cell_type": "code",
    "deepnote_cell_height": 81,
    "pycharm": {
     "name": "#%%\n"
    }
   }
  }
 ],
 "nbformat": 4,
 "nbformat_minor": 4,
 "metadata": {
  "interpreter": {
   "hash": "08f6edec437538b5993be24a8d19dd1bd66f0a7ae79d727201cebd80cd580c21"
  },
  "kernelspec": {
   "display_name": "Python 3.9.2 64-bit",
   "language": "python",
   "name": "python3"
  },
  "language_info": {
   "codemirror_mode": {
    "name": "ipython",
    "version": 3
   },
   "file_extension": ".py",
   "mimetype": "text/x-python",
   "name": "python",
   "nbconvert_exporter": "python",
   "pygments_lexer": "ipython3",
   "version": "3.9.2"
  },
  "deepnote_notebook_id": "6db1920a-112c-4c94-8cbc-e20dfac9f579",
  "deepnote": {},
  "deepnote_execution_queue": []
 }
}