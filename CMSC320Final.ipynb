{
 "cells": [
  {
   "cell_type": "markdown",
   "source": [
    "<center><img src=\"TFT.jpg\"/></center>"
   ],
   "metadata": {
    "collapsed": false
   }
  },
  {
   "cell_type": "markdown",
   "metadata": {
    "collapsed": true,
    "pycharm": {
     "name": "#%% md\n"
    }
   },
   "source": [
    "# <center>Predicting the Best Strategy to Win in Teamfight Tactics</center>"
   ]
  },
  {
   "cell_type": "markdown",
   "source": [
    "**<center>Jason Dang, Nhat-Nguyen Vo, Wisely Kong</center>**"
   ],
   "metadata": {
    "collapsed": false
   }
  },
  {
   "cell_type": "markdown",
   "source": [],
   "metadata": {
    "collapsed": false
   }
  },
  {
   "cell_type": "markdown",
   "source": [
    "Teamfight Tactics (TFT) is an auto battler game developed by Riot Games. Auto battlers are strategy based games in which the player is given preparation time in order to assemble a chess-like board with various units in order to fight an opposing player's board. These fights between boards do not receive any additional input from its players, as the units automatically move and attack until the enemy's board has no units.\n",
    "\n",
    "Since TFT is a rather complex strategy game, there a variety of concepts to understand about the game.\n",
    "\n",
    "In the game of TFT, there are 8 players per game. The main objective in each game is to be among the last 4 players left alive, as the game considers \"Top 4\" to be a moral victory. But in order to truly win a game of TFT, a player must obviously be the last player left alive. The main factors that go into a player's game are: their Health, Gold, Level, Units, Augments, and Components/Items.\n",
    "\n",
    "- Health: Each player starts off with 100 Health. When a player loses a battle, their health is reduced based on how long the game has lasted and how many units are remaining on the board. At 0 Health, the player is defeated.\n",
    "- Gold: During each preparation phase, the player is given Gold to utilize in order to make their board as strong as possible. Players can spend their Gold on either Levels or Units in order to do so.\n",
    "- Level: The amount of units a player can place on their board is dependent on their current level. A player at level 3 can only place 3 units, level 4 can only place 4 units, and so on. The player naturally levels up as the game progresses but can also utilize their Gold during the preparation phase to level up faster.\n",
    "- Units: During the preparation phase before facing against an opposing player's board, the player is presented a \"Shop\" with 5 Units in which they can utilize their Gold in order to purchase and place on their board for the next fight. The player can choose to use their Gold instead to re-roll the Shop to choose from 5 different choices. The Units in the Shop have three important aspects: Traits, Cost, and Rarity\n",
    "    - Traits: Units have \"Traits\" that grant special effects for Unit with the Trait, but these effects can only be activated when a certain number of unique Units (with the Trait) are placed on the board at the same time. The more Units of the same trait, the stronger the effect.\n",
    "    - Cost: When Units appear in the Shop, they cost a certain amount of Gold to purchase. The amount a Unit costs relates to how powerful the Unit is, where a Unit costing 1 Gold (the lowest amount) is comparatively weaker to a Unit costing 5 Gold (the highest amount). In addition, the Cost of a Unit relates to how often they would appear in a Shop, where a 1 Gold Unit will appear more often than a 5 Gold Unit.\n",
    "    - Rarity: When first purchased from the Shop, Units starts at \"1-Star\". When 3 of the same Unit is purchased the Unit upgrades into \"2-Star\", in which the Unit's strength is increased. When 3 \"2-Star\" Units (of the same type) are made, the Unit becomes a \"3-Star\". The likelihood of reaching \"3-Star\" is more likely for lower Cost Units (1, 2, 3 Cost Units) compared to higher Cost Units (4, 5 Cost Units) due to how often lower Cost Units appear in the Shop.\n",
    "- Augments: In certain intervals of the game players are presented with 3 options that provides a variety of benefits to the player, by either making certain Traits stronger or being granted multiple 5 Cost Units for free. Players can only have 3 Augments per game.\n",
    "- Components/Items: In certain intervals of the game, players are granted Components in which they can place on their Units to make them stronger. When two Components are combined, an Item is created that grants special effects for that specific Units. A Unit can only have a maximum of 3 Items / Components and cannot be interchanged once placed.\n",
    "\n",
    "<center><img src=\"TFT_Example.png\" width=1200 height=1200/></center> <center><img src=\"Augments.png\" width=1200 height=1200/></center>"
   ],
   "metadata": {
    "collapsed": false,
    "pycharm": {
     "name": "#%% md\n"
    }
   }
  },
  {
   "cell_type": "markdown",
   "source": [
    "(Insert Motivation and What we're doing here)\n"
   ],
   "metadata": {
    "collapsed": false
   }
  },
  {
   "cell_type": "code",
   "execution_count": null,
   "outputs": [],
   "source": [],
   "metadata": {
    "collapsed": false,
    "pycharm": {
     "name": "#%%\n"
    }
   }
  }
 ],
 "metadata": {
  "kernelspec": {
   "display_name": "Python 3",
   "language": "python",
   "name": "python3"
  },
  "language_info": {
   "codemirror_mode": {
    "name": "ipython",
    "version": 2
   },
   "file_extension": ".py",
   "mimetype": "text/x-python",
   "name": "python",
   "nbconvert_exporter": "python",
   "pygments_lexer": "ipython2",
   "version": "2.7.6"
  }
 },
 "nbformat": 4,
 "nbformat_minor": 0
}